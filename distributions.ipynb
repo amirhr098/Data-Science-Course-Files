{
 "cells": [
  {
   "cell_type": "code",
   "execution_count": 2,
   "metadata": {},
   "outputs": [],
   "source": [
    "from scipy import stats\n",
    "import matplotlib.pyplot as plt\n",
    "import seaborn as sns\n",
    "import numpy as np"
   ]
  },
  {
   "cell_type": "code",
   "execution_count": 7,
   "metadata": {},
   "outputs": [],
   "source": [
    "data_normal = stats.norm.rvs(size=100000, loc=0, scale=1)"
   ]
  },
  {
   "cell_type": "code",
   "execution_count": 8,
   "metadata": {},
   "outputs": [
    {
     "data": {
      "text/plain": [
       "<matplotlib.axes._subplots.AxesSubplot at 0x7f49973bedd0>"
      ]
     },
     "execution_count": 8,
     "metadata": {},
     "output_type": "execute_result"
    },
    {
     "data": {
      "image/png": "[encoded data removed]",
      "text/plain": [
       "<Figure size 432x288 with 1 Axes>"
      ]
     },
     "metadata": {
      "needs_background": "light"
     },
     "output_type": "display_data"
    }
   ],
   "source": [
    "sns.distplot(data_normal, bins=100, kde=False)"
   ]
  },
  {
   "cell_type": "code",
   "execution_count": 13,
   "metadata": {},
   "outputs": [],
   "source": [
    "data_uniform = stats.uniform.rvs(size=100000, loc=0, scale=10)"
   ]
  },
  {
   "cell_type": "code",
   "execution_count": 14,
   "metadata": {},
   "outputs": [
    {
     "data": {
      "text/plain": [
       "<matplotlib.axes._subplots.AxesSubplot at 0x7f499543b410>"
      ]
     },
     "execution_count": 14,
     "metadata": {},
     "output_type": "execute_result"
    },
    {
     "data": {
      "image/png": "[encoded data removed]",
      "text/plain": [
       "<Figure size 432x288 with 1 Axes>"
      ]
     },
     "metadata": {
      "needs_background": "light"
     },
     "output_type": "display_data"
    }
   ],
   "source": [
    "sns.distplot(data_uniform, bins=100, kde=False)"
   ]
  },
  {
   "cell_type": "code",
   "execution_count": 18,
   "metadata": {},
   "outputs": [
    {
     "name": "stdout",
     "output_type": "stream",
     "text": [
      "[0 0 0 0 0 0 0 0 1 1 0 0 1 0 0 1 0 0 0 0 0 0 0 0 0 0 0 0 0 0 1 0 0 0 0 0 0\n",
      " 0 0 0 0 0 0 1 0 0 1 1 0 0 0 1 1 1 0 1 1 0 0 0 0 0 0 0 1 0 1 1 1 0 0 0 0 1\n",
      " 0 0 1 0 0 0 0 0 0 0 0 0 0 0 1 1 1 0 0 0 0 1 0 0 0 0 0 0 0 0 0 1 0 0 1 0 0\n",
      " 0 0 0 0 1 0 0 0 0 0 1 1 0 1 1 0 0 0 0 0 0 0 0 0 0 1 0 0 0 1 0 0 0 1 0 0 0\n",
      " 0 1 0 0 0 0 1 0 0 0 0 1 0 0 0 0 1 0 0 0 0 1 0 1 0 1 1 0 0 0 0 0 0 1 0 0 0\n",
      " 0 0 1 0 0 0 0 0 0 0 0 1 1 0 0 0 0 0 0 0 0 0 0 0 0 0 0 0 0 1 1 1 0 0 0 0 1\n",
      " 0 0 0 0 1 0 1 0 0 1 0 0 0 0 0 0 0 0 0 0 0 0 0 0 0 0 0 1 1 1 0 0 0 0 0 0 0\n",
      " 0 0 0 0 0 0 0 0 0 0 0 0 0 0 0 0 1 0 1 0 0 0 0 0 0 0 0 0 1 0 0 1 0 0 1 0 0\n",
      " 1 0 0 0 1 0 1 0 0 0 0 0 0 0 0 0 1 0 1 0 0 0 0 1 0 0 0 0 0 1 0 0 0 0 0 0 0\n",
      " 0 0 1 0 0 1 0 0 0 0 0 0 0 0 1 1 1 0 1 0 0 0 0 0 0 0 0 1 0 0 0 0 0 1 0 0 0\n",
      " 1 0 0 0 1 0 1 0 0 0 0 0 1 0 0 0 0 0 0 1 0 0 0 0 0 0 0 1 0 0 0 0 0 1 1 0 0\n",
      " 0 0 0 0 0 0 0 0 0 0 0 0 0 0 0 0 0 0 0 1 1 0 0 0 1 0 1 0 0 0 0 1 0 1 0 1 0\n",
      " 0 0 0 1 0 0 0 0 1 0 0 0 1 0 1 0 1 0 0 0 0 0 1 1 0 1 0 0 0 1 0 0 0 0 0 0 0\n",
      " 1 1 1 0 0 0 0 0 0 0 0 0 0 0 1 1 1 0 0 0 0 0 0 1 0 0 0 0 0 0 0 1 0 0 0 0 0\n",
      " 0 1 0 0 0 0 0 0 0 0 1 1 0 1 0 1 0 0 0 0 1 0 0 0 0 0 0 0 0 0 1 0 0 0 0 0 0\n",
      " 1 0 0 0 1 0 0 0 0 0 0 0 0 0 0 0 0 1 1 1 0 0 0 0 0 1 0 0 1 0 0 0 0 0 0 0 0\n",
      " 0 0 0 0 0 0 0 0 0 0 0 0 1 0 0 0 0 1 0 1 0 0 0 0 0 0 0 0 0 0 1 0 1 1 0 0 0\n",
      " 0 1 0 0 0 1 0 0 0 0 0 0 0 1 0 0 1 0 1 0 0 0 1 0 0 0 0 0 0 0 0 1 0 1 0 0 0\n",
      " 1 0 1 0 1 0 0 1 1 0 1 1 1 0 0 1 1 0 0 0 0 0 0 1 0 0 0 0 0 1 0 0 1 0 0 0 0\n",
      " 0 0 0 0 0 0 1 1 0 0 0 0 1 0 0 0 1 0 0 0 0 0 0 0 0 1 0 0 1 1 0 0 0 1 1 1 0\n",
      " 1 0 0 1 0 1 0 0 0 0 0 0 0 0 0 0 0 1 1 0 1 0 1 0 0 1 0 0 1 0 1 0 0 0 0 1 1\n",
      " 0 0 0 0 0 0 0 1 0 1 0 1 0 0 0 1 0 1 0 0 0 0 0 0 0 0 0 0 1 0 0 0 1 1 0 0 0\n",
      " 0 0 0 0 0 0 0 0 0 0 1 0 0 0 0 1 0 0 0 0 0 0 0 0 0 0 0 0 0 0 0 0 0 0 0 0 0\n",
      " 0 0 0 1 0 0 1 0 0 0 0 0 1 0 0 1 0 0 0 0 1 0 0 1 0 0 1 0 0 0 0 1 0 0 0 0 0\n",
      " 0 0 0 0 0 0 0 0 1 0 0 0 0 0 1 1 0 0 0 1 0 0 0 0 1 0 0 0 1 0 1 0 0 0 0 0 0\n",
      " 1 0 0 0 1 0 1 0 0 1 0 0 0 0 0 0 0 1 1 0 0 0 0 0 0 1 0 1 0 1 1 0 0 0 1 1 0\n",
      " 0 0 0 0 0 0 0 0 1 0 0 0 0 0 0 0 1 1 0 0 0 0 0 0 1 1 0 0 0 0 0 0 1 1 1 0 1\n",
      " 0]\n"
     ]
    }
   ],
   "source": [
    "data_benouli = stats.bernoulli.rvs(size=1000, p=0.2)\n",
    "print(data_benouli)"
   ]
  },
  {
   "cell_type": "code",
   "execution_count": 19,
   "metadata": {},
   "outputs": [
    {
     "data": {
      "text/plain": [
       "<matplotlib.axes._subplots.AxesSubplot at 0x7f499533ce10>"
      ]
     },
     "execution_count": 19,
     "metadata": {},
     "output_type": "execute_result"
    },
    {
     "data": {
      "image/png": "[encoded data removed]",
      "text/plain": [
       "<Figure size 432x288 with 1 Axes>"
      ]
     },
     "metadata": {
      "needs_background": "light"
     },
     "output_type": "display_data"
    }
   ],
   "source": [
    "sns.distplot(data_benouli, bins=100, kde=False)"
   ]
  },
  {
   "cell_type": "code",
   "execution_count": 25,
   "metadata": {},
   "outputs": [
    {
     "name": "stdout",
     "output_type": "stream",
     "text": [
      "[19 17 19 26 19 16 23 15 21 26 21 21 20 17 17 22 19 17 11 22 23 17 18 23\n",
      " 21 25 29 30 17 22 16 27 17 21 22 20 17 17 25 24 22 14 23 18 15 16 20 19\n",
      " 16 14 22 26 23 21 16 26 24 26 23 12 18 12 17 15 21 27 24 12 19 23 20 18\n",
      " 20 15 25 22 21 23 24 26 21 17 18 22 20 25 18 25 20 24 17 24 25 23 24 16\n",
      " 22 16 18 18 18 21 24 21 30 22 28 24 18 25 18 21 18 21 27 19 22 19 19 18\n",
      " 19 18 18 17 21 21 20 21 26 18 22 22 19 13 20 19 21 16 19 25 18 20 21 25\n",
      " 18 17 29 24 19 17 23 21 17 23 18 17 21 21 24 15 16 19 18 18 32 32 19 28\n",
      " 19 17 19 13 22 20 17 21 17 18 20 18 18 19 21 17 12 19 19 25 25 16 19 20\n",
      " 14 22 24 18 21 22 18 21 20 26 18 25 25 18 19 20 18 18 22 19 20 17 27 21\n",
      " 24 22 24 21 22 20 19 13 21 24 15 21 19 15 21 14 22 26 19 25 21 22 24 19\n",
      " 16 24 21 21 23 18 21 16 23 21 22 25 27 24 16 23 19 20 18 14 26 30 24 17\n",
      " 16 15 23 15 22 20 15 27 18 16 21 21 11 27 19 21 21 16 25 16 18 14 18 24\n",
      " 26 16 14 17 24 20 21 13 18 14 22 25 23 17 17 23 24 22 18 19 20 16 20 25\n",
      " 21 20 23 15 22 20 36 19 18 19 17 17 24 17 12 18 24 18 17 20 23 21 28 18\n",
      " 11 20 19 18 25 16 28 10 25 15 18 15 28 19 19 19 21 19 23 22 30 23 15 14\n",
      " 25 21 21 16 16 22 24 15 11 22 16 11 23 16 12 13 21 16 28 21 18 16 20 23\n",
      " 14 16 17 23 20 17 27 22 18 18 22 25 25 23 24 20 20 20 20 15 15 19 17 21\n",
      " 27 23 17 16 32 20 18 18 23 19 19 21 20 21 17 19 27 18 15 25 19 21 18 19\n",
      " 21 26 17 17 18 23 15 19 14 18 17 24 17 22 20 18 16 22 17 26 20 20 22 22\n",
      " 21 17 23 22 28 22 22 24 21 17 19 16 15 17 21 25 19 14 20 17 19 27 23 28\n",
      " 22 21 16 19 15 27 19 20 18 23 22 26 23 21 19 26 20 14 20 20 28 22 25 23\n",
      " 26 16 14 13 23 22 27 24 25 25 18 22 18 18 23 14 20 17 19 13 21 17 21 21\n",
      " 21 13 15 20 22 19 20 20 19 19 19 19 27 20 19 18 19 22 16 18 21 21 21 20\n",
      " 21 18 19 22 23 17 22 17 21 15 21 22 24 18 17 16 14 20 20 26 18 23 22 25\n",
      " 17 18 25 14 16 29 19 22 20 14 17 21 14 25 20 12 15 15 20 21 17 20 20 16\n",
      " 19 19 15 22 24 21 18 21 16 16 18 21 21 24 23 17 30 16 24 30 25 21 13 19\n",
      " 24 21 21 14 19 15 16 21 18 22 25 18 14 24 21 28 19 18 19 23 20 14 21 26\n",
      " 19 19 21 23 20 21 23 19 24 19 24 18 18 15 27 18 19 23 20 17 21 19 20 23\n",
      " 21 22 16 18 22 18 13 24 20 24 25 13 17 21 25 23 15 18 24 20 16 27 20 13\n",
      " 14 28 19 17 23 14 18 16 24 16 19 27 20 21 24 25 21 26 16 15 22 20 25 16\n",
      " 16 18 14 16 22 24 14 21 18 14 22 22 18 21 15 24 23 13 15 17 17 20 19 19\n",
      " 15 13 22 19 15 20 27 12 19 20 23 17 22 18 18 20 24 17 16 15 25 10 20 22\n",
      " 16 14 22 21 25 16 20 13 20 18 21 20 22 25 20 20 17 17 24 17 17 24 15 19\n",
      " 18 20 17 26 15 25 22 27 18 17 20 26 19 18 22  9 21 17 24 16 11 17 21 19\n",
      " 16 20 17 20 20 23 23 18 22 14 19 22 24 20 15 24 17 21 19 16 25 21 18 18\n",
      " 20 20 21 22 19 24 15 17 19 22 22 14 16 20 16 27 17 18 15 18 23 20 21 16\n",
      " 19 25 22 18 19 23 18 12 23 20 16 22 18 21 19 19 19 24 25 12 15 16 19 17\n",
      " 24 17 15 24 24 17 24 17 22 22 25 25 18 17 20 19 15 20 21 15 14 24 26 22\n",
      " 19 14 23 16 19 20 24 21 27 31 19 22 29 18 28 19 27 25 30 20 14 16 20 19\n",
      " 22 24 23 29 16 20 21 23 21 18 24 28 29 16 18 18 19 26 23 19 17 32 24 23\n",
      " 19 19 21 19 17 20 24 16 15 17 16 24 15 21 12 20 11 23 17 16 20 25 19 20\n",
      " 22 23 16 22 13 19 19 18 17 14 24 15 24 17 18 18]\n"
     ]
    }
   ],
   "source": [
    "data_binom = stats.binom.rvs(size=1000, n=100, p=0.2)\n",
    "print(data_binom)"
   ]
  },
  {
   "cell_type": "code",
   "execution_count": 27,
   "metadata": {},
   "outputs": [
    {
     "data": {
      "text/plain": [
       "<matplotlib.axes._subplots.AxesSubplot at 0x7f4994b38f10>"
      ]
     },
     "execution_count": 27,
     "metadata": {},
     "output_type": "execute_result"
    },
    {
     "data": {
      "image/png": "[encoded data removed]",
      "text/plain": [
       "<Figure size 432x288 with 1 Axes>"
      ]
     },
     "metadata": {
      "needs_background": "light"
     },
     "output_type": "display_data"
    }
   ],
   "source": [
    "sns.distplot(data_binom, bins=50, kde=False)"
   ]
  },
  {
   "cell_type": "code",
   "execution_count": 1,
   "metadata": {},
   "outputs": [],
   "source": [
    "import numpy as np"
   ]
  },
  {
   "cell_type": "code",
   "execution_count": 22,
   "metadata": {},
   "outputs": [
    {
     "name": "stdout",
     "output_type": "stream",
     "text": [
      "[[3 0 1 1 0 1]\n",
      " [1 1 0 1 1 2]\n",
      " [0 1 3 1 0 1]\n",
      " ...\n",
      " [3 2 1 0 0 0]\n",
      " [0 1 1 3 1 0]\n",
      " [1 3 0 0 2 0]]\n"
     ]
    }
   ],
   "source": [
    "p = 1 / 6\n",
    "data_multinomial = np.random.multinomial(n=6, pvals=[p, p, p, p, p, p], size=1000)\n",
    "print(data_multinomial)"
   ]
  },
  {
   "cell_type": "code",
   "execution_count": 25,
   "metadata": {},
   "outputs": [
    {
     "name": "stdout",
     "output_type": "stream",
     "text": [
      "[[315 196 489]\n",
      " [328 226 446]\n",
      " [282 202 516]\n",
      " ...\n",
      " [278 214 508]\n",
      " [316 188 496]\n",
      " [308 197 495]]\n"
     ]
    }
   ],
   "source": [
    "icu = 0.3\n",
    "surgery = 0.2\n",
    "el = 0.5\n",
    "data_multinomial = np.random.multinomial(n=1000, pvals=[icu, surgery, el], size=365)\n",
    "print(data_multinomial)"
   ]
  },
  {
   "cell_type": "code",
   "execution_count": 29,
   "metadata": {},
   "outputs": [
    {
     "name": "stdout",
     "output_type": "stream",
     "text": [
      "7.00895\n"
     ]
    }
   ],
   "source": [
    "data_poison = np.random.poisson(lam=7, size=100000)\n",
    "print(data_poison.mean())"
   ]
  },
  {
   "cell_type": "code",
   "execution_count": 41,
   "metadata": {},
   "outputs": [
    {
     "data": {
      "text/plain": [
       "<AxesSubplot:ylabel='Count'>"
      ]
     },
     "execution_count": 41,
     "metadata": {},
     "output_type": "execute_result"
    },
    {
     "data": {
      "image/png": "[encoded data removed]",
      "text/plain": [
       "<Figure size 432x288 with 1 Axes>"
      ]
     },
     "metadata": {
      "needs_background": "light"
     },
     "output_type": "display_data"
    }
   ],
   "source": [
    "sns.histplot(data_poison, bins=20, kde=True)"
   ]
  },
  {
   "cell_type": "code",
   "execution_count": 42,
   "metadata": {},
   "outputs": [
    {
     "name": "stdout",
     "output_type": "stream",
     "text": [
      "2.0158173751355597\n"
     ]
    }
   ],
   "source": [
    "data_exponential = np.random.exponential(scale=2, size=1000)\n",
    "print(data_exponential.mean())"
   ]
  },
  {
   "cell_type": "code",
   "execution_count": 46,
   "metadata": {},
   "outputs": [
    {
     "data": {
      "text/plain": [
       "<matplotlib.axes._subplots.AxesSubplot at 0x7f7cc375c190>"
      ]
     },
     "execution_count": 46,
     "metadata": {},
     "output_type": "execute_result"
    },
    {
     "data": {
      "image/png": "[encoded data removed]",
      "text/plain": [
       "<Figure size 432x288 with 1 Axes>"
      ]
     },
     "metadata": {
      "needs_background": "light"
     },
     "output_type": "display_data"
    }
   ],
   "source": [
    "sns.distplot(data_exponential)"
   ]
  },
  {
   "cell_type": "code",
   "execution_count": 48,
   "metadata": {},
   "outputs": [
    {
     "data": {
      "text/plain": [
       "0.57"
      ]
     },
     "execution_count": 48,
     "metadata": {},
     "output_type": "execute_result"
    }
   ],
   "source": [
    "(95/100) * (60/100)"
   ]
  }
 ],
 "metadata": {
  "kernelspec": {
   "display_name": "Python 3.10.2 64-bit",
   "language": "python",
   "name": "python3"
  },
  "language_info": {
   "codemirror_mode": {
    "name": "ipython",
    "version": 3
   },
   "file_extension": ".py",
   "mimetype": "text/x-python",
   "name": "python",
   "nbconvert_exporter": "python",
   "pygments_lexer": "ipython3",
   "version": "3.10.2"
  },
  "vscode": {
   "interpreter": {
    "hash": "0354d326129403289107761bee1c2024935d02ad6cbe1c7dd64c392723c72e60"
   }
  }
 },
 "nbformat": 4,
 "nbformat_minor": 4
}
