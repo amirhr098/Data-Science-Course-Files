{
 "cells": [
  {
   "cell_type": "code",
   "execution_count": 2,
   "metadata": {},
   "outputs": [],
   "source": [
    "import h5py\n",
    "import numpy as np\n",
    "import os\n",
    "from sklearn.model_selection import train_test_split\n",
    "from sklearn.ensemble import RandomForestClassifier\n",
    "from sklearn.metrics import classification_report"
   ]
  },
  {
   "cell_type": "code",
   "execution_count": 13,
   "metadata": {},
   "outputs": [],
   "source": [
    "X = np.array(h5py.File(os.path.join('data', 'X.h5'), 'r')['features'])\n",
    "y = np.array(h5py.File(os.path.join('data', 'y.h5'), 'r')['targets'])"
   ]
  },
  {
   "cell_type": "code",
   "execution_count": 14,
   "metadata": {},
   "outputs": [
    {
     "data": {
      "text/plain": [
       "(1360,)"
      ]
     },
     "execution_count": 14,
     "metadata": {},
     "output_type": "execute_result"
    }
   ],
   "source": [
    "np.shape(y)"
   ]
  },
  {
   "cell_type": "code",
   "execution_count": 15,
   "metadata": {},
   "outputs": [],
   "source": [
    "X_train, X_test, y_train, y_test = train_test_split(X, y, random_state=100)"
   ]
  },
  {
   "cell_type": "code",
   "execution_count": 16,
   "metadata": {},
   "outputs": [
    {
     "data": {
      "text/plain": [
       "RandomForestClassifier(n_estimators=400)"
      ]
     },
     "execution_count": 16,
     "metadata": {},
     "output_type": "execute_result"
    }
   ],
   "source": [
    "rfc = RandomForestClassifier(n_estimators=400)\n",
    "rfc.fit(X_train, y_train)"
   ]
  },
  {
   "cell_type": "code",
   "execution_count": 17,
   "metadata": {},
   "outputs": [],
   "source": [
    "y_pred = rfc.predict(X_test)"
   ]
  },
  {
   "cell_type": "code",
   "execution_count": 18,
   "metadata": {},
   "outputs": [
    {
     "name": "stdout",
     "output_type": "stream",
     "text": [
      "              precision    recall  f1-score   support\n",
      "\n",
      "           0       0.56      0.56      0.56        18\n",
      "           1       0.45      0.47      0.46        19\n",
      "           2       0.66      0.81      0.72        26\n",
      "           3       0.81      0.77      0.79        22\n",
      "           4       0.59      0.70      0.64        23\n",
      "           5       0.50      0.40      0.44        15\n",
      "           6       0.81      0.84      0.82        25\n",
      "           7       0.81      0.65      0.72        26\n",
      "           8       0.90      0.39      0.55        23\n",
      "           9       0.80      1.00      0.89        12\n",
      "          10       0.68      0.54      0.60        24\n",
      "          11       0.77      0.45      0.57        22\n",
      "          12       0.64      0.89      0.74        18\n",
      "          13       0.83      0.94      0.88        16\n",
      "          14       0.35      0.55      0.43        11\n",
      "          15       0.59      0.73      0.65        22\n",
      "          16       0.74      0.78      0.76        18\n",
      "\n",
      "    accuracy                           0.67       340\n",
      "   macro avg       0.68      0.67      0.66       340\n",
      "weighted avg       0.69      0.67      0.67       340\n",
      "\n"
     ]
    }
   ],
   "source": [
    "print(classification_report(y_pred=y_pred, y_true=y_test))"
   ]
  }
 ],
 "metadata": {
  "kernelspec": {
   "display_name": "Python 3.10.2 64-bit",
   "language": "python",
   "name": "python3"
  },
  "language_info": {
   "codemirror_mode": {
    "name": "ipython",
    "version": 3
   },
   "file_extension": ".py",
   "mimetype": "text/x-python",
   "name": "python",
   "nbconvert_exporter": "python",
   "pygments_lexer": "ipython3",
   "version": "3.10.2"
  },
  "vscode": {
   "interpreter": {
    "hash": "0354d326129403289107761bee1c2024935d02ad6cbe1c7dd64c392723c72e60"
   }
  }
 },
 "nbformat": 4,
 "nbformat_minor": 4
}
