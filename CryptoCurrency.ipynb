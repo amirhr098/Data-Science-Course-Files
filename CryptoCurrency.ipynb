{
 "cells": [
  {
   "cell_type": "code",
   "execution_count": 36,
   "metadata": {},
   "outputs": [],
   "source": [
    "import pandas as pd\n",
    "import numpy as np\n",
    "from matplotlib import pyplot\n",
    "from collections import deque\n",
    "from sklearn import preprocessing\n",
    "import random"
   ]
  },
  {
   "cell_type": "code",
   "execution_count": 2,
   "metadata": {},
   "outputs": [],
   "source": [
    "main_dataframe = pd.DataFrame()"
   ]
  },
  {
   "cell_type": "code",
   "execution_count": 8,
   "metadata": {},
   "outputs": [],
   "source": [
    "currencies = ['BCH-USD', 'BTC-USD', 'ETH-USD', 'LTC-USD']\n",
    "for c in currencies:\n",
    "    dataset = 'data/' + c + '.csv'\n",
    "    df = pd.read_csv(dataset, names=['time', 'low', 'high', 'open', 'close', 'volume'])\n",
    "    df.rename(columns={'close': c + '_close', 'volume': c + '_volume'}, inplace=True)\n",
    "    df.set_index('time', inplace=True)\n",
    "    df = df[[c + '_close', c + '_volume']]\n",
    "    if len(main_dataframe) == 0:\n",
    "        main_dataframe = df\n",
    "    else:\n",
    "        main_dataframe = main_dataframe.join(df)"
   ]
  },
  {
   "cell_type": "code",
   "execution_count": 9,
   "metadata": {},
   "outputs": [
    {
     "data": {
      "text/html": [
       "<div>\n",
       "<style scoped>\n",
       "    .dataframe tbody tr th:only-of-type {\n",
       "        vertical-align: middle;\n",
       "    }\n",
       "\n",
       "    .dataframe tbody tr th {\n",
       "        vertical-align: top;\n",
       "    }\n",
       "\n",
       "    .dataframe thead th {\n",
       "        text-align: right;\n",
       "    }\n",
       "</style>\n",
       "<table border=\"1\" class=\"dataframe\">\n",
       "  <thead>\n",
       "    <tr style=\"text-align: right;\">\n",
       "      <th></th>\n",
       "      <th>BCH-USD_close</th>\n",
       "      <th>BCH-USD_volume</th>\n",
       "      <th>BTC-USD_close</th>\n",
       "      <th>BTC-USD_volume</th>\n",
       "      <th>ETH-USD_close</th>\n",
       "      <th>ETH-USD_volume</th>\n",
       "      <th>LTC-USD_close</th>\n",
       "      <th>LTC-USD_volume</th>\n",
       "    </tr>\n",
       "    <tr>\n",
       "      <th>time</th>\n",
       "      <th></th>\n",
       "      <th></th>\n",
       "      <th></th>\n",
       "      <th></th>\n",
       "      <th></th>\n",
       "      <th></th>\n",
       "      <th></th>\n",
       "      <th></th>\n",
       "    </tr>\n",
       "  </thead>\n",
       "  <tbody>\n",
       "    <tr>\n",
       "      <th>1528968660</th>\n",
       "      <td>871.719971</td>\n",
       "      <td>5.675361</td>\n",
       "      <td>6489.549805</td>\n",
       "      <td>0.587100</td>\n",
       "      <td>NaN</td>\n",
       "      <td>NaN</td>\n",
       "      <td>96.580002</td>\n",
       "      <td>9.647200</td>\n",
       "    </tr>\n",
       "    <tr>\n",
       "      <th>1528968720</th>\n",
       "      <td>870.859985</td>\n",
       "      <td>26.856577</td>\n",
       "      <td>6487.379883</td>\n",
       "      <td>7.706374</td>\n",
       "      <td>486.01001</td>\n",
       "      <td>26.019083</td>\n",
       "      <td>96.660004</td>\n",
       "      <td>314.387024</td>\n",
       "    </tr>\n",
       "    <tr>\n",
       "      <th>1528968780</th>\n",
       "      <td>870.099976</td>\n",
       "      <td>1.124300</td>\n",
       "      <td>6479.410156</td>\n",
       "      <td>3.088252</td>\n",
       "      <td>486.00000</td>\n",
       "      <td>8.449400</td>\n",
       "      <td>96.570000</td>\n",
       "      <td>77.129799</td>\n",
       "    </tr>\n",
       "    <tr>\n",
       "      <th>1528968840</th>\n",
       "      <td>870.789978</td>\n",
       "      <td>1.749862</td>\n",
       "      <td>6479.410156</td>\n",
       "      <td>1.404100</td>\n",
       "      <td>485.75000</td>\n",
       "      <td>26.994646</td>\n",
       "      <td>96.500000</td>\n",
       "      <td>7.216067</td>\n",
       "    </tr>\n",
       "    <tr>\n",
       "      <th>1528968900</th>\n",
       "      <td>870.000000</td>\n",
       "      <td>1.680500</td>\n",
       "      <td>6479.979980</td>\n",
       "      <td>0.753000</td>\n",
       "      <td>486.00000</td>\n",
       "      <td>77.355759</td>\n",
       "      <td>96.389999</td>\n",
       "      <td>524.539978</td>\n",
       "    </tr>\n",
       "  </tbody>\n",
       "</table>\n",
       "</div>"
      ],
      "text/plain": [
       "            BCH-USD_close  BCH-USD_volume  BTC-USD_close  BTC-USD_volume  \\\n",
       "time                                                                       \n",
       "1528968660     871.719971        5.675361    6489.549805        0.587100   \n",
       "1528968720     870.859985       26.856577    6487.379883        7.706374   \n",
       "1528968780     870.099976        1.124300    6479.410156        3.088252   \n",
       "1528968840     870.789978        1.749862    6479.410156        1.404100   \n",
       "1528968900     870.000000        1.680500    6479.979980        0.753000   \n",
       "\n",
       "            ETH-USD_close  ETH-USD_volume  LTC-USD_close  LTC-USD_volume  \n",
       "time                                                                      \n",
       "1528968660            NaN             NaN      96.580002        9.647200  \n",
       "1528968720      486.01001       26.019083      96.660004      314.387024  \n",
       "1528968780      486.00000        8.449400      96.570000       77.129799  \n",
       "1528968840      485.75000       26.994646      96.500000        7.216067  \n",
       "1528968900      486.00000       77.355759      96.389999      524.539978  "
      ]
     },
     "execution_count": 9,
     "metadata": {},
     "output_type": "execute_result"
    }
   ],
   "source": [
    "main_dataframe.head()"
   ]
  },
  {
   "cell_type": "code",
   "execution_count": 10,
   "metadata": {},
   "outputs": [
    {
     "data": {
      "text/plain": [
       "BCH-USD_close        0\n",
       "BCH-USD_volume       0\n",
       "BTC-USD_close     5122\n",
       "BTC-USD_volume    5122\n",
       "ETH-USD_close      195\n",
       "ETH-USD_volume     195\n",
       "LTC-USD_close      836\n",
       "LTC-USD_volume     836\n",
       "dtype: int64"
      ]
     },
     "execution_count": 10,
     "metadata": {},
     "output_type": "execute_result"
    }
   ],
   "source": [
    "main_dataframe.isnull().sum()"
   ]
  },
  {
   "cell_type": "code",
   "execution_count": 11,
   "metadata": {},
   "outputs": [],
   "source": [
    "main_dataframe.fillna(method='ffill', inplace=True)"
   ]
  },
  {
   "cell_type": "code",
   "execution_count": 12,
   "metadata": {},
   "outputs": [
    {
     "data": {
      "text/plain": [
       "BCH-USD_close     0\n",
       "BCH-USD_volume    0\n",
       "BTC-USD_close     0\n",
       "BTC-USD_volume    0\n",
       "ETH-USD_close     1\n",
       "ETH-USD_volume    1\n",
       "LTC-USD_close     0\n",
       "LTC-USD_volume    0\n",
       "dtype: int64"
      ]
     },
     "execution_count": 12,
     "metadata": {},
     "output_type": "execute_result"
    }
   ],
   "source": [
    "main_dataframe.isnull().sum()"
   ]
  },
  {
   "cell_type": "code",
   "execution_count": 13,
   "metadata": {},
   "outputs": [
    {
     "data": {
      "text/html": [
       "<div>\n",
       "<style scoped>\n",
       "    .dataframe tbody tr th:only-of-type {\n",
       "        vertical-align: middle;\n",
       "    }\n",
       "\n",
       "    .dataframe tbody tr th {\n",
       "        vertical-align: top;\n",
       "    }\n",
       "\n",
       "    .dataframe thead th {\n",
       "        text-align: right;\n",
       "    }\n",
       "</style>\n",
       "<table border=\"1\" class=\"dataframe\">\n",
       "  <thead>\n",
       "    <tr style=\"text-align: right;\">\n",
       "      <th></th>\n",
       "      <th>BCH-USD_close</th>\n",
       "      <th>BCH-USD_volume</th>\n",
       "      <th>BTC-USD_close</th>\n",
       "      <th>BTC-USD_volume</th>\n",
       "      <th>ETH-USD_close</th>\n",
       "      <th>ETH-USD_volume</th>\n",
       "      <th>LTC-USD_close</th>\n",
       "      <th>LTC-USD_volume</th>\n",
       "    </tr>\n",
       "    <tr>\n",
       "      <th>time</th>\n",
       "      <th></th>\n",
       "      <th></th>\n",
       "      <th></th>\n",
       "      <th></th>\n",
       "      <th></th>\n",
       "      <th></th>\n",
       "      <th></th>\n",
       "      <th></th>\n",
       "    </tr>\n",
       "  </thead>\n",
       "  <tbody>\n",
       "    <tr>\n",
       "      <th>1528968660</th>\n",
       "      <td>871.719971</td>\n",
       "      <td>5.675361</td>\n",
       "      <td>6489.549805</td>\n",
       "      <td>0.587100</td>\n",
       "      <td>NaN</td>\n",
       "      <td>NaN</td>\n",
       "      <td>96.580002</td>\n",
       "      <td>9.647200</td>\n",
       "    </tr>\n",
       "    <tr>\n",
       "      <th>1528968720</th>\n",
       "      <td>870.859985</td>\n",
       "      <td>26.856577</td>\n",
       "      <td>6487.379883</td>\n",
       "      <td>7.706374</td>\n",
       "      <td>486.01001</td>\n",
       "      <td>26.019083</td>\n",
       "      <td>96.660004</td>\n",
       "      <td>314.387024</td>\n",
       "    </tr>\n",
       "    <tr>\n",
       "      <th>1528968780</th>\n",
       "      <td>870.099976</td>\n",
       "      <td>1.124300</td>\n",
       "      <td>6479.410156</td>\n",
       "      <td>3.088252</td>\n",
       "      <td>486.00000</td>\n",
       "      <td>8.449400</td>\n",
       "      <td>96.570000</td>\n",
       "      <td>77.129799</td>\n",
       "    </tr>\n",
       "    <tr>\n",
       "      <th>1528968840</th>\n",
       "      <td>870.789978</td>\n",
       "      <td>1.749862</td>\n",
       "      <td>6479.410156</td>\n",
       "      <td>1.404100</td>\n",
       "      <td>485.75000</td>\n",
       "      <td>26.994646</td>\n",
       "      <td>96.500000</td>\n",
       "      <td>7.216067</td>\n",
       "    </tr>\n",
       "    <tr>\n",
       "      <th>1528968900</th>\n",
       "      <td>870.000000</td>\n",
       "      <td>1.680500</td>\n",
       "      <td>6479.979980</td>\n",
       "      <td>0.753000</td>\n",
       "      <td>486.00000</td>\n",
       "      <td>77.355759</td>\n",
       "      <td>96.389999</td>\n",
       "      <td>524.539978</td>\n",
       "    </tr>\n",
       "  </tbody>\n",
       "</table>\n",
       "</div>"
      ],
      "text/plain": [
       "            BCH-USD_close  BCH-USD_volume  BTC-USD_close  BTC-USD_volume  \\\n",
       "time                                                                       \n",
       "1528968660     871.719971        5.675361    6489.549805        0.587100   \n",
       "1528968720     870.859985       26.856577    6487.379883        7.706374   \n",
       "1528968780     870.099976        1.124300    6479.410156        3.088252   \n",
       "1528968840     870.789978        1.749862    6479.410156        1.404100   \n",
       "1528968900     870.000000        1.680500    6479.979980        0.753000   \n",
       "\n",
       "            ETH-USD_close  ETH-USD_volume  LTC-USD_close  LTC-USD_volume  \n",
       "time                                                                      \n",
       "1528968660            NaN             NaN      96.580002        9.647200  \n",
       "1528968720      486.01001       26.019083      96.660004      314.387024  \n",
       "1528968780      486.00000        8.449400      96.570000       77.129799  \n",
       "1528968840      485.75000       26.994646      96.500000        7.216067  \n",
       "1528968900      486.00000       77.355759      96.389999      524.539978  "
      ]
     },
     "execution_count": 13,
     "metadata": {},
     "output_type": "execute_result"
    }
   ],
   "source": [
    "main_dataframe.head()"
   ]
  },
  {
   "cell_type": "code",
   "execution_count": 14,
   "metadata": {},
   "outputs": [],
   "source": [
    "main_dataframe.fillna(method='bfill', inplace=True)"
   ]
  },
  {
   "cell_type": "code",
   "execution_count": 15,
   "metadata": {},
   "outputs": [
    {
     "data": {
      "text/html": [
       "<div>\n",
       "<style scoped>\n",
       "    .dataframe tbody tr th:only-of-type {\n",
       "        vertical-align: middle;\n",
       "    }\n",
       "\n",
       "    .dataframe tbody tr th {\n",
       "        vertical-align: top;\n",
       "    }\n",
       "\n",
       "    .dataframe thead th {\n",
       "        text-align: right;\n",
       "    }\n",
       "</style>\n",
       "<table border=\"1\" class=\"dataframe\">\n",
       "  <thead>\n",
       "    <tr style=\"text-align: right;\">\n",
       "      <th></th>\n",
       "      <th>BCH-USD_close</th>\n",
       "      <th>BCH-USD_volume</th>\n",
       "      <th>BTC-USD_close</th>\n",
       "      <th>BTC-USD_volume</th>\n",
       "      <th>ETH-USD_close</th>\n",
       "      <th>ETH-USD_volume</th>\n",
       "      <th>LTC-USD_close</th>\n",
       "      <th>LTC-USD_volume</th>\n",
       "    </tr>\n",
       "    <tr>\n",
       "      <th>time</th>\n",
       "      <th></th>\n",
       "      <th></th>\n",
       "      <th></th>\n",
       "      <th></th>\n",
       "      <th></th>\n",
       "      <th></th>\n",
       "      <th></th>\n",
       "      <th></th>\n",
       "    </tr>\n",
       "  </thead>\n",
       "  <tbody>\n",
       "    <tr>\n",
       "      <th>1528968660</th>\n",
       "      <td>871.719971</td>\n",
       "      <td>5.675361</td>\n",
       "      <td>6489.549805</td>\n",
       "      <td>0.587100</td>\n",
       "      <td>486.01001</td>\n",
       "      <td>26.019083</td>\n",
       "      <td>96.580002</td>\n",
       "      <td>9.647200</td>\n",
       "    </tr>\n",
       "    <tr>\n",
       "      <th>1528968720</th>\n",
       "      <td>870.859985</td>\n",
       "      <td>26.856577</td>\n",
       "      <td>6487.379883</td>\n",
       "      <td>7.706374</td>\n",
       "      <td>486.01001</td>\n",
       "      <td>26.019083</td>\n",
       "      <td>96.660004</td>\n",
       "      <td>314.387024</td>\n",
       "    </tr>\n",
       "    <tr>\n",
       "      <th>1528968780</th>\n",
       "      <td>870.099976</td>\n",
       "      <td>1.124300</td>\n",
       "      <td>6479.410156</td>\n",
       "      <td>3.088252</td>\n",
       "      <td>486.00000</td>\n",
       "      <td>8.449400</td>\n",
       "      <td>96.570000</td>\n",
       "      <td>77.129799</td>\n",
       "    </tr>\n",
       "    <tr>\n",
       "      <th>1528968840</th>\n",
       "      <td>870.789978</td>\n",
       "      <td>1.749862</td>\n",
       "      <td>6479.410156</td>\n",
       "      <td>1.404100</td>\n",
       "      <td>485.75000</td>\n",
       "      <td>26.994646</td>\n",
       "      <td>96.500000</td>\n",
       "      <td>7.216067</td>\n",
       "    </tr>\n",
       "    <tr>\n",
       "      <th>1528968900</th>\n",
       "      <td>870.000000</td>\n",
       "      <td>1.680500</td>\n",
       "      <td>6479.979980</td>\n",
       "      <td>0.753000</td>\n",
       "      <td>486.00000</td>\n",
       "      <td>77.355759</td>\n",
       "      <td>96.389999</td>\n",
       "      <td>524.539978</td>\n",
       "    </tr>\n",
       "  </tbody>\n",
       "</table>\n",
       "</div>"
      ],
      "text/plain": [
       "            BCH-USD_close  BCH-USD_volume  BTC-USD_close  BTC-USD_volume  \\\n",
       "time                                                                       \n",
       "1528968660     871.719971        5.675361    6489.549805        0.587100   \n",
       "1528968720     870.859985       26.856577    6487.379883        7.706374   \n",
       "1528968780     870.099976        1.124300    6479.410156        3.088252   \n",
       "1528968840     870.789978        1.749862    6479.410156        1.404100   \n",
       "1528968900     870.000000        1.680500    6479.979980        0.753000   \n",
       "\n",
       "            ETH-USD_close  ETH-USD_volume  LTC-USD_close  LTC-USD_volume  \n",
       "time                                                                      \n",
       "1528968660      486.01001       26.019083      96.580002        9.647200  \n",
       "1528968720      486.01001       26.019083      96.660004      314.387024  \n",
       "1528968780      486.00000        8.449400      96.570000       77.129799  \n",
       "1528968840      485.75000       26.994646      96.500000        7.216067  \n",
       "1528968900      486.00000       77.355759      96.389999      524.539978  "
      ]
     },
     "execution_count": 15,
     "metadata": {},
     "output_type": "execute_result"
    }
   ],
   "source": [
    "main_dataframe.head()"
   ]
  },
  {
   "cell_type": "code",
   "execution_count": 16,
   "metadata": {},
   "outputs": [
    {
     "data": {
      "text/plain": [
       "BCH-USD_close     0\n",
       "BCH-USD_volume    0\n",
       "BTC-USD_close     0\n",
       "BTC-USD_volume    0\n",
       "ETH-USD_close     0\n",
       "ETH-USD_volume    0\n",
       "LTC-USD_close     0\n",
       "LTC-USD_volume    0\n",
       "dtype: int64"
      ]
     },
     "execution_count": 16,
     "metadata": {},
     "output_type": "execute_result"
    }
   ],
   "source": [
    "main_dataframe.isnull().sum()"
   ]
  },
  {
   "cell_type": "code",
   "execution_count": 17,
   "metadata": {},
   "outputs": [],
   "source": [
    "main_dataframe['future'] = main_dataframe['LTC-USD_close'].shift(-3)"
   ]
  },
  {
   "cell_type": "code",
   "execution_count": 20,
   "metadata": {},
   "outputs": [
    {
     "data": {
      "text/html": [
       "<div>\n",
       "<style scoped>\n",
       "    .dataframe tbody tr th:only-of-type {\n",
       "        vertical-align: middle;\n",
       "    }\n",
       "\n",
       "    .dataframe tbody tr th {\n",
       "        vertical-align: top;\n",
       "    }\n",
       "\n",
       "    .dataframe thead th {\n",
       "        text-align: right;\n",
       "    }\n",
       "</style>\n",
       "<table border=\"1\" class=\"dataframe\">\n",
       "  <thead>\n",
       "    <tr style=\"text-align: right;\">\n",
       "      <th></th>\n",
       "      <th>BCH-USD_close</th>\n",
       "      <th>BCH-USD_volume</th>\n",
       "      <th>BTC-USD_close</th>\n",
       "      <th>BTC-USD_volume</th>\n",
       "      <th>ETH-USD_close</th>\n",
       "      <th>ETH-USD_volume</th>\n",
       "      <th>LTC-USD_close</th>\n",
       "      <th>LTC-USD_volume</th>\n",
       "      <th>future</th>\n",
       "    </tr>\n",
       "    <tr>\n",
       "      <th>time</th>\n",
       "      <th></th>\n",
       "      <th></th>\n",
       "      <th></th>\n",
       "      <th></th>\n",
       "      <th></th>\n",
       "      <th></th>\n",
       "      <th></th>\n",
       "      <th></th>\n",
       "      <th></th>\n",
       "    </tr>\n",
       "  </thead>\n",
       "  <tbody>\n",
       "    <tr>\n",
       "      <th>1528968660</th>\n",
       "      <td>871.719971</td>\n",
       "      <td>5.675361</td>\n",
       "      <td>6489.549805</td>\n",
       "      <td>0.587100</td>\n",
       "      <td>486.01001</td>\n",
       "      <td>26.019083</td>\n",
       "      <td>96.580002</td>\n",
       "      <td>9.647200</td>\n",
       "      <td>96.500000</td>\n",
       "    </tr>\n",
       "    <tr>\n",
       "      <th>1528968720</th>\n",
       "      <td>870.859985</td>\n",
       "      <td>26.856577</td>\n",
       "      <td>6487.379883</td>\n",
       "      <td>7.706374</td>\n",
       "      <td>486.01001</td>\n",
       "      <td>26.019083</td>\n",
       "      <td>96.660004</td>\n",
       "      <td>314.387024</td>\n",
       "      <td>96.389999</td>\n",
       "    </tr>\n",
       "    <tr>\n",
       "      <th>1528968780</th>\n",
       "      <td>870.099976</td>\n",
       "      <td>1.124300</td>\n",
       "      <td>6479.410156</td>\n",
       "      <td>3.088252</td>\n",
       "      <td>486.00000</td>\n",
       "      <td>8.449400</td>\n",
       "      <td>96.570000</td>\n",
       "      <td>77.129799</td>\n",
       "      <td>96.519997</td>\n",
       "    </tr>\n",
       "    <tr>\n",
       "      <th>1528968840</th>\n",
       "      <td>870.789978</td>\n",
       "      <td>1.749862</td>\n",
       "      <td>6479.410156</td>\n",
       "      <td>1.404100</td>\n",
       "      <td>485.75000</td>\n",
       "      <td>26.994646</td>\n",
       "      <td>96.500000</td>\n",
       "      <td>7.216067</td>\n",
       "      <td>96.440002</td>\n",
       "    </tr>\n",
       "    <tr>\n",
       "      <th>1528968900</th>\n",
       "      <td>870.000000</td>\n",
       "      <td>1.680500</td>\n",
       "      <td>6479.979980</td>\n",
       "      <td>0.753000</td>\n",
       "      <td>486.00000</td>\n",
       "      <td>77.355759</td>\n",
       "      <td>96.389999</td>\n",
       "      <td>524.539978</td>\n",
       "      <td>96.470001</td>\n",
       "    </tr>\n",
       "  </tbody>\n",
       "</table>\n",
       "</div>"
      ],
      "text/plain": [
       "            BCH-USD_close  BCH-USD_volume  BTC-USD_close  BTC-USD_volume  \\\n",
       "time                                                                       \n",
       "1528968660     871.719971        5.675361    6489.549805        0.587100   \n",
       "1528968720     870.859985       26.856577    6487.379883        7.706374   \n",
       "1528968780     870.099976        1.124300    6479.410156        3.088252   \n",
       "1528968840     870.789978        1.749862    6479.410156        1.404100   \n",
       "1528968900     870.000000        1.680500    6479.979980        0.753000   \n",
       "\n",
       "            ETH-USD_close  ETH-USD_volume  LTC-USD_close  LTC-USD_volume  \\\n",
       "time                                                                       \n",
       "1528968660      486.01001       26.019083      96.580002        9.647200   \n",
       "1528968720      486.01001       26.019083      96.660004      314.387024   \n",
       "1528968780      486.00000        8.449400      96.570000       77.129799   \n",
       "1528968840      485.75000       26.994646      96.500000        7.216067   \n",
       "1528968900      486.00000       77.355759      96.389999      524.539978   \n",
       "\n",
       "               future  \n",
       "time                   \n",
       "1528968660  96.500000  \n",
       "1528968720  96.389999  \n",
       "1528968780  96.519997  \n",
       "1528968840  96.440002  \n",
       "1528968900  96.470001  "
      ]
     },
     "execution_count": 20,
     "metadata": {},
     "output_type": "execute_result"
    }
   ],
   "source": [
    "main_dataframe.head()"
   ]
  },
  {
   "cell_type": "code",
   "execution_count": 22,
   "metadata": {},
   "outputs": [],
   "source": [
    "def compare(current, future):\n",
    "    if future > current:\n",
    "        return 1\n",
    "    else:\n",
    "        return 0\n",
    "main_dataframe['target'] = list(map(compare, main_dataframe['LTC-USD_close'], main_dataframe['future']))"
   ]
  },
  {
   "cell_type": "code",
   "execution_count": 23,
   "metadata": {},
   "outputs": [
    {
     "data": {
      "text/html": [
       "<div>\n",
       "<style scoped>\n",
       "    .dataframe tbody tr th:only-of-type {\n",
       "        vertical-align: middle;\n",
       "    }\n",
       "\n",
       "    .dataframe tbody tr th {\n",
       "        vertical-align: top;\n",
       "    }\n",
       "\n",
       "    .dataframe thead th {\n",
       "        text-align: right;\n",
       "    }\n",
       "</style>\n",
       "<table border=\"1\" class=\"dataframe\">\n",
       "  <thead>\n",
       "    <tr style=\"text-align: right;\">\n",
       "      <th></th>\n",
       "      <th>BCH-USD_close</th>\n",
       "      <th>BCH-USD_volume</th>\n",
       "      <th>BTC-USD_close</th>\n",
       "      <th>BTC-USD_volume</th>\n",
       "      <th>ETH-USD_close</th>\n",
       "      <th>ETH-USD_volume</th>\n",
       "      <th>LTC-USD_close</th>\n",
       "      <th>LTC-USD_volume</th>\n",
       "      <th>future</th>\n",
       "      <th>target</th>\n",
       "    </tr>\n",
       "    <tr>\n",
       "      <th>time</th>\n",
       "      <th></th>\n",
       "      <th></th>\n",
       "      <th></th>\n",
       "      <th></th>\n",
       "      <th></th>\n",
       "      <th></th>\n",
       "      <th></th>\n",
       "      <th></th>\n",
       "      <th></th>\n",
       "      <th></th>\n",
       "    </tr>\n",
       "  </thead>\n",
       "  <tbody>\n",
       "    <tr>\n",
       "      <th>1528968660</th>\n",
       "      <td>871.719971</td>\n",
       "      <td>5.675361</td>\n",
       "      <td>6489.549805</td>\n",
       "      <td>0.587100</td>\n",
       "      <td>486.01001</td>\n",
       "      <td>26.019083</td>\n",
       "      <td>96.580002</td>\n",
       "      <td>9.647200</td>\n",
       "      <td>96.500000</td>\n",
       "      <td>0</td>\n",
       "    </tr>\n",
       "    <tr>\n",
       "      <th>1528968720</th>\n",
       "      <td>870.859985</td>\n",
       "      <td>26.856577</td>\n",
       "      <td>6487.379883</td>\n",
       "      <td>7.706374</td>\n",
       "      <td>486.01001</td>\n",
       "      <td>26.019083</td>\n",
       "      <td>96.660004</td>\n",
       "      <td>314.387024</td>\n",
       "      <td>96.389999</td>\n",
       "      <td>0</td>\n",
       "    </tr>\n",
       "    <tr>\n",
       "      <th>1528968780</th>\n",
       "      <td>870.099976</td>\n",
       "      <td>1.124300</td>\n",
       "      <td>6479.410156</td>\n",
       "      <td>3.088252</td>\n",
       "      <td>486.00000</td>\n",
       "      <td>8.449400</td>\n",
       "      <td>96.570000</td>\n",
       "      <td>77.129799</td>\n",
       "      <td>96.519997</td>\n",
       "      <td>0</td>\n",
       "    </tr>\n",
       "    <tr>\n",
       "      <th>1528968840</th>\n",
       "      <td>870.789978</td>\n",
       "      <td>1.749862</td>\n",
       "      <td>6479.410156</td>\n",
       "      <td>1.404100</td>\n",
       "      <td>485.75000</td>\n",
       "      <td>26.994646</td>\n",
       "      <td>96.500000</td>\n",
       "      <td>7.216067</td>\n",
       "      <td>96.440002</td>\n",
       "      <td>0</td>\n",
       "    </tr>\n",
       "    <tr>\n",
       "      <th>1528968900</th>\n",
       "      <td>870.000000</td>\n",
       "      <td>1.680500</td>\n",
       "      <td>6479.979980</td>\n",
       "      <td>0.753000</td>\n",
       "      <td>486.00000</td>\n",
       "      <td>77.355759</td>\n",
       "      <td>96.389999</td>\n",
       "      <td>524.539978</td>\n",
       "      <td>96.470001</td>\n",
       "      <td>1</td>\n",
       "    </tr>\n",
       "  </tbody>\n",
       "</table>\n",
       "</div>"
      ],
      "text/plain": [
       "            BCH-USD_close  BCH-USD_volume  BTC-USD_close  BTC-USD_volume  \\\n",
       "time                                                                       \n",
       "1528968660     871.719971        5.675361    6489.549805        0.587100   \n",
       "1528968720     870.859985       26.856577    6487.379883        7.706374   \n",
       "1528968780     870.099976        1.124300    6479.410156        3.088252   \n",
       "1528968840     870.789978        1.749862    6479.410156        1.404100   \n",
       "1528968900     870.000000        1.680500    6479.979980        0.753000   \n",
       "\n",
       "            ETH-USD_close  ETH-USD_volume  LTC-USD_close  LTC-USD_volume  \\\n",
       "time                                                                       \n",
       "1528968660      486.01001       26.019083      96.580002        9.647200   \n",
       "1528968720      486.01001       26.019083      96.660004      314.387024   \n",
       "1528968780      486.00000        8.449400      96.570000       77.129799   \n",
       "1528968840      485.75000       26.994646      96.500000        7.216067   \n",
       "1528968900      486.00000       77.355759      96.389999      524.539978   \n",
       "\n",
       "               future  target  \n",
       "time                           \n",
       "1528968660  96.500000       0  \n",
       "1528968720  96.389999       0  \n",
       "1528968780  96.519997       0  \n",
       "1528968840  96.440002       0  \n",
       "1528968900  96.470001       1  "
      ]
     },
     "execution_count": 23,
     "metadata": {},
     "output_type": "execute_result"
    }
   ],
   "source": [
    "main_dataframe.head()"
   ]
  },
  {
   "cell_type": "code",
   "execution_count": 24,
   "metadata": {},
   "outputs": [],
   "source": [
    "times = sorted(main_dataframe.index.values)"
   ]
  },
  {
   "cell_type": "code",
   "execution_count": 25,
   "metadata": {},
   "outputs": [
    {
     "data": {
      "text/plain": [
       "92225"
      ]
     },
     "execution_count": 25,
     "metadata": {},
     "output_type": "execute_result"
    }
   ],
   "source": [
    "len(times)"
   ]
  },
  {
   "cell_type": "code",
   "execution_count": 27,
   "metadata": {},
   "outputs": [
    {
     "data": {
      "text/plain": [
       "9222"
      ]
     },
     "execution_count": 27,
     "metadata": {},
     "output_type": "execute_result"
    }
   ],
   "source": [
    "int(0.1 * len(times))"
   ]
  },
  {
   "cell_type": "code",
   "execution_count": 28,
   "metadata": {},
   "outputs": [],
   "source": [
    "last_10pct = sorted(main_dataframe.index.values)[-int(0.1 * len(times))]"
   ]
  },
  {
   "cell_type": "code",
   "execution_count": 29,
   "metadata": {},
   "outputs": [
    {
     "data": {
      "text/plain": [
       "1534556340"
      ]
     },
     "execution_count": 29,
     "metadata": {},
     "output_type": "execute_result"
    }
   ],
   "source": [
    "last_10pct"
   ]
  },
  {
   "cell_type": "code",
   "execution_count": 30,
   "metadata": {},
   "outputs": [],
   "source": [
    "main_dataframe_test = main_dataframe[(main_dataframe.index >= last_10pct)]\n",
    "main_dataframe_train = main_dataframe[(main_dataframe.index < last_10pct)]"
   ]
  },
  {
   "cell_type": "code",
   "execution_count": 32,
   "metadata": {},
   "outputs": [
    {
     "data": {
      "text/plain": [
       "9222"
      ]
     },
     "execution_count": 32,
     "metadata": {},
     "output_type": "execute_result"
    }
   ],
   "source": [
    "len(main_dataframe_test)"
   ]
  },
  {
   "cell_type": "code",
   "execution_count": 31,
   "metadata": {},
   "outputs": [
    {
     "data": {
      "text/plain": [
       "83003"
      ]
     },
     "execution_count": 31,
     "metadata": {},
     "output_type": "execute_result"
    }
   ],
   "source": [
    "len(main_dataframe_train)"
   ]
  },
  {
   "cell_type": "code",
   "execution_count": 35,
   "metadata": {},
   "outputs": [
    {
     "data": {
      "text/plain": [
       "time\n",
       "1528968660    6489.549805\n",
       "1528968720    6487.379883\n",
       "1528968780    6479.410156\n",
       "1528968840    6479.410156\n",
       "1528968900    6479.979980\n",
       "                 ...     \n",
       "1535215020    6714.520020\n",
       "1535215080    6714.520020\n",
       "1535215140    6715.000000\n",
       "1535215200    6715.000000\n",
       "1535215260    6715.000000\n",
       "Name: BTC-USD_close, Length: 92225, dtype: float64"
      ]
     },
     "execution_count": 35,
     "metadata": {},
     "output_type": "execute_result"
    }
   ],
   "source": [
    "main_dataframe['BTC-USD_close']"
   ]
  },
  {
   "cell_type": "code",
   "execution_count": 34,
   "metadata": {},
   "outputs": [
    {
     "data": {
      "text/plain": [
       "time\n",
       "1528968660         NaN\n",
       "1528968720   -0.000334\n",
       "1528968780   -0.001228\n",
       "1528968840    0.000000\n",
       "1528968900    0.000088\n",
       "                ...   \n",
       "1535215020    0.000206\n",
       "1535215080    0.000000\n",
       "1535215140    0.000071\n",
       "1535215200    0.000000\n",
       "1535215260    0.000000\n",
       "Name: BTC-USD_close, Length: 92225, dtype: float64"
      ]
     },
     "execution_count": 34,
     "metadata": {},
     "output_type": "execute_result"
    }
   ],
   "source": [
    "main_dataframe['BTC-USD_close'].pct_change()"
   ]
  },
  {
   "cell_type": "code",
   "execution_count": 37,
   "metadata": {},
   "outputs": [],
   "source": [
    "def preprocess_main_dataframe(df):\n",
    "    df = df.drop('future', axis=1)\n",
    "    for col in df.columns:\n",
    "        if col != 'target':\n",
    "            df[col] = df[col].pct_change()\n",
    "            df.dropna(inplace=True)\n",
    "            df[col] = preprocessing.scale(df[col].values)\n",
    "    df.dropna(inplace=True)\n",
    "    sequences = []\n",
    "    prev_days = deque(maxlen=30)\n",
    "    for i in df.values:\n",
    "        prev_days.append([n for n in i[:-1]])\n",
    "        if len(prev_days) == 30:\n",
    "            sequences.append([np.array(prev_days), i[-1]])\n",
    "    random.shuffle(sequences)\n",
    "    buys = []\n",
    "    sells = []\n",
    "    for seq, target in sequences:\n",
    "        if target == 0:\n",
    "            sells.append([seq, target])\n",
    "        elif target == 1:\n",
    "            buys.append([seq, target])\n",
    "    random.shuffle(buys)\n",
    "    random.shuffle(sells)\n",
    "    lower = min(len(buys), len(sells))\n",
    "    buys = buys[:lower]\n",
    "    sells = sells[:lower]\n",
    "    sequential_data = buys + sells\n",
    "    random.shuffle(sequential_data)\n",
    "    X = []\n",
    "    y = []\n",
    "    for seq, target in sequential_data:\n",
    "        X.append(seq)\n",
    "        y.append(target)\n",
    "    return np.array(X), np.array(y)"
   ]
  },
  {
   "cell_type": "code",
   "execution_count": 38,
   "metadata": {},
   "outputs": [],
   "source": [
    "train_X, train_y = preprocess_main_dataframe(main_dataframe_train)"
   ]
  },
  {
   "cell_type": "code",
   "execution_count": 39,
   "metadata": {},
   "outputs": [
    {
     "data": {
      "text/plain": [
       "(71030, 30, 8)"
      ]
     },
     "execution_count": 39,
     "metadata": {},
     "output_type": "execute_result"
    }
   ],
   "source": [
    "train_X.shape"
   ]
  },
  {
   "cell_type": "code",
   "execution_count": 40,
   "metadata": {},
   "outputs": [
    {
     "data": {
      "text/plain": [
       "(71030,)"
      ]
     },
     "execution_count": 40,
     "metadata": {},
     "output_type": "execute_result"
    }
   ],
   "source": [
    "train_y.shape"
   ]
  },
  {
   "cell_type": "code",
   "execution_count": 47,
   "metadata": {},
   "outputs": [
    {
     "data": {
      "text/plain": [
       "(array([0., 1.]), array([35515, 35515]))"
      ]
     },
     "execution_count": 47,
     "metadata": {},
     "output_type": "execute_result"
    }
   ],
   "source": [
    "np.unique(train_y, return_counts=True)"
   ]
  },
  {
   "cell_type": "code",
   "execution_count": 41,
   "metadata": {},
   "outputs": [],
   "source": [
    "test_X, test_y = preprocess_main_dataframe(main_dataframe_test)"
   ]
  },
  {
   "cell_type": "code",
   "execution_count": 42,
   "metadata": {},
   "outputs": [
    {
     "data": {
      "text/plain": [
       "(7840, 30, 8)"
      ]
     },
     "execution_count": 42,
     "metadata": {},
     "output_type": "execute_result"
    }
   ],
   "source": [
    "test_X.shape"
   ]
  },
  {
   "cell_type": "code",
   "execution_count": 48,
   "metadata": {},
   "outputs": [],
   "source": [
    "import tensorflow as tf\n",
    "from tensorflow.keras.models import Sequential\n",
    "from tensorflow.keras.layers import LSTM, Dense, Dropout, BatchNormalization"
   ]
  },
  {
   "cell_type": "code",
   "execution_count": 49,
   "metadata": {},
   "outputs": [],
   "source": [
    "model = Sequential()\n",
    "model.add(LSTM(64, input_shape=(train_X.shape[1:])))\n",
    "model.add(Dense(32, activation='relu'))\n",
    "model.add(Dense(32, activation='relu'))\n",
    "model.add(Dense(2, activation='softmax'))"
   ]
  },
  {
   "cell_type": "code",
   "execution_count": 50,
   "metadata": {},
   "outputs": [],
   "source": [
    "model.compile(loss='sparse_categorical_crossentropy', optimizer='Adam', metrics=['accuracy'])"
   ]
  },
  {
   "cell_type": "code",
   "execution_count": 51,
   "metadata": {},
   "outputs": [
    {
     "name": "stdout",
     "output_type": "stream",
     "text": [
      "Epoch 1/100\n",
      "711/711 [==============================] - 15s 21ms/step - loss: 0.6839 - accuracy: 0.5558 - val_loss: 0.6760 - val_accuracy: 0.5735\n",
      "Epoch 2/100\n",
      "711/711 [==============================] - 14s 20ms/step - loss: 0.6800 - accuracy: 0.5646 - val_loss: 0.6749 - val_accuracy: 0.5786\n",
      "Epoch 3/100\n",
      "711/711 [==============================] - 13s 18ms/step - loss: 0.6779 - accuracy: 0.5682 - val_loss: 0.6749 - val_accuracy: 0.5704\n",
      "Epoch 4/100\n",
      "711/711 [==============================] - 13s 18ms/step - loss: 0.6762 - accuracy: 0.5742 - val_loss: 0.6783 - val_accuracy: 0.5647\n",
      "Epoch 5/100\n",
      "711/711 [==============================] - 13s 18ms/step - loss: 0.6734 - accuracy: 0.5804 - val_loss: 0.6794 - val_accuracy: 0.5625\n",
      "Epoch 6/100\n",
      "711/711 [==============================] - 13s 18ms/step - loss: 0.6703 - accuracy: 0.5837 - val_loss: 0.6812 - val_accuracy: 0.5693\n",
      "Epoch 7/100\n",
      "711/711 [==============================] - 13s 18ms/step - loss: 0.6669 - accuracy: 0.5898 - val_loss: 0.6853 - val_accuracy: 0.5617\n",
      "Epoch 8/100\n",
      "711/711 [==============================] - 13s 18ms/step - loss: 0.6622 - accuracy: 0.5962 - val_loss: 0.6946 - val_accuracy: 0.5603\n",
      "Epoch 9/100\n",
      "711/711 [==============================] - 13s 18ms/step - loss: 0.6578 - accuracy: 0.6022 - val_loss: 0.6969 - val_accuracy: 0.5607\n",
      "Epoch 10/100\n",
      "711/711 [==============================] - 13s 18ms/step - loss: 0.6516 - accuracy: 0.6105 - val_loss: 0.6984 - val_accuracy: 0.5577\n",
      "Epoch 11/100\n",
      "711/711 [==============================] - 13s 18ms/step - loss: 0.6457 - accuracy: 0.6176 - val_loss: 0.7007 - val_accuracy: 0.5584\n",
      "Epoch 12/100\n",
      "711/711 [==============================] - 13s 18ms/step - loss: 0.6387 - accuracy: 0.6257 - val_loss: 0.7102 - val_accuracy: 0.5482\n",
      "Epoch 13/100\n",
      "711/711 [==============================] - 13s 18ms/step - loss: 0.6323 - accuracy: 0.6345 - val_loss: 0.7171 - val_accuracy: 0.5577\n",
      "Epoch 14/100\n",
      "711/711 [==============================] - 13s 18ms/step - loss: 0.6251 - accuracy: 0.6398 - val_loss: 0.7225 - val_accuracy: 0.5543\n",
      "Epoch 15/100\n",
      "711/711 [==============================] - 13s 18ms/step - loss: 0.6183 - accuracy: 0.6467 - val_loss: 0.7432 - val_accuracy: 0.5481\n",
      "Epoch 16/100\n",
      "711/711 [==============================] - 13s 18ms/step - loss: 0.6123 - accuracy: 0.6513 - val_loss: 0.7531 - val_accuracy: 0.5381\n",
      "Epoch 17/100\n",
      "711/711 [==============================] - 13s 18ms/step - loss: 0.6048 - accuracy: 0.6580 - val_loss: 0.7560 - val_accuracy: 0.5434\n",
      "Epoch 18/100\n",
      "711/711 [==============================] - 13s 18ms/step - loss: 0.5984 - accuracy: 0.6644 - val_loss: 0.7758 - val_accuracy: 0.5378\n",
      "Epoch 19/100\n",
      "711/711 [==============================] - 13s 18ms/step - loss: 0.5912 - accuracy: 0.6698 - val_loss: 0.7818 - val_accuracy: 0.5358\n",
      "Epoch 20/100\n",
      "711/711 [==============================] - 13s 18ms/step - loss: 0.5847 - accuracy: 0.6740 - val_loss: 0.8084 - val_accuracy: 0.5309\n",
      "Epoch 21/100\n",
      "711/711 [==============================] - 13s 18ms/step - loss: 0.5782 - accuracy: 0.6815 - val_loss: 0.8128 - val_accuracy: 0.5351\n",
      "Epoch 22/100\n",
      "711/711 [==============================] - 13s 18ms/step - loss: 0.5721 - accuracy: 0.6849 - val_loss: 0.8113 - val_accuracy: 0.5329\n",
      "Epoch 23/100\n",
      "711/711 [==============================] - 13s 18ms/step - loss: 0.5642 - accuracy: 0.6920 - val_loss: 0.8328 - val_accuracy: 0.5301\n",
      "Epoch 24/100\n",
      "711/711 [==============================] - 13s 18ms/step - loss: 0.5600 - accuracy: 0.6945 - val_loss: 0.8540 - val_accuracy: 0.5298\n",
      "Epoch 25/100\n",
      "711/711 [==============================] - 13s 18ms/step - loss: 0.5530 - accuracy: 0.6986 - val_loss: 0.8704 - val_accuracy: 0.5282\n",
      "Epoch 26/100\n",
      "711/711 [==============================] - 13s 19ms/step - loss: 0.5480 - accuracy: 0.7030 - val_loss: 0.8682 - val_accuracy: 0.5328\n",
      "Epoch 27/100\n",
      "711/711 [==============================] - 13s 18ms/step - loss: 0.5424 - accuracy: 0.7065 - val_loss: 0.8946 - val_accuracy: 0.5353\n",
      "Epoch 28/100\n",
      "711/711 [==============================] - 13s 18ms/step - loss: 0.5375 - accuracy: 0.7123 - val_loss: 0.8900 - val_accuracy: 0.5306\n",
      "Epoch 29/100\n",
      "711/711 [==============================] - 13s 18ms/step - loss: 0.5316 - accuracy: 0.7160 - val_loss: 0.8994 - val_accuracy: 0.5329\n",
      "Epoch 30/100\n",
      "711/711 [==============================] - 13s 18ms/step - loss: 0.5269 - accuracy: 0.7198 - val_loss: 0.9383 - val_accuracy: 0.5207\n",
      "Epoch 31/100\n",
      "711/711 [==============================] - 13s 18ms/step - loss: 0.5228 - accuracy: 0.7226 - val_loss: 0.9445 - val_accuracy: 0.5207\n",
      "Epoch 32/100\n",
      "711/711 [==============================] - 13s 18ms/step - loss: 0.5166 - accuracy: 0.7262 - val_loss: 0.9467 - val_accuracy: 0.5245\n",
      "Epoch 33/100\n",
      "711/711 [==============================] - 13s 19ms/step - loss: 0.5135 - accuracy: 0.7288 - val_loss: 0.9691 - val_accuracy: 0.5264\n",
      "Epoch 34/100\n",
      "711/711 [==============================] - 13s 18ms/step - loss: 0.5081 - accuracy: 0.7310 - val_loss: 0.9842 - val_accuracy: 0.5224\n",
      "Epoch 35/100\n",
      "711/711 [==============================] - 13s 18ms/step - loss: 0.5031 - accuracy: 0.7352 - val_loss: 0.9994 - val_accuracy: 0.5232\n",
      "Epoch 36/100\n",
      "711/711 [==============================] - 13s 19ms/step - loss: 0.5009 - accuracy: 0.7369 - val_loss: 1.0150 - val_accuracy: 0.5173\n",
      "Epoch 37/100\n",
      "711/711 [==============================] - 13s 19ms/step - loss: 0.4964 - accuracy: 0.7414 - val_loss: 1.0221 - val_accuracy: 0.5209\n",
      "Epoch 38/100\n",
      "711/711 [==============================] - 13s 19ms/step - loss: 0.4919 - accuracy: 0.7428 - val_loss: 1.0383 - val_accuracy: 0.5188\n",
      "Epoch 39/100\n",
      "711/711 [==============================] - 13s 19ms/step - loss: 0.4887 - accuracy: 0.7436 - val_loss: 1.0675 - val_accuracy: 0.5208\n",
      "Epoch 40/100\n",
      "711/711 [==============================] - 13s 19ms/step - loss: 0.4830 - accuracy: 0.7480 - val_loss: 1.0471 - val_accuracy: 0.5222\n",
      "Epoch 41/100\n",
      "711/711 [==============================] - 13s 19ms/step - loss: 0.4812 - accuracy: 0.7491 - val_loss: 1.0859 - val_accuracy: 0.5203\n",
      "Epoch 42/100\n",
      "711/711 [==============================] - 13s 19ms/step - loss: 0.4783 - accuracy: 0.7515 - val_loss: 1.0880 - val_accuracy: 0.5189\n",
      "Epoch 43/100\n",
      "711/711 [==============================] - 13s 19ms/step - loss: 0.4740 - accuracy: 0.7541 - val_loss: 1.1139 - val_accuracy: 0.5203\n",
      "Epoch 44/100\n",
      "711/711 [==============================] - 13s 19ms/step - loss: 0.4719 - accuracy: 0.7570 - val_loss: 1.1280 - val_accuracy: 0.5180\n",
      "Epoch 45/100\n",
      "711/711 [==============================] - 14s 19ms/step - loss: 0.4680 - accuracy: 0.7578 - val_loss: 1.1150 - val_accuracy: 0.5182\n",
      "Epoch 46/100\n",
      "711/711 [==============================] - 13s 19ms/step - loss: 0.4643 - accuracy: 0.7600 - val_loss: 1.1544 - val_accuracy: 0.5188\n",
      "Epoch 47/100\n",
      "711/711 [==============================] - 13s 19ms/step - loss: 0.4607 - accuracy: 0.7628 - val_loss: 1.1540 - val_accuracy: 0.5196\n",
      "Epoch 48/100\n",
      "711/711 [==============================] - 13s 19ms/step - loss: 0.4582 - accuracy: 0.7649 - val_loss: 1.1362 - val_accuracy: 0.5218\n",
      "Epoch 49/100\n",
      "711/711 [==============================] - 14s 19ms/step - loss: 0.4560 - accuracy: 0.7665 - val_loss: 1.1501 - val_accuracy: 0.5228\n",
      "Epoch 50/100\n",
      "711/711 [==============================] - 13s 19ms/step - loss: 0.4538 - accuracy: 0.7673 - val_loss: 1.1899 - val_accuracy: 0.5203\n",
      "Epoch 51/100\n",
      "711/711 [==============================] - 13s 19ms/step - loss: 0.4503 - accuracy: 0.7707 - val_loss: 1.1921 - val_accuracy: 0.5166\n",
      "Epoch 52/100\n",
      "711/711 [==============================] - 13s 19ms/step - loss: 0.4465 - accuracy: 0.7729 - val_loss: 1.2173 - val_accuracy: 0.5193\n",
      "Epoch 53/100\n",
      "711/711 [==============================] - 13s 19ms/step - loss: 0.4438 - accuracy: 0.7732 - val_loss: 1.2135 - val_accuracy: 0.5199\n",
      "Epoch 54/100\n",
      "711/711 [==============================] - 13s 19ms/step - loss: 0.4421 - accuracy: 0.7754 - val_loss: 1.2541 - val_accuracy: 0.5170\n",
      "Epoch 55/100\n",
      "711/711 [==============================] - 13s 19ms/step - loss: 0.4407 - accuracy: 0.7750 - val_loss: 1.2477 - val_accuracy: 0.5142\n",
      "Epoch 56/100\n",
      "711/711 [==============================] - 13s 19ms/step - loss: 0.4369 - accuracy: 0.7778 - val_loss: 1.2519 - val_accuracy: 0.5143\n",
      "Epoch 57/100\n"
     ]
    },
    {
     "name": "stdout",
     "output_type": "stream",
     "text": [
      "711/711 [==============================] - 13s 18ms/step - loss: 0.4326 - accuracy: 0.7803 - val_loss: 1.2852 - val_accuracy: 0.5219\n",
      "Epoch 58/100\n",
      "711/711 [==============================] - 13s 18ms/step - loss: 0.4329 - accuracy: 0.7801 - val_loss: 1.3186 - val_accuracy: 0.5143\n",
      "Epoch 59/100\n",
      "711/711 [==============================] - 13s 18ms/step - loss: 0.4295 - accuracy: 0.7809 - val_loss: 1.3071 - val_accuracy: 0.5128\n",
      "Epoch 60/100\n",
      "711/711 [==============================] - 13s 18ms/step - loss: 0.4289 - accuracy: 0.7816 - val_loss: 1.3390 - val_accuracy: 0.5166\n",
      "Epoch 61/100\n",
      "711/711 [==============================] - 13s 18ms/step - loss: 0.4253 - accuracy: 0.7851 - val_loss: 1.3343 - val_accuracy: 0.5071\n",
      "Epoch 62/100\n",
      "711/711 [==============================] - 13s 18ms/step - loss: 0.4234 - accuracy: 0.7867 - val_loss: 1.3459 - val_accuracy: 0.5091\n",
      "Epoch 63/100\n",
      "711/711 [==============================] - 13s 18ms/step - loss: 0.4198 - accuracy: 0.7881 - val_loss: 1.3982 - val_accuracy: 0.5024\n",
      "Epoch 64/100\n",
      "711/711 [==============================] - 13s 18ms/step - loss: 0.4183 - accuracy: 0.7898 - val_loss: 1.3993 - val_accuracy: 0.5074\n",
      "Epoch 65/100\n",
      "711/711 [==============================] - 13s 18ms/step - loss: 0.4171 - accuracy: 0.7898 - val_loss: 1.3941 - val_accuracy: 0.5091\n",
      "Epoch 66/100\n",
      "711/711 [==============================] - 13s 18ms/step - loss: 0.4124 - accuracy: 0.7937 - val_loss: 1.4431 - val_accuracy: 0.5103\n",
      "Epoch 67/100\n",
      "711/711 [==============================] - 13s 18ms/step - loss: 0.4113 - accuracy: 0.7934 - val_loss: 1.4570 - val_accuracy: 0.5065\n",
      "Epoch 68/100\n",
      "711/711 [==============================] - 13s 18ms/step - loss: 0.4104 - accuracy: 0.7935 - val_loss: 1.4338 - val_accuracy: 0.5138\n",
      "Epoch 69/100\n",
      "711/711 [==============================] - 13s 18ms/step - loss: 0.4077 - accuracy: 0.7964 - val_loss: 1.4256 - val_accuracy: 0.5073\n",
      "Epoch 70/100\n",
      "711/711 [==============================] - 13s 18ms/step - loss: 0.4075 - accuracy: 0.7958 - val_loss: 1.4763 - val_accuracy: 0.5084\n",
      "Epoch 71/100\n",
      "711/711 [==============================] - 13s 18ms/step - loss: 0.4045 - accuracy: 0.7997 - val_loss: 1.4648 - val_accuracy: 0.5101\n",
      "Epoch 72/100\n",
      "711/711 [==============================] - 13s 18ms/step - loss: 0.4038 - accuracy: 0.7984 - val_loss: 1.4746 - val_accuracy: 0.5074\n",
      "Epoch 73/100\n",
      "711/711 [==============================] - 13s 18ms/step - loss: 0.4021 - accuracy: 0.8001 - val_loss: 1.4887 - val_accuracy: 0.5069\n",
      "Epoch 74/100\n",
      "711/711 [==============================] - 13s 18ms/step - loss: 0.3999 - accuracy: 0.8008 - val_loss: 1.4902 - val_accuracy: 0.4981\n",
      "Epoch 75/100\n",
      "711/711 [==============================] - 13s 18ms/step - loss: 0.3969 - accuracy: 0.8025 - val_loss: 1.5069 - val_accuracy: 0.5089\n",
      "Epoch 76/100\n",
      "711/711 [==============================] - 13s 18ms/step - loss: 0.3974 - accuracy: 0.8013 - val_loss: 1.5303 - val_accuracy: 0.4989\n",
      "Epoch 77/100\n",
      "711/711 [==============================] - 13s 18ms/step - loss: 0.3954 - accuracy: 0.8036 - val_loss: 1.5281 - val_accuracy: 0.4953\n",
      "Epoch 78/100\n",
      "711/711 [==============================] - 13s 18ms/step - loss: 0.3920 - accuracy: 0.8048 - val_loss: 1.5313 - val_accuracy: 0.5020\n",
      "Epoch 79/100\n",
      "711/711 [==============================] - 13s 18ms/step - loss: 0.3940 - accuracy: 0.8033 - val_loss: 1.5261 - val_accuracy: 0.5085\n",
      "Epoch 80/100\n",
      "711/711 [==============================] - 13s 18ms/step - loss: 0.3881 - accuracy: 0.8073 - val_loss: 1.5722 - val_accuracy: 0.5034\n",
      "Epoch 81/100\n",
      "711/711 [==============================] - 13s 18ms/step - loss: 0.3876 - accuracy: 0.8068 - val_loss: 1.5819 - val_accuracy: 0.5017\n",
      "Epoch 82/100\n",
      "711/711 [==============================] - 13s 18ms/step - loss: 0.3849 - accuracy: 0.8081 - val_loss: 1.5891 - val_accuracy: 0.5048\n",
      "Epoch 83/100\n",
      "711/711 [==============================] - 13s 18ms/step - loss: 0.3858 - accuracy: 0.8097 - val_loss: 1.6163 - val_accuracy: 0.5042\n",
      "Epoch 84/100\n",
      "711/711 [==============================] - 13s 18ms/step - loss: 0.3854 - accuracy: 0.8093 - val_loss: 1.6263 - val_accuracy: 0.5085\n",
      "Epoch 85/100\n",
      "711/711 [==============================] - 13s 18ms/step - loss: 0.3854 - accuracy: 0.8095 - val_loss: 1.5832 - val_accuracy: 0.5054\n",
      "Epoch 86/100\n",
      "711/711 [==============================] - 13s 18ms/step - loss: 0.3846 - accuracy: 0.8102 - val_loss: 1.5791 - val_accuracy: 0.5077\n",
      "Epoch 87/100\n",
      "711/711 [==============================] - 13s 18ms/step - loss: 0.3791 - accuracy: 0.8121 - val_loss: 1.6198 - val_accuracy: 0.5068\n",
      "Epoch 88/100\n",
      "711/711 [==============================] - 13s 18ms/step - loss: 0.3795 - accuracy: 0.8122 - val_loss: 1.6545 - val_accuracy: 0.5005\n",
      "Epoch 89/100\n",
      "711/711 [==============================] - 13s 18ms/step - loss: 0.3771 - accuracy: 0.8148 - val_loss: 1.6183 - val_accuracy: 0.5048\n",
      "Epoch 90/100\n",
      "711/711 [==============================] - 13s 18ms/step - loss: 0.3774 - accuracy: 0.8132 - val_loss: 1.6406 - val_accuracy: 0.5010\n",
      "Epoch 91/100\n",
      "711/711 [==============================] - 13s 18ms/step - loss: 0.3751 - accuracy: 0.8147 - val_loss: 1.6676 - val_accuracy: 0.5022\n",
      "Epoch 92/100\n",
      "711/711 [==============================] - 13s 18ms/step - loss: 0.3736 - accuracy: 0.8156 - val_loss: 1.6529 - val_accuracy: 0.5065\n",
      "Epoch 93/100\n",
      "711/711 [==============================] - 13s 18ms/step - loss: 0.3743 - accuracy: 0.8164 - val_loss: 1.6932 - val_accuracy: 0.5009\n",
      "Epoch 94/100\n",
      "711/711 [==============================] - 13s 18ms/step - loss: 0.3718 - accuracy: 0.8165 - val_loss: 1.6728 - val_accuracy: 0.5011\n",
      "Epoch 95/100\n",
      "711/711 [==============================] - 13s 18ms/step - loss: 0.3705 - accuracy: 0.8182 - val_loss: 1.6510 - val_accuracy: 0.5075\n",
      "Epoch 96/100\n",
      "711/711 [==============================] - 13s 18ms/step - loss: 0.3699 - accuracy: 0.8185 - val_loss: 1.7393 - val_accuracy: 0.5055\n",
      "Epoch 97/100\n",
      "711/711 [==============================] - 13s 18ms/step - loss: 0.3660 - accuracy: 0.8215 - val_loss: 1.6959 - val_accuracy: 0.5008\n",
      "Epoch 98/100\n",
      "711/711 [==============================] - 13s 18ms/step - loss: 0.3659 - accuracy: 0.8200 - val_loss: 1.7292 - val_accuracy: 0.5018\n",
      "Epoch 99/100\n",
      "711/711 [==============================] - 13s 18ms/step - loss: 0.3665 - accuracy: 0.8205 - val_loss: 1.7284 - val_accuracy: 0.5018\n",
      "Epoch 100/100\n",
      "711/711 [==============================] - 13s 19ms/step - loss: 0.3659 - accuracy: 0.8208 - val_loss: 1.7490 - val_accuracy: 0.5036\n"
     ]
    }
   ],
   "source": [
    "history = model.fit(train_X, train_y, batch_size=100, epochs=100, validation_data=(test_X, test_y))"
   ]
  }
 ],
 "metadata": {
  "kernelspec": {
   "display_name": "Python 3",
   "language": "python",
   "name": "python3"
  },
  "language_info": {
   "codemirror_mode": {
    "name": "ipython",
    "version": 3
   },
   "file_extension": ".py",
   "mimetype": "text/x-python",
   "name": "python",
   "nbconvert_exporter": "python",
   "pygments_lexer": "ipython3",
   "version": "3.7.6"
  }
 },
 "nbformat": 4,
 "nbformat_minor": 4
}
