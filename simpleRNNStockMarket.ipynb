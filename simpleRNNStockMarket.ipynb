{
 "cells": [
  {
   "cell_type": "code",
   "execution_count": 1,
   "metadata": {},
   "outputs": [],
   "source": [
    "import pandas as pd\n",
    "import numpy as np\n",
    "from tensorflow.keras.models import Sequential\n",
    "from tensorflow.keras.layers import Dense, SimpleRNN\n",
    "import matplotlib.pyplot as plt"
   ]
  },
  {
   "cell_type": "code",
   "execution_count": 2,
   "metadata": {},
   "outputs": [
    {
     "data": {
      "text/html": [
       "<div>\n",
       "<style scoped>\n",
       "    .dataframe tbody tr th:only-of-type {\n",
       "        vertical-align: middle;\n",
       "    }\n",
       "\n",
       "    .dataframe tbody tr th {\n",
       "        vertical-align: top;\n",
       "    }\n",
       "\n",
       "    .dataframe thead th {\n",
       "        text-align: right;\n",
       "    }\n",
       "</style>\n",
       "<table border=\"1\" class=\"dataframe\">\n",
       "  <thead>\n",
       "    <tr style=\"text-align: right;\">\n",
       "      <th></th>\n",
       "      <th>Date</th>\n",
       "      <th>Open</th>\n",
       "      <th>High</th>\n",
       "      <th>Low</th>\n",
       "      <th>Close</th>\n",
       "      <th>Volume</th>\n",
       "      <th>Name</th>\n",
       "    </tr>\n",
       "  </thead>\n",
       "  <tbody>\n",
       "    <tr>\n",
       "      <th>0</th>\n",
       "      <td>2006-01-03</td>\n",
       "      <td>39.69</td>\n",
       "      <td>41.22</td>\n",
       "      <td>38.79</td>\n",
       "      <td>40.91</td>\n",
       "      <td>24232729</td>\n",
       "      <td>AABA</td>\n",
       "    </tr>\n",
       "    <tr>\n",
       "      <th>1</th>\n",
       "      <td>2006-01-04</td>\n",
       "      <td>41.22</td>\n",
       "      <td>41.90</td>\n",
       "      <td>40.77</td>\n",
       "      <td>40.97</td>\n",
       "      <td>20553479</td>\n",
       "      <td>AABA</td>\n",
       "    </tr>\n",
       "    <tr>\n",
       "      <th>2</th>\n",
       "      <td>2006-01-05</td>\n",
       "      <td>40.93</td>\n",
       "      <td>41.73</td>\n",
       "      <td>40.85</td>\n",
       "      <td>41.53</td>\n",
       "      <td>12829610</td>\n",
       "      <td>AABA</td>\n",
       "    </tr>\n",
       "    <tr>\n",
       "      <th>3</th>\n",
       "      <td>2006-01-06</td>\n",
       "      <td>42.88</td>\n",
       "      <td>43.57</td>\n",
       "      <td>42.80</td>\n",
       "      <td>43.21</td>\n",
       "      <td>29422828</td>\n",
       "      <td>AABA</td>\n",
       "    </tr>\n",
       "    <tr>\n",
       "      <th>4</th>\n",
       "      <td>2006-01-09</td>\n",
       "      <td>43.10</td>\n",
       "      <td>43.66</td>\n",
       "      <td>42.82</td>\n",
       "      <td>43.42</td>\n",
       "      <td>16268338</td>\n",
       "      <td>AABA</td>\n",
       "    </tr>\n",
       "  </tbody>\n",
       "</table>\n",
       "</div>"
      ],
      "text/plain": [
       "         Date   Open   High    Low  Close    Volume  Name\n",
       "0  2006-01-03  39.69  41.22  38.79  40.91  24232729  AABA\n",
       "1  2006-01-04  41.22  41.90  40.77  40.97  20553479  AABA\n",
       "2  2006-01-05  40.93  41.73  40.85  41.53  12829610  AABA\n",
       "3  2006-01-06  42.88  43.57  42.80  43.21  29422828  AABA\n",
       "4  2006-01-09  43.10  43.66  42.82  43.42  16268338  AABA"
      ]
     },
     "execution_count": 2,
     "metadata": {},
     "output_type": "execute_result"
    }
   ],
   "source": [
    "data = pd.read_csv('data/AABA_2006-01-01_to_2018-01-01.csv')\n",
    "data.head()"
   ]
  },
  {
   "cell_type": "code",
   "execution_count": 3,
   "metadata": {},
   "outputs": [
    {
     "name": "stdout",
     "output_type": "stream",
     "text": [
      "<class 'pandas.core.frame.DataFrame'>\n",
      "RangeIndex: 3019 entries, 0 to 3018\n",
      "Data columns (total 7 columns):\n",
      " #   Column  Non-Null Count  Dtype  \n",
      "---  ------  --------------  -----  \n",
      " 0   Date    3019 non-null   object \n",
      " 1   Open    3019 non-null   float64\n",
      " 2   High    3019 non-null   float64\n",
      " 3   Low     3019 non-null   float64\n",
      " 4   Close   3019 non-null   float64\n",
      " 5   Volume  3019 non-null   int64  \n",
      " 6   Name    3019 non-null   object \n",
      "dtypes: float64(4), int64(1), object(2)\n",
      "memory usage: 165.2+ KB\n"
     ]
    }
   ],
   "source": [
    "data.info()"
   ]
  },
  {
   "cell_type": "code",
   "execution_count": 4,
   "metadata": {},
   "outputs": [
    {
     "data": {
      "text/html": [
       "<div>\n",
       "<style scoped>\n",
       "    .dataframe tbody tr th:only-of-type {\n",
       "        vertical-align: middle;\n",
       "    }\n",
       "\n",
       "    .dataframe tbody tr th {\n",
       "        vertical-align: top;\n",
       "    }\n",
       "\n",
       "    .dataframe thead th {\n",
       "        text-align: right;\n",
       "    }\n",
       "</style>\n",
       "<table border=\"1\" class=\"dataframe\">\n",
       "  <thead>\n",
       "    <tr style=\"text-align: right;\">\n",
       "      <th></th>\n",
       "      <th>Open</th>\n",
       "    </tr>\n",
       "  </thead>\n",
       "  <tbody>\n",
       "    <tr>\n",
       "      <th>0</th>\n",
       "      <td>39.69</td>\n",
       "    </tr>\n",
       "    <tr>\n",
       "      <th>1</th>\n",
       "      <td>41.22</td>\n",
       "    </tr>\n",
       "    <tr>\n",
       "      <th>2</th>\n",
       "      <td>40.93</td>\n",
       "    </tr>\n",
       "    <tr>\n",
       "      <th>3</th>\n",
       "      <td>42.88</td>\n",
       "    </tr>\n",
       "    <tr>\n",
       "      <th>4</th>\n",
       "      <td>43.10</td>\n",
       "    </tr>\n",
       "  </tbody>\n",
       "</table>\n",
       "</div>"
      ],
      "text/plain": [
       "    Open\n",
       "0  39.69\n",
       "1  41.22\n",
       "2  40.93\n",
       "3  42.88\n",
       "4  43.10"
      ]
     },
     "execution_count": 4,
     "metadata": {},
     "output_type": "execute_result"
    }
   ],
   "source": [
    "data = data[['Open']]\n",
    "data.head()"
   ]
  },
  {
   "cell_type": "code",
   "execution_count": 5,
   "metadata": {},
   "outputs": [
    {
     "data": {
      "text/plain": [
       "[<matplotlib.lines.Line2D at 0x22850a13730>]"
      ]
     },
     "execution_count": 5,
     "metadata": {},
     "output_type": "execute_result"
    },
    {
     "data": {
      "image/png": "[encoded data removed]",
      "text/plain": [
       "<Figure size 432x288 with 1 Axes>"
      ]
     },
     "metadata": {
      "needs_background": "light"
     },
     "output_type": "display_data"
    }
   ],
   "source": [
    "plt.plot(data['Open'])"
   ]
  },
  {
   "cell_type": "code",
   "execution_count": 6,
   "metadata": {},
   "outputs": [],
   "source": [
    "X = data['Open'].values"
   ]
  },
  {
   "cell_type": "code",
   "execution_count": 7,
   "metadata": {},
   "outputs": [
    {
     "data": {
      "text/plain": [
       "array([39.69, 41.22, 40.93, 42.88, 43.1 , 42.96, 42.19, 41.92, 41.  ,\n",
       "       39.09])"
      ]
     },
     "execution_count": 7,
     "metadata": {},
     "output_type": "execute_result"
    }
   ],
   "source": [
    "X[:10]"
   ]
  },
  {
   "cell_type": "code",
   "execution_count": 9,
   "metadata": {},
   "outputs": [],
   "source": [
    "# [\n",
    "#     [0.        , 0.00999983, 0.01999867] -> [0.0299955],\n",
    "#     [0.00999983, 0.01999867, 0.0299955] -> [0.03998933],\n",
    "#     [0.01999867, 0.0299955 , 0.03998933] -> [0.04997917]\n",
    "#     ...\n",
    "# ]"
   ]
  },
  {
   "cell_type": "code",
   "execution_count": 8,
   "metadata": {},
   "outputs": [],
   "source": [
    "X_train, X_test = X[:2500], X[2500:]"
   ]
  },
  {
   "cell_type": "code",
   "execution_count": 9,
   "metadata": {},
   "outputs": [],
   "source": [
    "model = Sequential()\n",
    "model.add(SimpleRNN(units=64, activation='tanh'))\n",
    "model.add(Dense(1))"
   ]
  },
  {
   "cell_type": "code",
   "execution_count": 10,
   "metadata": {},
   "outputs": [],
   "source": [
    "model.compile(loss='mean_absolute_error', optimizer='adam')"
   ]
  },
  {
   "cell_type": "code",
   "execution_count": 11,
   "metadata": {},
   "outputs": [],
   "source": [
    "XT, yT = [], []\n",
    "for i in range(len(X_train) - 90):\n",
    "    d = i + 90\n",
    "    XT.append(X_train[i:d,])\n",
    "    yT.append(X_train[d])"
   ]
  },
  {
   "cell_type": "code",
   "execution_count": 12,
   "metadata": {},
   "outputs": [],
   "source": [
    "Xt, yt = [], []\n",
    "for i in range(len(X_test) - 90):\n",
    "    d = i + 90\n",
    "    Xt.append(X_test[i:d,])\n",
    "    yt.append(X_test[d])"
   ]
  },
  {
   "cell_type": "code",
   "execution_count": 13,
   "metadata": {},
   "outputs": [],
   "source": [
    "XT = np.array(XT)\n",
    "Xt = np.array(Xt)"
   ]
  },
  {
   "cell_type": "code",
   "execution_count": 14,
   "metadata": {},
   "outputs": [
    {
     "data": {
      "text/plain": [
       "(2410, 90)"
      ]
     },
     "execution_count": 14,
     "metadata": {},
     "output_type": "execute_result"
    }
   ],
   "source": [
    "XT.shape"
   ]
  },
  {
   "cell_type": "code",
   "execution_count": 15,
   "metadata": {},
   "outputs": [
    {
     "data": {
      "text/plain": [
       "array([41.22, 40.93, 42.88, 43.1 , 42.96, 42.19, 41.92, 41.  , 39.09,\n",
       "       35.01, 35.82, 34.44, 34.22, 34.55, 35.43, 34.94, 35.26, 35.06,\n",
       "       35.2 , 34.45, 35.01, 34.  , 33.9 , 33.01, 33.24, 33.01, 32.58,\n",
       "       32.21, 32.14, 32.62, 33.3 , 32.88, 32.9 , 32.49, 33.01, 33.2 ,\n",
       "       33.11, 32.63, 32.21, 32.01, 31.7 , 31.53, 31.42, 31.31, 31.05,\n",
       "       30.4 , 30.72, 30.1 , 31.25, 30.77, 30.34, 30.38, 30.42, 30.33,\n",
       "       31.52, 32.28, 31.84, 31.45, 32.44, 32.75, 32.45, 32.41, 31.69,\n",
       "       32.3 , 32.12, 32.85, 32.28, 32.45, 31.44, 31.14, 31.16, 31.17,\n",
       "       33.47, 33.48, 33.36, 33.01, 32.99, 32.3 , 32.79, 32.88, 32.99,\n",
       "       32.2 , 32.4 , 32.4 , 32.63, 33.09, 32.68, 32.48, 31.96, 30.71])"
      ]
     },
     "execution_count": 15,
     "metadata": {},
     "output_type": "execute_result"
    }
   ],
   "source": [
    "XT[1]"
   ]
  },
  {
   "cell_type": "code",
   "execution_count": 16,
   "metadata": {},
   "outputs": [
    {
     "data": {
      "text/plain": [
       "30.85"
      ]
     },
     "execution_count": 16,
     "metadata": {},
     "output_type": "execute_result"
    }
   ],
   "source": [
    "yT[1]"
   ]
  },
  {
   "cell_type": "code",
   "execution_count": 17,
   "metadata": {},
   "outputs": [],
   "source": [
    "XT = np.reshape(XT, (XT.shape[0], XT.shape[1], 1))\n",
    "Xt = np.reshape(Xt, (Xt.shape[0], Xt.shape[1], 1))"
   ]
  },
  {
   "cell_type": "code",
   "execution_count": 18,
   "metadata": {},
   "outputs": [
    {
     "data": {
      "text/plain": [
       "(2410, 90, 1)"
      ]
     },
     "execution_count": 18,
     "metadata": {},
     "output_type": "execute_result"
    }
   ],
   "source": [
    "XT.shape"
   ]
  },
  {
   "cell_type": "code",
   "execution_count": 19,
   "metadata": {
    "scrolled": true
   },
   "outputs": [
    {
     "data": {
      "text/plain": [
       "array([[41.22],\n",
       "       [40.93],\n",
       "       [42.88],\n",
       "       [43.1 ],\n",
       "       [42.96],\n",
       "       [42.19],\n",
       "       [41.92],\n",
       "       [41.  ],\n",
       "       [39.09],\n",
       "       [35.01],\n",
       "       [35.82],\n",
       "       [34.44],\n",
       "       [34.22],\n",
       "       [34.55],\n",
       "       [35.43],\n",
       "       [34.94],\n",
       "       [35.26],\n",
       "       [35.06],\n",
       "       [35.2 ],\n",
       "       [34.45],\n",
       "       [35.01],\n",
       "       [34.  ],\n",
       "       [33.9 ],\n",
       "       [33.01],\n",
       "       [33.24],\n",
       "       [33.01],\n",
       "       [32.58],\n",
       "       [32.21],\n",
       "       [32.14],\n",
       "       [32.62],\n",
       "       [33.3 ],\n",
       "       [32.88],\n",
       "       [32.9 ],\n",
       "       [32.49],\n",
       "       [33.01],\n",
       "       [33.2 ],\n",
       "       [33.11],\n",
       "       [32.63],\n",
       "       [32.21],\n",
       "       [32.01],\n",
       "       [31.7 ],\n",
       "       [31.53],\n",
       "       [31.42],\n",
       "       [31.31],\n",
       "       [31.05],\n",
       "       [30.4 ],\n",
       "       [30.72],\n",
       "       [30.1 ],\n",
       "       [31.25],\n",
       "       [30.77],\n",
       "       [30.34],\n",
       "       [30.38],\n",
       "       [30.42],\n",
       "       [30.33],\n",
       "       [31.52],\n",
       "       [32.28],\n",
       "       [31.84],\n",
       "       [31.45],\n",
       "       [32.44],\n",
       "       [32.75],\n",
       "       [32.45],\n",
       "       [32.41],\n",
       "       [31.69],\n",
       "       [32.3 ],\n",
       "       [32.12],\n",
       "       [32.85],\n",
       "       [32.28],\n",
       "       [32.45],\n",
       "       [31.44],\n",
       "       [31.14],\n",
       "       [31.16],\n",
       "       [31.17],\n",
       "       [33.47],\n",
       "       [33.48],\n",
       "       [33.36],\n",
       "       [33.01],\n",
       "       [32.99],\n",
       "       [32.3 ],\n",
       "       [32.79],\n",
       "       [32.88],\n",
       "       [32.99],\n",
       "       [32.2 ],\n",
       "       [32.4 ],\n",
       "       [32.4 ],\n",
       "       [32.63],\n",
       "       [33.09],\n",
       "       [32.68],\n",
       "       [32.48],\n",
       "       [31.96],\n",
       "       [30.71]])"
      ]
     },
     "execution_count": 19,
     "metadata": {},
     "output_type": "execute_result"
    }
   ],
   "source": [
    "XT[1]"
   ]
  },
  {
   "cell_type": "code",
   "execution_count": 20,
   "metadata": {},
   "outputs": [],
   "source": [
    "yT = np.array(yT)\n",
    "yt = np.array(yt)"
   ]
  },
  {
   "cell_type": "code",
   "execution_count": 22,
   "metadata": {},
   "outputs": [
    {
     "name": "stdout",
     "output_type": "stream",
     "text": [
      "Epoch 1/25\n",
      "61/61 [==============================] - 2s 27ms/step - loss: 0.4011\n",
      "Epoch 2/25\n",
      "61/61 [==============================] - 2s 29ms/step - loss: 0.4148\n",
      "Epoch 3/25\n",
      "61/61 [==============================] - 2s 29ms/step - loss: 0.4120\n",
      "Epoch 4/25\n",
      "61/61 [==============================] - 2s 28ms/step - loss: 0.4122\n",
      "Epoch 5/25\n",
      "61/61 [==============================] - 2s 32ms/step - loss: 0.4091\n",
      "Epoch 6/25\n",
      "61/61 [==============================] - 2s 26ms/step - loss: 0.4059\n",
      "Epoch 7/25\n",
      "61/61 [==============================] - 2s 31ms/step - loss: 0.4104\n",
      "Epoch 8/25\n",
      "61/61 [==============================] - 2s 31ms/step - loss: 0.4115\n",
      "Epoch 9/25\n",
      "61/61 [==============================] - 2s 33ms/step - loss: 0.4087\n",
      "Epoch 10/25\n",
      "61/61 [==============================] - 2s 33ms/step - loss: 0.4156\n",
      "Epoch 11/25\n",
      "61/61 [==============================] - 2s 32ms/step - loss: 0.4064\n",
      "Epoch 12/25\n",
      "61/61 [==============================] - 2s 35ms/step - loss: 0.4056\n",
      "Epoch 13/25\n",
      "61/61 [==============================] - 2s 26ms/step - loss: 0.4168\n",
      "Epoch 14/25\n",
      "61/61 [==============================] - 2s 28ms/step - loss: 0.4127\n",
      "Epoch 15/25\n",
      "61/61 [==============================] - 2s 27ms/step - loss: 0.4073\n",
      "Epoch 16/25\n",
      "61/61 [==============================] - 2s 30ms/step - loss: 0.4124\n",
      "Epoch 17/25\n",
      "61/61 [==============================] - 2s 30ms/step - loss: 0.4115\n",
      "Epoch 18/25\n",
      "61/61 [==============================] - 2s 31ms/step - loss: 0.4096\n",
      "Epoch 19/25\n",
      "61/61 [==============================] - 2s 28ms/step - loss: 0.4110\n",
      "Epoch 20/25\n",
      "61/61 [==============================] - 2s 30ms/step - loss: 0.4125\n",
      "Epoch 21/25\n",
      "61/61 [==============================] - 2s 27ms/step - loss: 0.4027\n",
      "Epoch 22/25\n",
      "61/61 [==============================] - 2s 29ms/step - loss: 0.4184\n",
      "Epoch 23/25\n",
      "61/61 [==============================] - 2s 29ms/step - loss: 0.4053\n",
      "Epoch 24/25\n",
      "61/61 [==============================] - 2s 30ms/step - loss: 0.4092\n",
      "Epoch 25/25\n",
      "61/61 [==============================] - 2s 29ms/step - loss: 0.4112\n"
     ]
    }
   ],
   "source": [
    "history = model.fit(XT, yT, epochs=25, batch_size=40)"
   ]
  },
  {
   "cell_type": "code",
   "execution_count": 23,
   "metadata": {},
   "outputs": [
    {
     "name": "stdout",
     "output_type": "stream",
     "text": [
      "14/14 [==============================] - 1s 12ms/step - loss: 4.5269\n"
     ]
    },
    {
     "data": {
      "text/plain": [
       "4.526933670043945"
      ]
     },
     "execution_count": 23,
     "metadata": {},
     "output_type": "execute_result"
    }
   ],
   "source": [
    "model.evaluate(Xt, yt)"
   ]
  },
  {
   "cell_type": "code",
   "execution_count": 24,
   "metadata": {},
   "outputs": [
    {
     "name": "stdout",
     "output_type": "stream",
     "text": [
      "76/76 [==============================] - 2s 12ms/step\n",
      "14/14 [==============================] - 0s 12ms/step\n"
     ]
    }
   ],
   "source": [
    "XTPredicted = model.predict(XT)\n",
    "XtPredicted = model.predict(Xt)\n",
    "XFinal = np.concatenate([XTPredicted, XtPredicted], axis=0)"
   ]
  },
  {
   "cell_type": "code",
   "execution_count": 25,
   "metadata": {},
   "outputs": [
    {
     "data": {
      "text/plain": [
       "[<matplotlib.lines.Line2D at 0x2285894f9d0>]"
      ]
     },
     "execution_count": 25,
     "metadata": {},
     "output_type": "execute_result"
    },
    {
     "data": {
      "image/png": "[encoded data removed]",
      "text/plain": [
       "<Figure size 432x288 with 1 Axes>"
      ]
     },
     "metadata": {
      "needs_background": "light"
     },
     "output_type": "display_data"
    }
   ],
   "source": [
    "plt.plot(X, color='red')\n",
    "plt.plot(XFinal, color='blue')"
   ]
  }
 ],
 "metadata": {
  "kernelspec": {
   "display_name": "Python 3.10.2 64-bit",
   "language": "python",
   "name": "python3"
  },
  "language_info": {
   "codemirror_mode": {
    "name": "ipython",
    "version": 3
   },
   "file_extension": ".py",
   "mimetype": "text/x-python",
   "name": "python",
   "nbconvert_exporter": "python",
   "pygments_lexer": "ipython3",
   "version": "3.10.2"
  },
  "vscode": {
   "interpreter": {
    "hash": "0354d326129403289107761bee1c2024935d02ad6cbe1c7dd64c392723c72e60"
   }
  }
 },
 "nbformat": 4,
 "nbformat_minor": 4
}
