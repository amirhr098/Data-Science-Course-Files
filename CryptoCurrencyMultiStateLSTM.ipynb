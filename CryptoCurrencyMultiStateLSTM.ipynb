{
 "cells": [
  {
   "cell_type": "code",
   "execution_count": 1,
   "metadata": {},
   "outputs": [],
   "source": [
    "import pandas as pd\n",
    "import numpy as np\n",
    "from matplotlib import pyplot\n",
    "from collections import deque\n",
    "from sklearn import preprocessing\n",
    "import random"
   ]
  },
  {
   "cell_type": "code",
   "execution_count": 2,
   "metadata": {},
   "outputs": [],
   "source": [
    "main_dataframe = pd.DataFrame()"
   ]
  },
  {
   "cell_type": "code",
   "execution_count": 3,
   "metadata": {},
   "outputs": [],
   "source": [
    "currencies = ['BCH-USD', 'BTC-USD', 'ETH-USD', 'LTC-USD']\n",
    "for c in currencies:\n",
    "    dataset = 'data/' + c + '.csv'\n",
    "    df = pd.read_csv(dataset, names=['time', 'low', 'high', 'open', 'close', 'volume'])\n",
    "    df.rename(columns={'close': c + '_close', 'volume': c + '_volume'}, inplace=True)\n",
    "    df.set_index('time', inplace=True)\n",
    "    df = df[[c + '_close', c + '_volume']]\n",
    "    if len(main_dataframe) == 0:\n",
    "        main_dataframe = df\n",
    "    else:\n",
    "        main_dataframe = main_dataframe.join(df)"
   ]
  },
  {
   "cell_type": "code",
   "execution_count": 4,
   "metadata": {},
   "outputs": [
    {
     "data": {
      "text/html": [
       "<div>\n",
       "<style scoped>\n",
       "    .dataframe tbody tr th:only-of-type {\n",
       "        vertical-align: middle;\n",
       "    }\n",
       "\n",
       "    .dataframe tbody tr th {\n",
       "        vertical-align: top;\n",
       "    }\n",
       "\n",
       "    .dataframe thead th {\n",
       "        text-align: right;\n",
       "    }\n",
       "</style>\n",
       "<table border=\"1\" class=\"dataframe\">\n",
       "  <thead>\n",
       "    <tr style=\"text-align: right;\">\n",
       "      <th></th>\n",
       "      <th>BCH-USD_close</th>\n",
       "      <th>BCH-USD_volume</th>\n",
       "      <th>BTC-USD_close</th>\n",
       "      <th>BTC-USD_volume</th>\n",
       "      <th>ETH-USD_close</th>\n",
       "      <th>ETH-USD_volume</th>\n",
       "      <th>LTC-USD_close</th>\n",
       "      <th>LTC-USD_volume</th>\n",
       "    </tr>\n",
       "    <tr>\n",
       "      <th>time</th>\n",
       "      <th></th>\n",
       "      <th></th>\n",
       "      <th></th>\n",
       "      <th></th>\n",
       "      <th></th>\n",
       "      <th></th>\n",
       "      <th></th>\n",
       "      <th></th>\n",
       "    </tr>\n",
       "  </thead>\n",
       "  <tbody>\n",
       "    <tr>\n",
       "      <th>1528968660</th>\n",
       "      <td>871.719971</td>\n",
       "      <td>5.675361</td>\n",
       "      <td>6489.549805</td>\n",
       "      <td>0.587100</td>\n",
       "      <td>NaN</td>\n",
       "      <td>NaN</td>\n",
       "      <td>96.580002</td>\n",
       "      <td>9.647200</td>\n",
       "    </tr>\n",
       "    <tr>\n",
       "      <th>1528968720</th>\n",
       "      <td>870.859985</td>\n",
       "      <td>26.856577</td>\n",
       "      <td>6487.379883</td>\n",
       "      <td>7.706374</td>\n",
       "      <td>486.01001</td>\n",
       "      <td>26.019083</td>\n",
       "      <td>96.660004</td>\n",
       "      <td>314.387024</td>\n",
       "    </tr>\n",
       "    <tr>\n",
       "      <th>1528968780</th>\n",
       "      <td>870.099976</td>\n",
       "      <td>1.124300</td>\n",
       "      <td>6479.410156</td>\n",
       "      <td>3.088252</td>\n",
       "      <td>486.00000</td>\n",
       "      <td>8.449400</td>\n",
       "      <td>96.570000</td>\n",
       "      <td>77.129799</td>\n",
       "    </tr>\n",
       "    <tr>\n",
       "      <th>1528968840</th>\n",
       "      <td>870.789978</td>\n",
       "      <td>1.749862</td>\n",
       "      <td>6479.410156</td>\n",
       "      <td>1.404100</td>\n",
       "      <td>485.75000</td>\n",
       "      <td>26.994646</td>\n",
       "      <td>96.500000</td>\n",
       "      <td>7.216067</td>\n",
       "    </tr>\n",
       "    <tr>\n",
       "      <th>1528968900</th>\n",
       "      <td>870.000000</td>\n",
       "      <td>1.680500</td>\n",
       "      <td>6479.979980</td>\n",
       "      <td>0.753000</td>\n",
       "      <td>486.00000</td>\n",
       "      <td>77.355759</td>\n",
       "      <td>96.389999</td>\n",
       "      <td>524.539978</td>\n",
       "    </tr>\n",
       "  </tbody>\n",
       "</table>\n",
       "</div>"
      ],
      "text/plain": [
       "            BCH-USD_close  BCH-USD_volume  BTC-USD_close  BTC-USD_volume  \\\n",
       "time                                                                       \n",
       "1528968660     871.719971        5.675361    6489.549805        0.587100   \n",
       "1528968720     870.859985       26.856577    6487.379883        7.706374   \n",
       "1528968780     870.099976        1.124300    6479.410156        3.088252   \n",
       "1528968840     870.789978        1.749862    6479.410156        1.404100   \n",
       "1528968900     870.000000        1.680500    6479.979980        0.753000   \n",
       "\n",
       "            ETH-USD_close  ETH-USD_volume  LTC-USD_close  LTC-USD_volume  \n",
       "time                                                                      \n",
       "1528968660            NaN             NaN      96.580002        9.647200  \n",
       "1528968720      486.01001       26.019083      96.660004      314.387024  \n",
       "1528968780      486.00000        8.449400      96.570000       77.129799  \n",
       "1528968840      485.75000       26.994646      96.500000        7.216067  \n",
       "1528968900      486.00000       77.355759      96.389999      524.539978  "
      ]
     },
     "execution_count": 4,
     "metadata": {},
     "output_type": "execute_result"
    }
   ],
   "source": [
    "main_dataframe.head()"
   ]
  },
  {
   "cell_type": "code",
   "execution_count": 5,
   "metadata": {},
   "outputs": [
    {
     "data": {
      "text/plain": [
       "BCH-USD_close        0\n",
       "BCH-USD_volume       0\n",
       "BTC-USD_close     5122\n",
       "BTC-USD_volume    5122\n",
       "ETH-USD_close      195\n",
       "ETH-USD_volume     195\n",
       "LTC-USD_close      836\n",
       "LTC-USD_volume     836\n",
       "dtype: int64"
      ]
     },
     "execution_count": 5,
     "metadata": {},
     "output_type": "execute_result"
    }
   ],
   "source": [
    "main_dataframe.isnull().sum()"
   ]
  },
  {
   "cell_type": "code",
   "execution_count": 6,
   "metadata": {},
   "outputs": [],
   "source": [
    "main_dataframe.fillna(method='ffill', inplace=True)"
   ]
  },
  {
   "cell_type": "code",
   "execution_count": 7,
   "metadata": {},
   "outputs": [
    {
     "data": {
      "text/plain": [
       "BCH-USD_close     0\n",
       "BCH-USD_volume    0\n",
       "BTC-USD_close     0\n",
       "BTC-USD_volume    0\n",
       "ETH-USD_close     1\n",
       "ETH-USD_volume    1\n",
       "LTC-USD_close     0\n",
       "LTC-USD_volume    0\n",
       "dtype: int64"
      ]
     },
     "execution_count": 7,
     "metadata": {},
     "output_type": "execute_result"
    }
   ],
   "source": [
    "main_dataframe.isnull().sum()"
   ]
  },
  {
   "cell_type": "code",
   "execution_count": 8,
   "metadata": {},
   "outputs": [
    {
     "data": {
      "text/html": [
       "<div>\n",
       "<style scoped>\n",
       "    .dataframe tbody tr th:only-of-type {\n",
       "        vertical-align: middle;\n",
       "    }\n",
       "\n",
       "    .dataframe tbody tr th {\n",
       "        vertical-align: top;\n",
       "    }\n",
       "\n",
       "    .dataframe thead th {\n",
       "        text-align: right;\n",
       "    }\n",
       "</style>\n",
       "<table border=\"1\" class=\"dataframe\">\n",
       "  <thead>\n",
       "    <tr style=\"text-align: right;\">\n",
       "      <th></th>\n",
       "      <th>BCH-USD_close</th>\n",
       "      <th>BCH-USD_volume</th>\n",
       "      <th>BTC-USD_close</th>\n",
       "      <th>BTC-USD_volume</th>\n",
       "      <th>ETH-USD_close</th>\n",
       "      <th>ETH-USD_volume</th>\n",
       "      <th>LTC-USD_close</th>\n",
       "      <th>LTC-USD_volume</th>\n",
       "    </tr>\n",
       "    <tr>\n",
       "      <th>time</th>\n",
       "      <th></th>\n",
       "      <th></th>\n",
       "      <th></th>\n",
       "      <th></th>\n",
       "      <th></th>\n",
       "      <th></th>\n",
       "      <th></th>\n",
       "      <th></th>\n",
       "    </tr>\n",
       "  </thead>\n",
       "  <tbody>\n",
       "    <tr>\n",
       "      <th>1528968660</th>\n",
       "      <td>871.719971</td>\n",
       "      <td>5.675361</td>\n",
       "      <td>6489.549805</td>\n",
       "      <td>0.587100</td>\n",
       "      <td>NaN</td>\n",
       "      <td>NaN</td>\n",
       "      <td>96.580002</td>\n",
       "      <td>9.647200</td>\n",
       "    </tr>\n",
       "    <tr>\n",
       "      <th>1528968720</th>\n",
       "      <td>870.859985</td>\n",
       "      <td>26.856577</td>\n",
       "      <td>6487.379883</td>\n",
       "      <td>7.706374</td>\n",
       "      <td>486.01001</td>\n",
       "      <td>26.019083</td>\n",
       "      <td>96.660004</td>\n",
       "      <td>314.387024</td>\n",
       "    </tr>\n",
       "    <tr>\n",
       "      <th>1528968780</th>\n",
       "      <td>870.099976</td>\n",
       "      <td>1.124300</td>\n",
       "      <td>6479.410156</td>\n",
       "      <td>3.088252</td>\n",
       "      <td>486.00000</td>\n",
       "      <td>8.449400</td>\n",
       "      <td>96.570000</td>\n",
       "      <td>77.129799</td>\n",
       "    </tr>\n",
       "    <tr>\n",
       "      <th>1528968840</th>\n",
       "      <td>870.789978</td>\n",
       "      <td>1.749862</td>\n",
       "      <td>6479.410156</td>\n",
       "      <td>1.404100</td>\n",
       "      <td>485.75000</td>\n",
       "      <td>26.994646</td>\n",
       "      <td>96.500000</td>\n",
       "      <td>7.216067</td>\n",
       "    </tr>\n",
       "    <tr>\n",
       "      <th>1528968900</th>\n",
       "      <td>870.000000</td>\n",
       "      <td>1.680500</td>\n",
       "      <td>6479.979980</td>\n",
       "      <td>0.753000</td>\n",
       "      <td>486.00000</td>\n",
       "      <td>77.355759</td>\n",
       "      <td>96.389999</td>\n",
       "      <td>524.539978</td>\n",
       "    </tr>\n",
       "  </tbody>\n",
       "</table>\n",
       "</div>"
      ],
      "text/plain": [
       "            BCH-USD_close  BCH-USD_volume  BTC-USD_close  BTC-USD_volume  \\\n",
       "time                                                                       \n",
       "1528968660     871.719971        5.675361    6489.549805        0.587100   \n",
       "1528968720     870.859985       26.856577    6487.379883        7.706374   \n",
       "1528968780     870.099976        1.124300    6479.410156        3.088252   \n",
       "1528968840     870.789978        1.749862    6479.410156        1.404100   \n",
       "1528968900     870.000000        1.680500    6479.979980        0.753000   \n",
       "\n",
       "            ETH-USD_close  ETH-USD_volume  LTC-USD_close  LTC-USD_volume  \n",
       "time                                                                      \n",
       "1528968660            NaN             NaN      96.580002        9.647200  \n",
       "1528968720      486.01001       26.019083      96.660004      314.387024  \n",
       "1528968780      486.00000        8.449400      96.570000       77.129799  \n",
       "1528968840      485.75000       26.994646      96.500000        7.216067  \n",
       "1528968900      486.00000       77.355759      96.389999      524.539978  "
      ]
     },
     "execution_count": 8,
     "metadata": {},
     "output_type": "execute_result"
    }
   ],
   "source": [
    "main_dataframe.head()"
   ]
  },
  {
   "cell_type": "code",
   "execution_count": 9,
   "metadata": {},
   "outputs": [],
   "source": [
    "main_dataframe.fillna(method='bfill', inplace=True)"
   ]
  },
  {
   "cell_type": "code",
   "execution_count": 10,
   "metadata": {},
   "outputs": [
    {
     "data": {
      "text/html": [
       "<div>\n",
       "<style scoped>\n",
       "    .dataframe tbody tr th:only-of-type {\n",
       "        vertical-align: middle;\n",
       "    }\n",
       "\n",
       "    .dataframe tbody tr th {\n",
       "        vertical-align: top;\n",
       "    }\n",
       "\n",
       "    .dataframe thead th {\n",
       "        text-align: right;\n",
       "    }\n",
       "</style>\n",
       "<table border=\"1\" class=\"dataframe\">\n",
       "  <thead>\n",
       "    <tr style=\"text-align: right;\">\n",
       "      <th></th>\n",
       "      <th>BCH-USD_close</th>\n",
       "      <th>BCH-USD_volume</th>\n",
       "      <th>BTC-USD_close</th>\n",
       "      <th>BTC-USD_volume</th>\n",
       "      <th>ETH-USD_close</th>\n",
       "      <th>ETH-USD_volume</th>\n",
       "      <th>LTC-USD_close</th>\n",
       "      <th>LTC-USD_volume</th>\n",
       "    </tr>\n",
       "    <tr>\n",
       "      <th>time</th>\n",
       "      <th></th>\n",
       "      <th></th>\n",
       "      <th></th>\n",
       "      <th></th>\n",
       "      <th></th>\n",
       "      <th></th>\n",
       "      <th></th>\n",
       "      <th></th>\n",
       "    </tr>\n",
       "  </thead>\n",
       "  <tbody>\n",
       "    <tr>\n",
       "      <th>1528968660</th>\n",
       "      <td>871.719971</td>\n",
       "      <td>5.675361</td>\n",
       "      <td>6489.549805</td>\n",
       "      <td>0.587100</td>\n",
       "      <td>486.01001</td>\n",
       "      <td>26.019083</td>\n",
       "      <td>96.580002</td>\n",
       "      <td>9.647200</td>\n",
       "    </tr>\n",
       "    <tr>\n",
       "      <th>1528968720</th>\n",
       "      <td>870.859985</td>\n",
       "      <td>26.856577</td>\n",
       "      <td>6487.379883</td>\n",
       "      <td>7.706374</td>\n",
       "      <td>486.01001</td>\n",
       "      <td>26.019083</td>\n",
       "      <td>96.660004</td>\n",
       "      <td>314.387024</td>\n",
       "    </tr>\n",
       "    <tr>\n",
       "      <th>1528968780</th>\n",
       "      <td>870.099976</td>\n",
       "      <td>1.124300</td>\n",
       "      <td>6479.410156</td>\n",
       "      <td>3.088252</td>\n",
       "      <td>486.00000</td>\n",
       "      <td>8.449400</td>\n",
       "      <td>96.570000</td>\n",
       "      <td>77.129799</td>\n",
       "    </tr>\n",
       "    <tr>\n",
       "      <th>1528968840</th>\n",
       "      <td>870.789978</td>\n",
       "      <td>1.749862</td>\n",
       "      <td>6479.410156</td>\n",
       "      <td>1.404100</td>\n",
       "      <td>485.75000</td>\n",
       "      <td>26.994646</td>\n",
       "      <td>96.500000</td>\n",
       "      <td>7.216067</td>\n",
       "    </tr>\n",
       "    <tr>\n",
       "      <th>1528968900</th>\n",
       "      <td>870.000000</td>\n",
       "      <td>1.680500</td>\n",
       "      <td>6479.979980</td>\n",
       "      <td>0.753000</td>\n",
       "      <td>486.00000</td>\n",
       "      <td>77.355759</td>\n",
       "      <td>96.389999</td>\n",
       "      <td>524.539978</td>\n",
       "    </tr>\n",
       "  </tbody>\n",
       "</table>\n",
       "</div>"
      ],
      "text/plain": [
       "            BCH-USD_close  BCH-USD_volume  BTC-USD_close  BTC-USD_volume  \\\n",
       "time                                                                       \n",
       "1528968660     871.719971        5.675361    6489.549805        0.587100   \n",
       "1528968720     870.859985       26.856577    6487.379883        7.706374   \n",
       "1528968780     870.099976        1.124300    6479.410156        3.088252   \n",
       "1528968840     870.789978        1.749862    6479.410156        1.404100   \n",
       "1528968900     870.000000        1.680500    6479.979980        0.753000   \n",
       "\n",
       "            ETH-USD_close  ETH-USD_volume  LTC-USD_close  LTC-USD_volume  \n",
       "time                                                                      \n",
       "1528968660      486.01001       26.019083      96.580002        9.647200  \n",
       "1528968720      486.01001       26.019083      96.660004      314.387024  \n",
       "1528968780      486.00000        8.449400      96.570000       77.129799  \n",
       "1528968840      485.75000       26.994646      96.500000        7.216067  \n",
       "1528968900      486.00000       77.355759      96.389999      524.539978  "
      ]
     },
     "execution_count": 10,
     "metadata": {},
     "output_type": "execute_result"
    }
   ],
   "source": [
    "main_dataframe.head()"
   ]
  },
  {
   "cell_type": "code",
   "execution_count": 11,
   "metadata": {},
   "outputs": [
    {
     "data": {
      "text/plain": [
       "BCH-USD_close     0\n",
       "BCH-USD_volume    0\n",
       "BTC-USD_close     0\n",
       "BTC-USD_volume    0\n",
       "ETH-USD_close     0\n",
       "ETH-USD_volume    0\n",
       "LTC-USD_close     0\n",
       "LTC-USD_volume    0\n",
       "dtype: int64"
      ]
     },
     "execution_count": 11,
     "metadata": {},
     "output_type": "execute_result"
    }
   ],
   "source": [
    "main_dataframe.isnull().sum()"
   ]
  },
  {
   "cell_type": "code",
   "execution_count": 12,
   "metadata": {},
   "outputs": [],
   "source": [
    "main_dataframe['future'] = main_dataframe['LTC-USD_close'].shift(-3)"
   ]
  },
  {
   "cell_type": "code",
   "execution_count": 13,
   "metadata": {},
   "outputs": [
    {
     "data": {
      "text/html": [
       "<div>\n",
       "<style scoped>\n",
       "    .dataframe tbody tr th:only-of-type {\n",
       "        vertical-align: middle;\n",
       "    }\n",
       "\n",
       "    .dataframe tbody tr th {\n",
       "        vertical-align: top;\n",
       "    }\n",
       "\n",
       "    .dataframe thead th {\n",
       "        text-align: right;\n",
       "    }\n",
       "</style>\n",
       "<table border=\"1\" class=\"dataframe\">\n",
       "  <thead>\n",
       "    <tr style=\"text-align: right;\">\n",
       "      <th></th>\n",
       "      <th>BCH-USD_close</th>\n",
       "      <th>BCH-USD_volume</th>\n",
       "      <th>BTC-USD_close</th>\n",
       "      <th>BTC-USD_volume</th>\n",
       "      <th>ETH-USD_close</th>\n",
       "      <th>ETH-USD_volume</th>\n",
       "      <th>LTC-USD_close</th>\n",
       "      <th>LTC-USD_volume</th>\n",
       "      <th>future</th>\n",
       "    </tr>\n",
       "    <tr>\n",
       "      <th>time</th>\n",
       "      <th></th>\n",
       "      <th></th>\n",
       "      <th></th>\n",
       "      <th></th>\n",
       "      <th></th>\n",
       "      <th></th>\n",
       "      <th></th>\n",
       "      <th></th>\n",
       "      <th></th>\n",
       "    </tr>\n",
       "  </thead>\n",
       "  <tbody>\n",
       "    <tr>\n",
       "      <th>1528968660</th>\n",
       "      <td>871.719971</td>\n",
       "      <td>5.675361</td>\n",
       "      <td>6489.549805</td>\n",
       "      <td>0.587100</td>\n",
       "      <td>486.01001</td>\n",
       "      <td>26.019083</td>\n",
       "      <td>96.580002</td>\n",
       "      <td>9.647200</td>\n",
       "      <td>96.500000</td>\n",
       "    </tr>\n",
       "    <tr>\n",
       "      <th>1528968720</th>\n",
       "      <td>870.859985</td>\n",
       "      <td>26.856577</td>\n",
       "      <td>6487.379883</td>\n",
       "      <td>7.706374</td>\n",
       "      <td>486.01001</td>\n",
       "      <td>26.019083</td>\n",
       "      <td>96.660004</td>\n",
       "      <td>314.387024</td>\n",
       "      <td>96.389999</td>\n",
       "    </tr>\n",
       "    <tr>\n",
       "      <th>1528968780</th>\n",
       "      <td>870.099976</td>\n",
       "      <td>1.124300</td>\n",
       "      <td>6479.410156</td>\n",
       "      <td>3.088252</td>\n",
       "      <td>486.00000</td>\n",
       "      <td>8.449400</td>\n",
       "      <td>96.570000</td>\n",
       "      <td>77.129799</td>\n",
       "      <td>96.519997</td>\n",
       "    </tr>\n",
       "    <tr>\n",
       "      <th>1528968840</th>\n",
       "      <td>870.789978</td>\n",
       "      <td>1.749862</td>\n",
       "      <td>6479.410156</td>\n",
       "      <td>1.404100</td>\n",
       "      <td>485.75000</td>\n",
       "      <td>26.994646</td>\n",
       "      <td>96.500000</td>\n",
       "      <td>7.216067</td>\n",
       "      <td>96.440002</td>\n",
       "    </tr>\n",
       "    <tr>\n",
       "      <th>1528968900</th>\n",
       "      <td>870.000000</td>\n",
       "      <td>1.680500</td>\n",
       "      <td>6479.979980</td>\n",
       "      <td>0.753000</td>\n",
       "      <td>486.00000</td>\n",
       "      <td>77.355759</td>\n",
       "      <td>96.389999</td>\n",
       "      <td>524.539978</td>\n",
       "      <td>96.470001</td>\n",
       "    </tr>\n",
       "  </tbody>\n",
       "</table>\n",
       "</div>"
      ],
      "text/plain": [
       "            BCH-USD_close  BCH-USD_volume  BTC-USD_close  BTC-USD_volume  \\\n",
       "time                                                                       \n",
       "1528968660     871.719971        5.675361    6489.549805        0.587100   \n",
       "1528968720     870.859985       26.856577    6487.379883        7.706374   \n",
       "1528968780     870.099976        1.124300    6479.410156        3.088252   \n",
       "1528968840     870.789978        1.749862    6479.410156        1.404100   \n",
       "1528968900     870.000000        1.680500    6479.979980        0.753000   \n",
       "\n",
       "            ETH-USD_close  ETH-USD_volume  LTC-USD_close  LTC-USD_volume  \\\n",
       "time                                                                       \n",
       "1528968660      486.01001       26.019083      96.580002        9.647200   \n",
       "1528968720      486.01001       26.019083      96.660004      314.387024   \n",
       "1528968780      486.00000        8.449400      96.570000       77.129799   \n",
       "1528968840      485.75000       26.994646      96.500000        7.216067   \n",
       "1528968900      486.00000       77.355759      96.389999      524.539978   \n",
       "\n",
       "               future  \n",
       "time                   \n",
       "1528968660  96.500000  \n",
       "1528968720  96.389999  \n",
       "1528968780  96.519997  \n",
       "1528968840  96.440002  \n",
       "1528968900  96.470001  "
      ]
     },
     "execution_count": 13,
     "metadata": {},
     "output_type": "execute_result"
    }
   ],
   "source": [
    "main_dataframe.head()"
   ]
  },
  {
   "cell_type": "code",
   "execution_count": 14,
   "metadata": {},
   "outputs": [],
   "source": [
    "def compare(current, future):\n",
    "    if future > current:\n",
    "        return 1\n",
    "    else:\n",
    "        return 0\n",
    "main_dataframe['target'] = list(map(compare, main_dataframe['LTC-USD_close'], main_dataframe['future']))"
   ]
  },
  {
   "cell_type": "code",
   "execution_count": 15,
   "metadata": {},
   "outputs": [
    {
     "data": {
      "text/html": [
       "<div>\n",
       "<style scoped>\n",
       "    .dataframe tbody tr th:only-of-type {\n",
       "        vertical-align: middle;\n",
       "    }\n",
       "\n",
       "    .dataframe tbody tr th {\n",
       "        vertical-align: top;\n",
       "    }\n",
       "\n",
       "    .dataframe thead th {\n",
       "        text-align: right;\n",
       "    }\n",
       "</style>\n",
       "<table border=\"1\" class=\"dataframe\">\n",
       "  <thead>\n",
       "    <tr style=\"text-align: right;\">\n",
       "      <th></th>\n",
       "      <th>BCH-USD_close</th>\n",
       "      <th>BCH-USD_volume</th>\n",
       "      <th>BTC-USD_close</th>\n",
       "      <th>BTC-USD_volume</th>\n",
       "      <th>ETH-USD_close</th>\n",
       "      <th>ETH-USD_volume</th>\n",
       "      <th>LTC-USD_close</th>\n",
       "      <th>LTC-USD_volume</th>\n",
       "      <th>future</th>\n",
       "      <th>target</th>\n",
       "    </tr>\n",
       "    <tr>\n",
       "      <th>time</th>\n",
       "      <th></th>\n",
       "      <th></th>\n",
       "      <th></th>\n",
       "      <th></th>\n",
       "      <th></th>\n",
       "      <th></th>\n",
       "      <th></th>\n",
       "      <th></th>\n",
       "      <th></th>\n",
       "      <th></th>\n",
       "    </tr>\n",
       "  </thead>\n",
       "  <tbody>\n",
       "    <tr>\n",
       "      <th>1528968660</th>\n",
       "      <td>871.719971</td>\n",
       "      <td>5.675361</td>\n",
       "      <td>6489.549805</td>\n",
       "      <td>0.587100</td>\n",
       "      <td>486.01001</td>\n",
       "      <td>26.019083</td>\n",
       "      <td>96.580002</td>\n",
       "      <td>9.647200</td>\n",
       "      <td>96.500000</td>\n",
       "      <td>0</td>\n",
       "    </tr>\n",
       "    <tr>\n",
       "      <th>1528968720</th>\n",
       "      <td>870.859985</td>\n",
       "      <td>26.856577</td>\n",
       "      <td>6487.379883</td>\n",
       "      <td>7.706374</td>\n",
       "      <td>486.01001</td>\n",
       "      <td>26.019083</td>\n",
       "      <td>96.660004</td>\n",
       "      <td>314.387024</td>\n",
       "      <td>96.389999</td>\n",
       "      <td>0</td>\n",
       "    </tr>\n",
       "    <tr>\n",
       "      <th>1528968780</th>\n",
       "      <td>870.099976</td>\n",
       "      <td>1.124300</td>\n",
       "      <td>6479.410156</td>\n",
       "      <td>3.088252</td>\n",
       "      <td>486.00000</td>\n",
       "      <td>8.449400</td>\n",
       "      <td>96.570000</td>\n",
       "      <td>77.129799</td>\n",
       "      <td>96.519997</td>\n",
       "      <td>0</td>\n",
       "    </tr>\n",
       "    <tr>\n",
       "      <th>1528968840</th>\n",
       "      <td>870.789978</td>\n",
       "      <td>1.749862</td>\n",
       "      <td>6479.410156</td>\n",
       "      <td>1.404100</td>\n",
       "      <td>485.75000</td>\n",
       "      <td>26.994646</td>\n",
       "      <td>96.500000</td>\n",
       "      <td>7.216067</td>\n",
       "      <td>96.440002</td>\n",
       "      <td>0</td>\n",
       "    </tr>\n",
       "    <tr>\n",
       "      <th>1528968900</th>\n",
       "      <td>870.000000</td>\n",
       "      <td>1.680500</td>\n",
       "      <td>6479.979980</td>\n",
       "      <td>0.753000</td>\n",
       "      <td>486.00000</td>\n",
       "      <td>77.355759</td>\n",
       "      <td>96.389999</td>\n",
       "      <td>524.539978</td>\n",
       "      <td>96.470001</td>\n",
       "      <td>1</td>\n",
       "    </tr>\n",
       "  </tbody>\n",
       "</table>\n",
       "</div>"
      ],
      "text/plain": [
       "            BCH-USD_close  BCH-USD_volume  BTC-USD_close  BTC-USD_volume  \\\n",
       "time                                                                       \n",
       "1528968660     871.719971        5.675361    6489.549805        0.587100   \n",
       "1528968720     870.859985       26.856577    6487.379883        7.706374   \n",
       "1528968780     870.099976        1.124300    6479.410156        3.088252   \n",
       "1528968840     870.789978        1.749862    6479.410156        1.404100   \n",
       "1528968900     870.000000        1.680500    6479.979980        0.753000   \n",
       "\n",
       "            ETH-USD_close  ETH-USD_volume  LTC-USD_close  LTC-USD_volume  \\\n",
       "time                                                                       \n",
       "1528968660      486.01001       26.019083      96.580002        9.647200   \n",
       "1528968720      486.01001       26.019083      96.660004      314.387024   \n",
       "1528968780      486.00000        8.449400      96.570000       77.129799   \n",
       "1528968840      485.75000       26.994646      96.500000        7.216067   \n",
       "1528968900      486.00000       77.355759      96.389999      524.539978   \n",
       "\n",
       "               future  target  \n",
       "time                           \n",
       "1528968660  96.500000       0  \n",
       "1528968720  96.389999       0  \n",
       "1528968780  96.519997       0  \n",
       "1528968840  96.440002       0  \n",
       "1528968900  96.470001       1  "
      ]
     },
     "execution_count": 15,
     "metadata": {},
     "output_type": "execute_result"
    }
   ],
   "source": [
    "main_dataframe.head()"
   ]
  },
  {
   "cell_type": "code",
   "execution_count": 16,
   "metadata": {},
   "outputs": [],
   "source": [
    "times = sorted(main_dataframe.index.values)"
   ]
  },
  {
   "cell_type": "code",
   "execution_count": 17,
   "metadata": {},
   "outputs": [
    {
     "data": {
      "text/plain": [
       "92225"
      ]
     },
     "execution_count": 17,
     "metadata": {},
     "output_type": "execute_result"
    }
   ],
   "source": [
    "len(times)"
   ]
  },
  {
   "cell_type": "code",
   "execution_count": 18,
   "metadata": {},
   "outputs": [
    {
     "data": {
      "text/plain": [
       "9222"
      ]
     },
     "execution_count": 18,
     "metadata": {},
     "output_type": "execute_result"
    }
   ],
   "source": [
    "int(0.1 * len(times))"
   ]
  },
  {
   "cell_type": "code",
   "execution_count": 19,
   "metadata": {},
   "outputs": [],
   "source": [
    "last_10pct = sorted(main_dataframe.index.values)[-int(0.1 * len(times))]"
   ]
  },
  {
   "cell_type": "code",
   "execution_count": 20,
   "metadata": {},
   "outputs": [
    {
     "data": {
      "text/plain": [
       "1534556340"
      ]
     },
     "execution_count": 20,
     "metadata": {},
     "output_type": "execute_result"
    }
   ],
   "source": [
    "last_10pct"
   ]
  },
  {
   "cell_type": "code",
   "execution_count": 21,
   "metadata": {},
   "outputs": [],
   "source": [
    "main_dataframe_test = main_dataframe[(main_dataframe.index >= last_10pct)]\n",
    "main_dataframe_train = main_dataframe[(main_dataframe.index < last_10pct)]"
   ]
  },
  {
   "cell_type": "code",
   "execution_count": 22,
   "metadata": {},
   "outputs": [
    {
     "data": {
      "text/plain": [
       "9222"
      ]
     },
     "execution_count": 22,
     "metadata": {},
     "output_type": "execute_result"
    }
   ],
   "source": [
    "len(main_dataframe_test)"
   ]
  },
  {
   "cell_type": "code",
   "execution_count": 23,
   "metadata": {},
   "outputs": [
    {
     "data": {
      "text/plain": [
       "83003"
      ]
     },
     "execution_count": 23,
     "metadata": {},
     "output_type": "execute_result"
    }
   ],
   "source": [
    "len(main_dataframe_train)"
   ]
  },
  {
   "cell_type": "code",
   "execution_count": 24,
   "metadata": {},
   "outputs": [
    {
     "data": {
      "text/plain": [
       "time\n",
       "1528968660    6489.549805\n",
       "1528968720    6487.379883\n",
       "1528968780    6479.410156\n",
       "1528968840    6479.410156\n",
       "1528968900    6479.979980\n",
       "                 ...     \n",
       "1535215020    6714.520020\n",
       "1535215080    6714.520020\n",
       "1535215140    6715.000000\n",
       "1535215200    6715.000000\n",
       "1535215260    6715.000000\n",
       "Name: BTC-USD_close, Length: 92225, dtype: float64"
      ]
     },
     "execution_count": 24,
     "metadata": {},
     "output_type": "execute_result"
    }
   ],
   "source": [
    "main_dataframe['BTC-USD_close']"
   ]
  },
  {
   "cell_type": "code",
   "execution_count": 25,
   "metadata": {},
   "outputs": [
    {
     "data": {
      "text/plain": [
       "time\n",
       "1528968660         NaN\n",
       "1528968720   -0.000334\n",
       "1528968780   -0.001228\n",
       "1528968840    0.000000\n",
       "1528968900    0.000088\n",
       "                ...   \n",
       "1535215020    0.000206\n",
       "1535215080    0.000000\n",
       "1535215140    0.000071\n",
       "1535215200    0.000000\n",
       "1535215260    0.000000\n",
       "Name: BTC-USD_close, Length: 92225, dtype: float64"
      ]
     },
     "execution_count": 25,
     "metadata": {},
     "output_type": "execute_result"
    }
   ],
   "source": [
    "main_dataframe['BTC-USD_close'].pct_change()"
   ]
  },
  {
   "cell_type": "code",
   "execution_count": 26,
   "metadata": {},
   "outputs": [],
   "source": [
    "def preprocess_main_dataframe(df):\n",
    "    df = df.drop('future', axis=1)\n",
    "    for col in df.columns:\n",
    "        if col != 'target':\n",
    "            df[col] = df[col].pct_change()\n",
    "            df.dropna(inplace=True)\n",
    "            df[col] = preprocessing.scale(df[col].values)\n",
    "    df.dropna(inplace=True)\n",
    "    sequences = []\n",
    "    prev_days = deque(maxlen=30)\n",
    "    for i in df.values:\n",
    "        prev_days.append([n for n in i[:-1]])\n",
    "        if len(prev_days) == 30:\n",
    "            sequences.append([np.array(prev_days), i[-1]])\n",
    "    random.shuffle(sequences)\n",
    "    buys = []\n",
    "    sells = []\n",
    "    for seq, target in sequences:\n",
    "        if target == 0:\n",
    "            sells.append([seq, target])\n",
    "        elif target == 1:\n",
    "            buys.append([seq, target])\n",
    "    random.shuffle(buys)\n",
    "    random.shuffle(sells)\n",
    "    lower = min(len(buys), len(sells))\n",
    "    buys = buys[:lower]\n",
    "    sells = sells[:lower]\n",
    "    sequential_data = buys + sells\n",
    "    random.shuffle(sequential_data)\n",
    "    X = []\n",
    "    y = []\n",
    "    for seq, target in sequential_data:\n",
    "        X.append(seq)\n",
    "        y.append(target)\n",
    "    return np.array(X), np.array(y)"
   ]
  },
  {
   "cell_type": "code",
   "execution_count": 27,
   "metadata": {},
   "outputs": [],
   "source": [
    "train_X, train_y = preprocess_main_dataframe(main_dataframe_train)"
   ]
  },
  {
   "cell_type": "code",
   "execution_count": 28,
   "metadata": {},
   "outputs": [
    {
     "data": {
      "text/plain": [
       "(71030, 30, 8)"
      ]
     },
     "execution_count": 28,
     "metadata": {},
     "output_type": "execute_result"
    }
   ],
   "source": [
    "train_X.shape"
   ]
  },
  {
   "cell_type": "code",
   "execution_count": 29,
   "metadata": {},
   "outputs": [
    {
     "data": {
      "text/plain": [
       "(71030,)"
      ]
     },
     "execution_count": 29,
     "metadata": {},
     "output_type": "execute_result"
    }
   ],
   "source": [
    "train_y.shape"
   ]
  },
  {
   "cell_type": "code",
   "execution_count": 30,
   "metadata": {},
   "outputs": [
    {
     "data": {
      "text/plain": [
       "(array([0., 1.]), array([35515, 35515]))"
      ]
     },
     "execution_count": 30,
     "metadata": {},
     "output_type": "execute_result"
    }
   ],
   "source": [
    "np.unique(train_y, return_counts=True)"
   ]
  },
  {
   "cell_type": "code",
   "execution_count": 31,
   "metadata": {},
   "outputs": [],
   "source": [
    "test_X, test_y = preprocess_main_dataframe(main_dataframe_test)"
   ]
  },
  {
   "cell_type": "code",
   "execution_count": 42,
   "metadata": {},
   "outputs": [
    {
     "data": {
      "text/plain": [
       "(7840, 30, 8)"
      ]
     },
     "execution_count": 42,
     "metadata": {},
     "output_type": "execute_result"
    }
   ],
   "source": [
    "test_X.shape"
   ]
  },
  {
   "cell_type": "code",
   "execution_count": 32,
   "metadata": {},
   "outputs": [],
   "source": [
    "import tensorflow as tf\n",
    "from tensorflow.keras.models import Sequential\n",
    "from tensorflow.keras.layers import LSTM, Dense, Dropout, BatchNormalization"
   ]
  },
  {
   "cell_type": "code",
   "execution_count": 35,
   "metadata": {},
   "outputs": [],
   "source": [
    "model = Sequential()\n",
    "model.add(LSTM(128, input_shape=(train_X.shape[1:]), return_sequences=True))\n",
    "model.add(Dropout(0.3))\n",
    "model.add(BatchNormalization())\n",
    "model.add(LSTM(64, return_sequences=True))\n",
    "model.add(Dropout(0.3))\n",
    "model.add(BatchNormalization())\n",
    "model.add(LSTM(32))\n",
    "model.add(Dropout(0.3))\n",
    "model.add(BatchNormalization())\n",
    "model.add(Dense(32, activation='relu'))\n",
    "model.add(Dense(2, activation='softmax'))"
   ]
  },
  {
   "cell_type": "code",
   "execution_count": 36,
   "metadata": {},
   "outputs": [],
   "source": [
    "model.compile(loss='sparse_categorical_crossentropy', optimizer='Adam', metrics=['accuracy'])"
   ]
  },
  {
   "cell_type": "code",
   "execution_count": 37,
   "metadata": {},
   "outputs": [
    {
     "name": "stdout",
     "output_type": "stream",
     "text": [
      "Epoch 1/100\n",
      "711/711 [==============================] - 61s 86ms/step - loss: 0.7038 - accuracy: 0.5161 - val_loss: 0.6893 - val_accuracy: 0.5258\n",
      "Epoch 2/100\n",
      "711/711 [==============================] - 57s 80ms/step - loss: 0.6910 - accuracy: 0.5336 - val_loss: 0.6855 - val_accuracy: 0.5490\n",
      "Epoch 3/100\n",
      "711/711 [==============================] - 57s 80ms/step - loss: 0.6878 - accuracy: 0.5446 - val_loss: 0.6851 - val_accuracy: 0.5528\n",
      "Epoch 4/100\n",
      "711/711 [==============================] - 57s 80ms/step - loss: 0.6859 - accuracy: 0.5504 - val_loss: 0.6842 - val_accuracy: 0.5573\n",
      "Epoch 5/100\n",
      "711/711 [==============================] - 57s 80ms/step - loss: 0.6839 - accuracy: 0.5552 - val_loss: 0.6793 - val_accuracy: 0.5636\n",
      "Epoch 6/100\n",
      "711/711 [==============================] - 57s 81ms/step - loss: 0.6823 - accuracy: 0.5613 - val_loss: 0.6770 - val_accuracy: 0.5657\n",
      "Epoch 7/100\n",
      "711/711 [==============================] - 57s 80ms/step - loss: 0.6806 - accuracy: 0.5649 - val_loss: 0.6770 - val_accuracy: 0.5724\n",
      "Epoch 8/100\n",
      "711/711 [==============================] - 57s 80ms/step - loss: 0.6793 - accuracy: 0.5681 - val_loss: 0.6805 - val_accuracy: 0.5639\n",
      "Epoch 9/100\n",
      "711/711 [==============================] - 57s 80ms/step - loss: 0.6776 - accuracy: 0.5717 - val_loss: 0.6799 - val_accuracy: 0.5679\n",
      "Epoch 10/100\n",
      "711/711 [==============================] - 57s 80ms/step - loss: 0.6759 - accuracy: 0.5789 - val_loss: 0.6788 - val_accuracy: 0.5644\n",
      "Epoch 11/100\n",
      "711/711 [==============================] - 57s 80ms/step - loss: 0.6732 - accuracy: 0.5801 - val_loss: 0.6849 - val_accuracy: 0.5577\n",
      "Epoch 12/100\n",
      "711/711 [==============================] - 57s 81ms/step - loss: 0.6710 - accuracy: 0.5870 - val_loss: 0.6819 - val_accuracy: 0.5593\n",
      "Epoch 13/100\n",
      "711/711 [==============================] - 57s 80ms/step - loss: 0.6686 - accuracy: 0.5895 - val_loss: 0.6826 - val_accuracy: 0.5652\n",
      "Epoch 14/100\n",
      "711/711 [==============================] - 57s 80ms/step - loss: 0.6640 - accuracy: 0.5989 - val_loss: 0.6865 - val_accuracy: 0.5631\n",
      "Epoch 15/100\n",
      "711/711 [==============================] - 57s 80ms/step - loss: 0.6607 - accuracy: 0.6006 - val_loss: 0.6881 - val_accuracy: 0.5616\n",
      "Epoch 16/100\n",
      "711/711 [==============================] - 57s 80ms/step - loss: 0.6552 - accuracy: 0.6126 - val_loss: 0.7047 - val_accuracy: 0.5587\n",
      "Epoch 17/100\n",
      "711/711 [==============================] - 57s 81ms/step - loss: 0.6509 - accuracy: 0.6155 - val_loss: 0.7007 - val_accuracy: 0.5642\n",
      "Epoch 18/100\n",
      "711/711 [==============================] - 57s 81ms/step - loss: 0.6451 - accuracy: 0.6231 - val_loss: 0.6996 - val_accuracy: 0.5601\n",
      "Epoch 19/100\n",
      "711/711 [==============================] - 57s 81ms/step - loss: 0.6396 - accuracy: 0.6306 - val_loss: 0.7166 - val_accuracy: 0.5497\n",
      "Epoch 20/100\n",
      "711/711 [==============================] - 57s 81ms/step - loss: 0.6352 - accuracy: 0.6368 - val_loss: 0.7236 - val_accuracy: 0.5513\n",
      "Epoch 21/100\n",
      "711/711 [==============================] - 57s 81ms/step - loss: 0.6289 - accuracy: 0.6440 - val_loss: 0.7360 - val_accuracy: 0.5527\n",
      "Epoch 22/100\n",
      "711/711 [==============================] - 57s 81ms/step - loss: 0.6236 - accuracy: 0.6495 - val_loss: 0.7412 - val_accuracy: 0.5487\n",
      "Epoch 23/100\n",
      "711/711 [==============================] - 57s 80ms/step - loss: 0.6156 - accuracy: 0.6606 - val_loss: 0.7388 - val_accuracy: 0.5494\n",
      "Epoch 24/100\n",
      "711/711 [==============================] - 57s 80ms/step - loss: 0.6113 - accuracy: 0.6610 - val_loss: 0.7370 - val_accuracy: 0.5385\n",
      "Epoch 25/100\n",
      "711/711 [==============================] - 58s 81ms/step - loss: 0.6051 - accuracy: 0.6671 - val_loss: 0.7536 - val_accuracy: 0.5335\n",
      "Epoch 26/100\n",
      "711/711 [==============================] - 57s 80ms/step - loss: 0.5984 - accuracy: 0.6760 - val_loss: 0.7685 - val_accuracy: 0.5253\n",
      "Epoch 27/100\n",
      "711/711 [==============================] - 57s 81ms/step - loss: 0.5939 - accuracy: 0.6784 - val_loss: 0.7763 - val_accuracy: 0.5369\n",
      "Epoch 28/100\n",
      "711/711 [==============================] - 58s 81ms/step - loss: 0.5888 - accuracy: 0.6845 - val_loss: 0.7800 - val_accuracy: 0.5415\n",
      "Epoch 29/100\n",
      "711/711 [==============================] - 58s 81ms/step - loss: 0.5820 - accuracy: 0.6903 - val_loss: 0.7904 - val_accuracy: 0.5374\n",
      "Epoch 30/100\n",
      "711/711 [==============================] - 58s 82ms/step - loss: 0.5759 - accuracy: 0.6946 - val_loss: 0.7755 - val_accuracy: 0.5298\n",
      "Epoch 31/100\n",
      "711/711 [==============================] - 57s 81ms/step - loss: 0.5710 - accuracy: 0.7001 - val_loss: 0.7870 - val_accuracy: 0.5352\n",
      "Epoch 32/100\n",
      "711/711 [==============================] - 57s 80ms/step - loss: 0.5669 - accuracy: 0.7021 - val_loss: 0.8205 - val_accuracy: 0.5349\n",
      "Epoch 33/100\n",
      "711/711 [==============================] - 57s 80ms/step - loss: 0.5585 - accuracy: 0.7093 - val_loss: 0.8257 - val_accuracy: 0.5393\n",
      "Epoch 34/100\n",
      "711/711 [==============================] - 58s 81ms/step - loss: 0.5552 - accuracy: 0.7124 - val_loss: 0.8428 - val_accuracy: 0.5321\n",
      "Epoch 35/100\n",
      "711/711 [==============================] - 57s 80ms/step - loss: 0.5501 - accuracy: 0.7165 - val_loss: 0.7960 - val_accuracy: 0.5352\n",
      "Epoch 36/100\n",
      "711/711 [==============================] - 58s 81ms/step - loss: 0.5452 - accuracy: 0.7219 - val_loss: 0.8412 - val_accuracy: 0.5328\n",
      "Epoch 37/100\n",
      "711/711 [==============================] - 58s 81ms/step - loss: 0.5409 - accuracy: 0.7264 - val_loss: 0.8238 - val_accuracy: 0.5380\n",
      "Epoch 38/100\n",
      "711/711 [==============================] - 58s 81ms/step - loss: 0.5352 - accuracy: 0.7286 - val_loss: 0.8412 - val_accuracy: 0.5305\n",
      "Epoch 39/100\n",
      "711/711 [==============================] - 58s 81ms/step - loss: 0.5326 - accuracy: 0.7297 - val_loss: 0.8525 - val_accuracy: 0.5346\n",
      "Epoch 40/100\n",
      "711/711 [==============================] - 58s 81ms/step - loss: 0.5251 - accuracy: 0.7367 - val_loss: 0.8501 - val_accuracy: 0.5328\n",
      "Epoch 41/100\n",
      "711/711 [==============================] - 58s 81ms/step - loss: 0.5220 - accuracy: 0.7382 - val_loss: 0.8526 - val_accuracy: 0.5328\n",
      "Epoch 42/100\n",
      "711/711 [==============================] - 58s 81ms/step - loss: 0.5203 - accuracy: 0.7429 - val_loss: 0.8465 - val_accuracy: 0.5361\n",
      "Epoch 43/100\n",
      "711/711 [==============================] - 58s 81ms/step - loss: 0.5130 - accuracy: 0.7436 - val_loss: 0.8973 - val_accuracy: 0.5255\n",
      "Epoch 44/100\n",
      "711/711 [==============================] - 58s 81ms/step - loss: 0.5086 - accuracy: 0.7493 - val_loss: 0.8377 - val_accuracy: 0.5381\n",
      "Epoch 45/100\n",
      "711/711 [==============================] - 58s 81ms/step - loss: 0.5029 - accuracy: 0.7527 - val_loss: 0.8718 - val_accuracy: 0.5343\n",
      "Epoch 46/100\n",
      "711/711 [==============================] - 58s 81ms/step - loss: 0.4988 - accuracy: 0.7542 - val_loss: 0.8792 - val_accuracy: 0.5321\n",
      "Epoch 47/100\n",
      "711/711 [==============================] - 58s 81ms/step - loss: 0.4936 - accuracy: 0.7590 - val_loss: 0.8729 - val_accuracy: 0.5316\n",
      "Epoch 48/100\n",
      "711/711 [==============================] - 60s 84ms/step - loss: 0.4907 - accuracy: 0.7612 - val_loss: 0.8913 - val_accuracy: 0.5296\n",
      "Epoch 49/100\n",
      "424/711 [================>.............] - ETA: 27s - loss: 0.4796 - accuracy: 0.7673"
     ]
    },
    {
     "ename": "KeyboardInterrupt",
     "evalue": "",
     "output_type": "error",
     "traceback": [
      "\u001b[0;31m---------------------------------------------------------------------------\u001b[0m",
      "\u001b[0;31mKeyboardInterrupt\u001b[0m                         Traceback (most recent call last)",
      "\u001b[0;32m<ipython-input-37-3f7996b32b83>\u001b[0m in \u001b[0;36m<module>\u001b[0;34m\u001b[0m\n\u001b[0;32m----> 1\u001b[0;31m \u001b[0mhistory\u001b[0m \u001b[0;34m=\u001b[0m \u001b[0mmodel\u001b[0m\u001b[0;34m.\u001b[0m\u001b[0mfit\u001b[0m\u001b[0;34m(\u001b[0m\u001b[0mtrain_X\u001b[0m\u001b[0;34m,\u001b[0m \u001b[0mtrain_y\u001b[0m\u001b[0;34m,\u001b[0m \u001b[0mbatch_size\u001b[0m\u001b[0;34m=\u001b[0m\u001b[0;36m100\u001b[0m\u001b[0;34m,\u001b[0m \u001b[0mepochs\u001b[0m\u001b[0;34m=\u001b[0m\u001b[0;36m100\u001b[0m\u001b[0;34m,\u001b[0m \u001b[0mvalidation_data\u001b[0m\u001b[0;34m=\u001b[0m\u001b[0;34m(\u001b[0m\u001b[0mtest_X\u001b[0m\u001b[0;34m,\u001b[0m \u001b[0mtest_y\u001b[0m\u001b[0;34m)\u001b[0m\u001b[0;34m)\u001b[0m\u001b[0;34m\u001b[0m\u001b[0;34m\u001b[0m\u001b[0m\n\u001b[0m",
      "\u001b[0;32m~/anaconda3/lib/python3.7/site-packages/tensorflow/python/keras/engine/training.py\u001b[0m in \u001b[0;36m_method_wrapper\u001b[0;34m(self, *args, **kwargs)\u001b[0m\n\u001b[1;32m     64\u001b[0m   \u001b[0;32mdef\u001b[0m \u001b[0m_method_wrapper\u001b[0m\u001b[0;34m(\u001b[0m\u001b[0mself\u001b[0m\u001b[0;34m,\u001b[0m \u001b[0;34m*\u001b[0m\u001b[0margs\u001b[0m\u001b[0;34m,\u001b[0m \u001b[0;34m**\u001b[0m\u001b[0mkwargs\u001b[0m\u001b[0;34m)\u001b[0m\u001b[0;34m:\u001b[0m\u001b[0;34m\u001b[0m\u001b[0;34m\u001b[0m\u001b[0m\n\u001b[1;32m     65\u001b[0m     \u001b[0;32mif\u001b[0m \u001b[0;32mnot\u001b[0m \u001b[0mself\u001b[0m\u001b[0;34m.\u001b[0m\u001b[0m_in_multi_worker_mode\u001b[0m\u001b[0;34m(\u001b[0m\u001b[0;34m)\u001b[0m\u001b[0;34m:\u001b[0m  \u001b[0;31m# pylint: disable=protected-access\u001b[0m\u001b[0;34m\u001b[0m\u001b[0;34m\u001b[0m\u001b[0m\n\u001b[0;32m---> 66\u001b[0;31m       \u001b[0;32mreturn\u001b[0m \u001b[0mmethod\u001b[0m\u001b[0;34m(\u001b[0m\u001b[0mself\u001b[0m\u001b[0;34m,\u001b[0m \u001b[0;34m*\u001b[0m\u001b[0margs\u001b[0m\u001b[0;34m,\u001b[0m \u001b[0;34m**\u001b[0m\u001b[0mkwargs\u001b[0m\u001b[0;34m)\u001b[0m\u001b[0;34m\u001b[0m\u001b[0;34m\u001b[0m\u001b[0m\n\u001b[0m\u001b[1;32m     67\u001b[0m \u001b[0;34m\u001b[0m\u001b[0m\n\u001b[1;32m     68\u001b[0m     \u001b[0;31m# Running inside `run_distribute_coordinator` already.\u001b[0m\u001b[0;34m\u001b[0m\u001b[0;34m\u001b[0m\u001b[0;34m\u001b[0m\u001b[0m\n",
      "\u001b[0;32m~/anaconda3/lib/python3.7/site-packages/tensorflow/python/keras/engine/training.py\u001b[0m in \u001b[0;36mfit\u001b[0;34m(self, x, y, batch_size, epochs, verbose, callbacks, validation_split, validation_data, shuffle, class_weight, sample_weight, initial_epoch, steps_per_epoch, validation_steps, validation_batch_size, validation_freq, max_queue_size, workers, use_multiprocessing)\u001b[0m\n\u001b[1;32m    846\u001b[0m                 batch_size=batch_size):\n\u001b[1;32m    847\u001b[0m               \u001b[0mcallbacks\u001b[0m\u001b[0;34m.\u001b[0m\u001b[0mon_train_batch_begin\u001b[0m\u001b[0;34m(\u001b[0m\u001b[0mstep\u001b[0m\u001b[0;34m)\u001b[0m\u001b[0;34m\u001b[0m\u001b[0;34m\u001b[0m\u001b[0m\n\u001b[0;32m--> 848\u001b[0;31m               \u001b[0mtmp_logs\u001b[0m \u001b[0;34m=\u001b[0m \u001b[0mtrain_function\u001b[0m\u001b[0;34m(\u001b[0m\u001b[0miterator\u001b[0m\u001b[0;34m)\u001b[0m\u001b[0;34m\u001b[0m\u001b[0;34m\u001b[0m\u001b[0m\n\u001b[0m\u001b[1;32m    849\u001b[0m               \u001b[0;31m# Catch OutOfRangeError for Datasets of unknown size.\u001b[0m\u001b[0;34m\u001b[0m\u001b[0;34m\u001b[0m\u001b[0;34m\u001b[0m\u001b[0m\n\u001b[1;32m    850\u001b[0m               \u001b[0;31m# This blocks until the batch has finished executing.\u001b[0m\u001b[0;34m\u001b[0m\u001b[0;34m\u001b[0m\u001b[0;34m\u001b[0m\u001b[0m\n",
      "\u001b[0;32m~/anaconda3/lib/python3.7/site-packages/tensorflow/python/eager/def_function.py\u001b[0m in \u001b[0;36m__call__\u001b[0;34m(self, *args, **kwds)\u001b[0m\n\u001b[1;32m    578\u001b[0m         \u001b[0mxla_context\u001b[0m\u001b[0;34m.\u001b[0m\u001b[0mExit\u001b[0m\u001b[0;34m(\u001b[0m\u001b[0;34m)\u001b[0m\u001b[0;34m\u001b[0m\u001b[0;34m\u001b[0m\u001b[0m\n\u001b[1;32m    579\u001b[0m     \u001b[0;32melse\u001b[0m\u001b[0;34m:\u001b[0m\u001b[0;34m\u001b[0m\u001b[0;34m\u001b[0m\u001b[0m\n\u001b[0;32m--> 580\u001b[0;31m       \u001b[0mresult\u001b[0m \u001b[0;34m=\u001b[0m \u001b[0mself\u001b[0m\u001b[0;34m.\u001b[0m\u001b[0m_call\u001b[0m\u001b[0;34m(\u001b[0m\u001b[0;34m*\u001b[0m\u001b[0margs\u001b[0m\u001b[0;34m,\u001b[0m \u001b[0;34m**\u001b[0m\u001b[0mkwds\u001b[0m\u001b[0;34m)\u001b[0m\u001b[0;34m\u001b[0m\u001b[0;34m\u001b[0m\u001b[0m\n\u001b[0m\u001b[1;32m    581\u001b[0m \u001b[0;34m\u001b[0m\u001b[0m\n\u001b[1;32m    582\u001b[0m     \u001b[0;32mif\u001b[0m \u001b[0mtracing_count\u001b[0m \u001b[0;34m==\u001b[0m \u001b[0mself\u001b[0m\u001b[0;34m.\u001b[0m\u001b[0m_get_tracing_count\u001b[0m\u001b[0;34m(\u001b[0m\u001b[0;34m)\u001b[0m\u001b[0;34m:\u001b[0m\u001b[0;34m\u001b[0m\u001b[0;34m\u001b[0m\u001b[0m\n",
      "\u001b[0;32m~/anaconda3/lib/python3.7/site-packages/tensorflow/python/eager/def_function.py\u001b[0m in \u001b[0;36m_call\u001b[0;34m(self, *args, **kwds)\u001b[0m\n\u001b[1;32m    609\u001b[0m       \u001b[0;31m# In this case we have created variables on the first call, so we run the\u001b[0m\u001b[0;34m\u001b[0m\u001b[0;34m\u001b[0m\u001b[0;34m\u001b[0m\u001b[0m\n\u001b[1;32m    610\u001b[0m       \u001b[0;31m# defunned version which is guaranteed to never create variables.\u001b[0m\u001b[0;34m\u001b[0m\u001b[0;34m\u001b[0m\u001b[0;34m\u001b[0m\u001b[0m\n\u001b[0;32m--> 611\u001b[0;31m       \u001b[0;32mreturn\u001b[0m \u001b[0mself\u001b[0m\u001b[0;34m.\u001b[0m\u001b[0m_stateless_fn\u001b[0m\u001b[0;34m(\u001b[0m\u001b[0;34m*\u001b[0m\u001b[0margs\u001b[0m\u001b[0;34m,\u001b[0m \u001b[0;34m**\u001b[0m\u001b[0mkwds\u001b[0m\u001b[0;34m)\u001b[0m  \u001b[0;31m# pylint: disable=not-callable\u001b[0m\u001b[0;34m\u001b[0m\u001b[0;34m\u001b[0m\u001b[0m\n\u001b[0m\u001b[1;32m    612\u001b[0m     \u001b[0;32melif\u001b[0m \u001b[0mself\u001b[0m\u001b[0;34m.\u001b[0m\u001b[0m_stateful_fn\u001b[0m \u001b[0;32mis\u001b[0m \u001b[0;32mnot\u001b[0m \u001b[0;32mNone\u001b[0m\u001b[0;34m:\u001b[0m\u001b[0;34m\u001b[0m\u001b[0;34m\u001b[0m\u001b[0m\n\u001b[1;32m    613\u001b[0m       \u001b[0;31m# Release the lock early so that multiple threads can perform the call\u001b[0m\u001b[0;34m\u001b[0m\u001b[0;34m\u001b[0m\u001b[0;34m\u001b[0m\u001b[0m\n",
      "\u001b[0;32m~/anaconda3/lib/python3.7/site-packages/tensorflow/python/eager/function.py\u001b[0m in \u001b[0;36m__call__\u001b[0;34m(self, *args, **kwargs)\u001b[0m\n\u001b[1;32m   2418\u001b[0m     \u001b[0;32mwith\u001b[0m \u001b[0mself\u001b[0m\u001b[0;34m.\u001b[0m\u001b[0m_lock\u001b[0m\u001b[0;34m:\u001b[0m\u001b[0;34m\u001b[0m\u001b[0;34m\u001b[0m\u001b[0m\n\u001b[1;32m   2419\u001b[0m       \u001b[0mgraph_function\u001b[0m\u001b[0;34m,\u001b[0m \u001b[0margs\u001b[0m\u001b[0;34m,\u001b[0m \u001b[0mkwargs\u001b[0m \u001b[0;34m=\u001b[0m \u001b[0mself\u001b[0m\u001b[0;34m.\u001b[0m\u001b[0m_maybe_define_function\u001b[0m\u001b[0;34m(\u001b[0m\u001b[0margs\u001b[0m\u001b[0;34m,\u001b[0m \u001b[0mkwargs\u001b[0m\u001b[0;34m)\u001b[0m\u001b[0;34m\u001b[0m\u001b[0;34m\u001b[0m\u001b[0m\n\u001b[0;32m-> 2420\u001b[0;31m     \u001b[0;32mreturn\u001b[0m \u001b[0mgraph_function\u001b[0m\u001b[0;34m.\u001b[0m\u001b[0m_filtered_call\u001b[0m\u001b[0;34m(\u001b[0m\u001b[0margs\u001b[0m\u001b[0;34m,\u001b[0m \u001b[0mkwargs\u001b[0m\u001b[0;34m)\u001b[0m  \u001b[0;31m# pylint: disable=protected-access\u001b[0m\u001b[0;34m\u001b[0m\u001b[0;34m\u001b[0m\u001b[0m\n\u001b[0m\u001b[1;32m   2421\u001b[0m \u001b[0;34m\u001b[0m\u001b[0m\n\u001b[1;32m   2422\u001b[0m   \u001b[0;34m@\u001b[0m\u001b[0mproperty\u001b[0m\u001b[0;34m\u001b[0m\u001b[0;34m\u001b[0m\u001b[0m\n",
      "\u001b[0;32m~/anaconda3/lib/python3.7/site-packages/tensorflow/python/eager/function.py\u001b[0m in \u001b[0;36m_filtered_call\u001b[0;34m(self, args, kwargs)\u001b[0m\n\u001b[1;32m   1663\u001b[0m          if isinstance(t, (ops.Tensor,\n\u001b[1;32m   1664\u001b[0m                            resource_variable_ops.BaseResourceVariable))),\n\u001b[0;32m-> 1665\u001b[0;31m         self.captured_inputs)\n\u001b[0m\u001b[1;32m   1666\u001b[0m \u001b[0;34m\u001b[0m\u001b[0m\n\u001b[1;32m   1667\u001b[0m   \u001b[0;32mdef\u001b[0m \u001b[0m_call_flat\u001b[0m\u001b[0;34m(\u001b[0m\u001b[0mself\u001b[0m\u001b[0;34m,\u001b[0m \u001b[0margs\u001b[0m\u001b[0;34m,\u001b[0m \u001b[0mcaptured_inputs\u001b[0m\u001b[0;34m,\u001b[0m \u001b[0mcancellation_manager\u001b[0m\u001b[0;34m=\u001b[0m\u001b[0;32mNone\u001b[0m\u001b[0;34m)\u001b[0m\u001b[0;34m:\u001b[0m\u001b[0;34m\u001b[0m\u001b[0;34m\u001b[0m\u001b[0m\n",
      "\u001b[0;32m~/anaconda3/lib/python3.7/site-packages/tensorflow/python/eager/function.py\u001b[0m in \u001b[0;36m_call_flat\u001b[0;34m(self, args, captured_inputs, cancellation_manager)\u001b[0m\n\u001b[1;32m   1744\u001b[0m       \u001b[0;31m# No tape is watching; skip to running the function.\u001b[0m\u001b[0;34m\u001b[0m\u001b[0;34m\u001b[0m\u001b[0;34m\u001b[0m\u001b[0m\n\u001b[1;32m   1745\u001b[0m       return self._build_call_outputs(self._inference_function.call(\n\u001b[0;32m-> 1746\u001b[0;31m           ctx, args, cancellation_manager=cancellation_manager))\n\u001b[0m\u001b[1;32m   1747\u001b[0m     forward_backward = self._select_forward_and_backward_functions(\n\u001b[1;32m   1748\u001b[0m         \u001b[0margs\u001b[0m\u001b[0;34m,\u001b[0m\u001b[0;34m\u001b[0m\u001b[0;34m\u001b[0m\u001b[0m\n",
      "\u001b[0;32m~/anaconda3/lib/python3.7/site-packages/tensorflow/python/eager/function.py\u001b[0m in \u001b[0;36mcall\u001b[0;34m(self, ctx, args, cancellation_manager)\u001b[0m\n\u001b[1;32m    596\u001b[0m               \u001b[0minputs\u001b[0m\u001b[0;34m=\u001b[0m\u001b[0margs\u001b[0m\u001b[0;34m,\u001b[0m\u001b[0;34m\u001b[0m\u001b[0;34m\u001b[0m\u001b[0m\n\u001b[1;32m    597\u001b[0m               \u001b[0mattrs\u001b[0m\u001b[0;34m=\u001b[0m\u001b[0mattrs\u001b[0m\u001b[0;34m,\u001b[0m\u001b[0;34m\u001b[0m\u001b[0;34m\u001b[0m\u001b[0m\n\u001b[0;32m--> 598\u001b[0;31m               ctx=ctx)\n\u001b[0m\u001b[1;32m    599\u001b[0m         \u001b[0;32melse\u001b[0m\u001b[0;34m:\u001b[0m\u001b[0;34m\u001b[0m\u001b[0;34m\u001b[0m\u001b[0m\n\u001b[1;32m    600\u001b[0m           outputs = execute.execute_with_cancellation(\n",
      "\u001b[0;32m~/anaconda3/lib/python3.7/site-packages/tensorflow/python/eager/execute.py\u001b[0m in \u001b[0;36mquick_execute\u001b[0;34m(op_name, num_outputs, inputs, attrs, ctx, name)\u001b[0m\n\u001b[1;32m     58\u001b[0m     \u001b[0mctx\u001b[0m\u001b[0;34m.\u001b[0m\u001b[0mensure_initialized\u001b[0m\u001b[0;34m(\u001b[0m\u001b[0;34m)\u001b[0m\u001b[0;34m\u001b[0m\u001b[0;34m\u001b[0m\u001b[0m\n\u001b[1;32m     59\u001b[0m     tensors = pywrap_tfe.TFE_Py_Execute(ctx._handle, device_name, op_name,\n\u001b[0;32m---> 60\u001b[0;31m                                         inputs, attrs, num_outputs)\n\u001b[0m\u001b[1;32m     61\u001b[0m   \u001b[0;32mexcept\u001b[0m \u001b[0mcore\u001b[0m\u001b[0;34m.\u001b[0m\u001b[0m_NotOkStatusException\u001b[0m \u001b[0;32mas\u001b[0m \u001b[0me\u001b[0m\u001b[0;34m:\u001b[0m\u001b[0;34m\u001b[0m\u001b[0;34m\u001b[0m\u001b[0m\n\u001b[1;32m     62\u001b[0m     \u001b[0;32mif\u001b[0m \u001b[0mname\u001b[0m \u001b[0;32mis\u001b[0m \u001b[0;32mnot\u001b[0m \u001b[0;32mNone\u001b[0m\u001b[0;34m:\u001b[0m\u001b[0;34m\u001b[0m\u001b[0;34m\u001b[0m\u001b[0m\n",
      "\u001b[0;31mKeyboardInterrupt\u001b[0m: "
     ]
    }
   ],
   "source": [
    "history = model.fit(train_X, train_y, batch_size=100, epochs=100, validation_data=(test_X, test_y))"
   ]
  },
  {
   "cell_type": "code",
   "execution_count": null,
   "metadata": {},
   "outputs": [],
   "source": []
  }
 ],
 "metadata": {
  "kernelspec": {
   "display_name": "Python 3",
   "language": "python",
   "name": "python3"
  },
  "language_info": {
   "codemirror_mode": {
    "name": "ipython",
    "version": 3
   },
   "file_extension": ".py",
   "mimetype": "text/x-python",
   "name": "python",
   "nbconvert_exporter": "python",
   "pygments_lexer": "ipython3",
   "version": "3.7.6"
  }
 },
 "nbformat": 4,
 "nbformat_minor": 4
}
