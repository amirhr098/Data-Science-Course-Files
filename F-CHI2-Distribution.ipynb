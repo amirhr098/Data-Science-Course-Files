{
 "cells": [
  {
   "cell_type": "code",
   "execution_count": 1,
   "metadata": {},
   "outputs": [],
   "source": [
    "from scipy.stats import f\n",
    "import matplotlib.pyplot as plt"
   ]
  },
  {
   "cell_type": "code",
   "execution_count": 2,
   "metadata": {},
   "outputs": [],
   "source": [
    "data = f.rvs(30, 10,size=10000)"
   ]
  },
  {
   "cell_type": "code",
   "execution_count": 3,
   "metadata": {},
   "outputs": [
    {
     "data": {
      "text/plain": [
       "(array([1.86424037e-01, 7.67124197e-01, 7.50593987e-01, 5.50394775e-01,\n",
       "        3.12237303e-01, 1.86117922e-01, 1.11425861e-01, 5.96924256e-02,\n",
       "        4.07132954e-02, 3.03053853e-02, 1.95913602e-02, 1.65302102e-02,\n",
       "        6.12230006e-03, 5.51007005e-03, 5.20395505e-03, 1.53057501e-03,\n",
       "        1.83669002e-03, 9.18345009e-04, 9.18345009e-04, 1.83669002e-03,\n",
       "        9.18345009e-04, 1.53057501e-03, 6.12230006e-04, 3.06115003e-04,\n",
       "        0.00000000e+00, 0.00000000e+00, 0.00000000e+00, 0.00000000e+00,\n",
       "        3.06115003e-04, 3.06115003e-04, 3.06115003e-04, 0.00000000e+00,\n",
       "        0.00000000e+00, 0.00000000e+00, 0.00000000e+00, 3.06115003e-04,\n",
       "        0.00000000e+00, 0.00000000e+00, 0.00000000e+00, 0.00000000e+00,\n",
       "        0.00000000e+00, 3.06115003e-04, 0.00000000e+00, 3.06115003e-04,\n",
       "        3.06115003e-04, 0.00000000e+00, 0.00000000e+00, 0.00000000e+00,\n",
       "        0.00000000e+00, 6.12230006e-04]),\n",
       " array([ 0.15876899,  0.4854436 ,  0.81211822,  1.13879283,  1.46546744,\n",
       "         1.79214205,  2.11881667,  2.44549128,  2.77216589,  3.0988405 ,\n",
       "         3.42551512,  3.75218973,  4.07886434,  4.40553895,  4.73221357,\n",
       "         5.05888818,  5.38556279,  5.7122374 ,  6.03891202,  6.36558663,\n",
       "         6.69226124,  7.01893585,  7.34561047,  7.67228508,  7.99895969,\n",
       "         8.3256343 ,  8.65230892,  8.97898353,  9.30565814,  9.63233275,\n",
       "         9.95900737, 10.28568198, 10.61235659, 10.9390312 , 11.26570582,\n",
       "        11.59238043, 11.91905504, 12.24572965, 12.57240427, 12.89907888,\n",
       "        13.22575349, 13.55242811, 13.87910272, 14.20577733, 14.53245194,\n",
       "        14.85912656, 15.18580117, 15.51247578, 15.83915039, 16.16582501,\n",
       "        16.49249962]),\n",
       " <BarContainer object of 50 artists>)"
      ]
     },
     "execution_count": 3,
     "metadata": {},
     "output_type": "execute_result"
    },
    {
     "data": {
      "image/png": "[encoded data removed]",
      "text/plain": [
       "<Figure size 432x288 with 1 Axes>"
      ]
     },
     "metadata": {
      "needs_background": "light"
     },
     "output_type": "display_data"
    }
   ],
   "source": [
    "plt.hist(data, density=True, bins=50)"
   ]
  },
  {
   "cell_type": "code",
   "execution_count": 4,
   "metadata": {},
   "outputs": [],
   "source": [
    "from scipy.stats import chi2"
   ]
  },
  {
   "cell_type": "code",
   "execution_count": 5,
   "metadata": {},
   "outputs": [],
   "source": [
    "data = chi2.rvs(1000, size=10000)"
   ]
  },
  {
   "cell_type": "code",
   "execution_count": 6,
   "metadata": {},
   "outputs": [
    {
     "data": {
      "text/plain": [
       "(array([  1.,   3.,   6.,   8.,  14.,  19.,  26.,  45.,  84., 121., 152.,\n",
       "        171., 233., 264., 349., 392., 456., 493., 533., 586., 603., 611.,\n",
       "        588., 543., 517., 525., 490., 390., 369., 312., 251., 194., 162.,\n",
       "        131.,  88.,  73.,  50.,  38.,  41.,  20.,  15.,  13.,   7.,   6.,\n",
       "          2.,   2.,   1.,   0.,   0.,   2.]),\n",
       " array([ 852.16222567,  858.93276513,  865.70330458,  872.47384404,\n",
       "         879.2443835 ,  886.01492296,  892.78546242,  899.55600188,\n",
       "         906.32654134,  913.0970808 ,  919.86762026,  926.63815972,\n",
       "         933.40869918,  940.17923864,  946.9497781 ,  953.72031756,\n",
       "         960.49085702,  967.26139648,  974.03193593,  980.80247539,\n",
       "         987.57301485,  994.34355431, 1001.11409377, 1007.88463323,\n",
       "        1014.65517269, 1021.42571215, 1028.19625161, 1034.96679107,\n",
       "        1041.73733053, 1048.50786999, 1055.27840945, 1062.04894891,\n",
       "        1068.81948837, 1075.59002783, 1082.36056729, 1089.13110674,\n",
       "        1095.9016462 , 1102.67218566, 1109.44272512, 1116.21326458,\n",
       "        1122.98380404, 1129.7543435 , 1136.52488296, 1143.29542242,\n",
       "        1150.06596188, 1156.83650134, 1163.6070408 , 1170.37758026,\n",
       "        1177.14811972, 1183.91865918, 1190.68919864]),\n",
       " <BarContainer object of 50 artists>)"
      ]
     },
     "execution_count": 6,
     "metadata": {},
     "output_type": "execute_result"
    },
    {
     "data": {
      "image/png": "[encoded data removed]",
      "text/plain": [
       "<Figure size 432x288 with 1 Axes>"
      ]
     },
     "metadata": {
      "needs_background": "light"
     },
     "output_type": "display_data"
    }
   ],
   "source": [
    "plt.hist(data, bins=50)"
   ]
  }
 ],
 "metadata": {
  "kernelspec": {
   "display_name": "Python 3.10.2 64-bit",
   "language": "python",
   "name": "python3"
  },
  "language_info": {
   "codemirror_mode": {
    "name": "ipython",
    "version": 3
   },
   "file_extension": ".py",
   "mimetype": "text/x-python",
   "name": "python",
   "nbconvert_exporter": "python",
   "pygments_lexer": "ipython3",
   "version": "3.10.2"
  },
  "vscode": {
   "interpreter": {
    "hash": "0354d326129403289107761bee1c2024935d02ad6cbe1c7dd64c392723c72e60"
   }
  }
 },
 "nbformat": 4,
 "nbformat_minor": 4
}
