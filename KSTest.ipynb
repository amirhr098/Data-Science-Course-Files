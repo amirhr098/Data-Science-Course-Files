{
 "cells": [
  {
   "cell_type": "code",
   "execution_count": 9,
   "metadata": {},
   "outputs": [],
   "source": [
    "import numpy as np\n",
    "import pandas as pd\n",
    "import scipy.stats as st\n",
    "from scipy.stats import entropy\n",
    "from scipy.stats import norm\n",
    "from scipy.stats import poisson\n",
    "from scipy.stats import kstest\n",
    "import matplotlib.pyplot as plt"
   ]
  },
  {
   "cell_type": "code",
   "execution_count": 2,
   "metadata": {},
   "outputs": [
    {
     "data": {
      "text/html": [
       "<div>\n",
       "<style scoped>\n",
       "    .dataframe tbody tr th:only-of-type {\n",
       "        vertical-align: middle;\n",
       "    }\n",
       "\n",
       "    .dataframe tbody tr th {\n",
       "        vertical-align: top;\n",
       "    }\n",
       "\n",
       "    .dataframe thead th {\n",
       "        text-align: right;\n",
       "    }\n",
       "</style>\n",
       "<table border=\"1\" class=\"dataframe\">\n",
       "  <thead>\n",
       "    <tr style=\"text-align: right;\">\n",
       "      <th></th>\n",
       "      <th>Gender</th>\n",
       "      <th>Height</th>\n",
       "      <th>Weight</th>\n",
       "    </tr>\n",
       "  </thead>\n",
       "  <tbody>\n",
       "    <tr>\n",
       "      <th>0</th>\n",
       "      <td>Male</td>\n",
       "      <td>73.847017</td>\n",
       "      <td>241.893563</td>\n",
       "    </tr>\n",
       "    <tr>\n",
       "      <th>1</th>\n",
       "      <td>Male</td>\n",
       "      <td>68.781904</td>\n",
       "      <td>162.310473</td>\n",
       "    </tr>\n",
       "    <tr>\n",
       "      <th>2</th>\n",
       "      <td>Male</td>\n",
       "      <td>74.110105</td>\n",
       "      <td>212.740856</td>\n",
       "    </tr>\n",
       "    <tr>\n",
       "      <th>3</th>\n",
       "      <td>Male</td>\n",
       "      <td>71.730978</td>\n",
       "      <td>220.042470</td>\n",
       "    </tr>\n",
       "    <tr>\n",
       "      <th>4</th>\n",
       "      <td>Male</td>\n",
       "      <td>69.881796</td>\n",
       "      <td>206.349801</td>\n",
       "    </tr>\n",
       "  </tbody>\n",
       "</table>\n",
       "</div>"
      ],
      "text/plain": [
       "  Gender     Height      Weight\n",
       "0   Male  73.847017  241.893563\n",
       "1   Male  68.781904  162.310473\n",
       "2   Male  74.110105  212.740856\n",
       "3   Male  71.730978  220.042470\n",
       "4   Male  69.881796  206.349801"
      ]
     },
     "execution_count": 2,
     "metadata": {},
     "output_type": "execute_result"
    }
   ],
   "source": [
    "whData = pd.read_csv('weight-height.csv')\n",
    "whData.head()"
   ]
  },
  {
   "cell_type": "code",
   "execution_count": 4,
   "metadata": {},
   "outputs": [
    {
     "name": "stdout",
     "output_type": "stream",
     "text": [
      "5000\n",
      "5000\n"
     ]
    }
   ],
   "source": [
    "males_h = whData[whData['Gender'] == 'Male']['Height']\n",
    "females_h = whData[whData['Gender'] == 'Female']['Height']\n",
    "print(len(males_h))\n",
    "print(len(females_h))"
   ]
  },
  {
   "cell_type": "code",
   "execution_count": 5,
   "metadata": {},
   "outputs": [],
   "source": [
    "mcount, mdevision = np.histogram(males_h, bins=100)\n",
    "fcount, fdevision = np.histogram(females_h, bins=100)"
   ]
  },
  {
   "cell_type": "code",
   "execution_count": 6,
   "metadata": {},
   "outputs": [
    {
     "data": {
      "text/plain": [
       "KstestResult(statistic=0.05, pvalue=0.9996892272702655)"
      ]
     },
     "execution_count": 6,
     "metadata": {},
     "output_type": "execute_result"
    }
   ],
   "source": [
    "kstest(mcount, fcount)"
   ]
  },
  {
   "cell_type": "code",
   "execution_count": 12,
   "metadata": {},
   "outputs": [
    {
     "data": {
      "text/plain": [
       "[<matplotlib.lines.Line2D at 0x7fa015024450>]"
      ]
     },
     "execution_count": 12,
     "metadata": {},
     "output_type": "execute_result"
    },
    {
     "data": {
      "image/png": "[encoded data removed]",
      "text/plain": [
       "<Figure size 432x288 with 1 Axes>"
      ]
     },
     "metadata": {
      "needs_background": "light"
     },
     "output_type": "display_data"
    }
   ],
   "source": [
    "plt.plot(np.cumsum(mcount))\n",
    "plt.plot(np.cumsum(fcount))"
   ]
  },
  {
   "cell_type": "code",
   "execution_count": 44,
   "metadata": {},
   "outputs": [
    {
     "data": {
      "text/plain": [
       "KstestResult(statistic=0.6664, pvalue=0.0)"
      ]
     },
     "execution_count": 44,
     "metadata": {},
     "output_type": "execute_result"
    }
   ],
   "source": [
    "kstest(males_h.sort_values().reset_index(drop=True), females_h.sort_values().reset_index(drop=True), N=1000)"
   ]
  },
  {
   "cell_type": "code",
   "execution_count": 39,
   "metadata": {},
   "outputs": [
    {
     "data": {
      "text/plain": [
       "0       58.406905\n",
       "1       59.380650\n",
       "2       59.868078\n",
       "3       59.938650\n",
       "4       59.981865\n",
       "          ...    \n",
       "4995    78.095867\n",
       "4996    78.462053\n",
       "4997    78.528210\n",
       "4998    78.621374\n",
       "4999    78.998742\n",
       "Name: Height, Length: 5000, dtype: float64"
      ]
     },
     "execution_count": 39,
     "metadata": {},
     "output_type": "execute_result"
    }
   ],
   "source": []
  },
  {
   "cell_type": "code",
   "execution_count": 41,
   "metadata": {},
   "outputs": [
    {
     "data": {
      "text/plain": [
       "[<matplotlib.lines.Line2D at 0x7fa0139f8c10>]"
      ]
     },
     "execution_count": 41,
     "metadata": {},
     "output_type": "execute_result"
    },
    {
     "data": {
      "image/png": "[encoded data removed]",
      "text/plain": [
       "<Figure size 432x288 with 1 Axes>"
      ]
     },
     "metadata": {
      "needs_background": "light"
     },
     "output_type": "display_data"
    }
   ],
   "source": [
    "plt.plot((males_h.sort_values().reset_index(drop=True)))\n",
    "plt.plot((females_h.sort_values().reset_index(drop=True)))"
   ]
  },
  {
   "cell_type": "code",
   "execution_count": 42,
   "metadata": {},
   "outputs": [
    {
     "data": {
      "text/plain": [
       "[<matplotlib.lines.Line2D at 0x7fa0139e7790>]"
      ]
     },
     "execution_count": 42,
     "metadata": {},
     "output_type": "execute_result"
    },
    {
     "data": {
      "image/png": "[encoded data removed]",
      "text/plain": [
       "<Figure size 432x288 with 1 Axes>"
      ]
     },
     "metadata": {
      "needs_background": "light"
     },
     "output_type": "display_data"
    }
   ],
   "source": [
    "plt.plot(np.cumsum((males_h.sort_values().reset_index(drop=True))))\n",
    "plt.plot(np.cumsum((females_h.sort_values().reset_index(drop=True))))"
   ]
  },
  {
   "cell_type": "code",
   "execution_count": 34,
   "metadata": {},
   "outputs": [
    {
     "data": {
      "text/plain": [
       "(array([  1.,   1.,   0.,   1.,   1.,   1.,   0.,   3.,   2.,   7.,   0.,\n",
       "          4.,   4.,   8.,   8.,  11.,   7.,   9.,  16.,  12.,  17.,  20.,\n",
       "         28.,  24.,  30.,  26.,  37.,  37.,  45.,  49.,  71.,  48.,  68.,\n",
       "         92.,  89.,  77.,  92.,  97., 108., 111., 127., 129., 115., 135.,\n",
       "        146., 130., 135., 133., 124., 152., 148., 130., 131., 142., 138.,\n",
       "        120., 129., 123.,  97., 108.,  93.,  93., 116.,  91.,  83.,  72.,\n",
       "         64.,  65.,  64.,  43.,  47.,  43.,  42.,  34.,  18.,  27.,  21.,\n",
       "         21.,  21.,  17.,  11.,  11.,   9.,   5.,   9.,  10.,   4.,   3.,\n",
       "          2.,   1.,   1.,   0.,   1.,   1.,   2.,   0.,   0.,   0.,   0.,\n",
       "          1.]),\n",
       " array([54.26313333, 54.45439785, 54.64566238, 54.8369269 , 55.02819143,\n",
       "        55.21945595, 55.41072048, 55.601985  , 55.79324953, 55.98451405,\n",
       "        56.17577858, 56.3670431 , 56.55830763, 56.74957216, 56.94083668,\n",
       "        57.13210121, 57.32336573, 57.51463026, 57.70589478, 57.89715931,\n",
       "        58.08842383, 58.27968836, 58.47095288, 58.66221741, 58.85348193,\n",
       "        59.04474646, 59.23601099, 59.42727551, 59.61854004, 59.80980456,\n",
       "        60.00106909, 60.19233361, 60.38359814, 60.57486266, 60.76612719,\n",
       "        60.95739171, 61.14865624, 61.33992077, 61.53118529, 61.72244982,\n",
       "        61.91371434, 62.10497887, 62.29624339, 62.48750792, 62.67877244,\n",
       "        62.87003697, 63.06130149, 63.25256602, 63.44383054, 63.63509507,\n",
       "        63.8263596 , 64.01762412, 64.20888865, 64.40015317, 64.5914177 ,\n",
       "        64.78268222, 64.97394675, 65.16521127, 65.3564758 , 65.54774032,\n",
       "        65.73900485, 65.93026938, 66.1215339 , 66.31279843, 66.50406295,\n",
       "        66.69532748, 66.886592  , 67.07785653, 67.26912105, 67.46038558,\n",
       "        67.6516501 , 67.84291463, 68.03417915, 68.22544368, 68.41670821,\n",
       "        68.60797273, 68.79923726, 68.99050178, 69.18176631, 69.37303083,\n",
       "        69.56429536, 69.75555988, 69.94682441, 70.13808893, 70.32935346,\n",
       "        70.52061798, 70.71188251, 70.90314704, 71.09441156, 71.28567609,\n",
       "        71.47694061, 71.66820514, 71.85946966, 72.05073419, 72.24199871,\n",
       "        72.43326324, 72.62452776, 72.81579229, 73.00705682, 73.19832134,\n",
       "        73.38958587]),\n",
       " <a list of 100 Patch objects>)"
      ]
     },
     "execution_count": 34,
     "metadata": {},
     "output_type": "execute_result"
    },
    {
     "data": {
      "image/png": "[encoded data removed]",
      "text/plain": [
       "<Figure size 432x288 with 1 Axes>"
      ]
     },
     "metadata": {
      "needs_background": "light"
     },
     "output_type": "display_data"
    }
   ],
   "source": [
    "plt.hist((males_h.sort_values()), bins=100)\n",
    "plt.hist((females_h.sort_values()), bins=100)"
   ]
  },
  {
   "cell_type": "code",
   "execution_count": 45,
   "metadata": {},
   "outputs": [
    {
     "data": {
      "text/plain": [
       "69.02634590621737"
      ]
     },
     "execution_count": 45,
     "metadata": {},
     "output_type": "execute_result"
    }
   ],
   "source": [
    "males_h.mean()"
   ]
  },
  {
   "cell_type": "code",
   "execution_count": 46,
   "metadata": {},
   "outputs": [
    {
     "data": {
      "text/plain": [
       "63.708773603424916"
      ]
     },
     "execution_count": 46,
     "metadata": {},
     "output_type": "execute_result"
    }
   ],
   "source": [
    "females_h.mean()"
   ]
  },
  {
   "cell_type": "code",
   "execution_count": null,
   "metadata": {},
   "outputs": [],
   "source": [
    "nmales_h = males_h - males_h.mean()"
   ]
  },
  {
   "cell_type": "code",
   "execution_count": 48,
   "metadata": {},
   "outputs": [],
   "source": [
    "nfemales_h = females_h - females_h.mean()"
   ]
  },
  {
   "cell_type": "code",
   "execution_count": 49,
   "metadata": {},
   "outputs": [
    {
     "data": {
      "text/plain": [
       "(array([  1.,   1.,   0.,   1.,   1.,   1.,   0.,   3.,   2.,   7.,   0.,\n",
       "          4.,   4.,   8.,   8.,  11.,   7.,   9.,  16.,  12.,  17.,  20.,\n",
       "         28.,  24.,  30.,  26.,  37.,  37.,  45.,  49.,  71.,  48.,  68.,\n",
       "         92.,  89.,  77.,  92.,  97., 108., 111., 127., 129., 115., 135.,\n",
       "        146., 130., 135., 133., 124., 152., 148., 130., 131., 142., 138.,\n",
       "        120., 129., 123.,  97., 108.,  93.,  93., 116.,  91.,  83.,  72.,\n",
       "         64.,  65.,  64.,  43.,  47.,  43.,  42.,  34.,  18.,  27.,  21.,\n",
       "         21.,  21.,  17.,  11.,  11.,   9.,   5.,   9.,  10.,   4.,   3.,\n",
       "          2.,   1.,   1.,   0.,   1.,   1.,   2.,   0.,   0.,   0.,   0.,\n",
       "          1.]),\n",
       " array([-9.44564028, -9.25437575, -9.06311123, -8.8718467 , -8.68058218,\n",
       "        -8.48931765, -8.29805313, -8.1067886 , -7.91552408, -7.72425955,\n",
       "        -7.53299502, -7.3417305 , -7.15046597, -6.95920145, -6.76793692,\n",
       "        -6.5766724 , -6.38540787, -6.19414335, -6.00287882, -5.8116143 ,\n",
       "        -5.62034977, -5.42908524, -5.23782072, -5.04655619, -4.85529167,\n",
       "        -4.66402714, -4.47276262, -4.28149809, -4.09023357, -3.89896904,\n",
       "        -3.70770452, -3.51643999, -3.32517547, -3.13391094, -2.94264641,\n",
       "        -2.75138189, -2.56011736, -2.36885284, -2.17758831, -1.98632379,\n",
       "        -1.79505926, -1.60379474, -1.41253021, -1.22126569, -1.03000116,\n",
       "        -0.83873663, -0.64747211, -0.45620758, -0.26494306, -0.07367853,\n",
       "         0.11758599,  0.30885052,  0.50011504,  0.69137957,  0.88264409,\n",
       "         1.07390862,  1.26517314,  1.45643767,  1.6477022 ,  1.83896672,\n",
       "         2.03023125,  2.22149577,  2.4127603 ,  2.60402482,  2.79528935,\n",
       "         2.98655387,  3.1778184 ,  3.36908292,  3.56034745,  3.75161197,\n",
       "         3.9428765 ,  4.13414103,  4.32540555,  4.51667008,  4.7079346 ,\n",
       "         4.89919913,  5.09046365,  5.28172818,  5.4729927 ,  5.66425723,\n",
       "         5.85552175,  6.04678628,  6.23805081,  6.42931533,  6.62057986,\n",
       "         6.81184438,  7.00310891,  7.19437343,  7.38563796,  7.57690248,\n",
       "         7.76816701,  7.95943153,  8.15069606,  8.34196058,  8.53322511,\n",
       "         8.72448964,  8.91575416,  9.10701869,  9.29828321,  9.48954774,\n",
       "         9.68081226]),\n",
       " <a list of 100 Patch objects>)"
      ]
     },
     "execution_count": 49,
     "metadata": {},
     "output_type": "execute_result"
    },
    {
     "data": {
      "image/png": "[encoded data removed]",
      "text/plain": [
       "<Figure size 432x288 with 1 Axes>"
      ]
     },
     "metadata": {
      "needs_background": "light"
     },
     "output_type": "display_data"
    }
   ],
   "source": [
    "plt.hist((nmales_h.sort_values()), bins=100)\n",
    "plt.hist((nfemales_h.sort_values()), bins=100)"
   ]
  },
  {
   "cell_type": "code",
   "execution_count": 50,
   "metadata": {},
   "outputs": [
    {
     "data": {
      "text/plain": [
       "KstestResult(statistic=0.0194, pvalue=0.3035775745288207)"
      ]
     },
     "execution_count": 50,
     "metadata": {},
     "output_type": "execute_result"
    }
   ],
   "source": [
    "kstest(nmales_h, nfemales_h)"
   ]
  },
  {
   "cell_type": "code",
   "execution_count": 51,
   "metadata": {},
   "outputs": [
    {
     "data": {
      "text/plain": [
       "KstestResult(statistic=0.23808525858975393, pvalue=7.336270444196898e-250)"
      ]
     },
     "execution_count": 51,
     "metadata": {},
     "output_type": "execute_result"
    }
   ],
   "source": [
    "kstest(nmales_h, 'norm')"
   ]
  },
  {
   "cell_type": "code",
   "execution_count": 52,
   "metadata": {},
   "outputs": [
    {
     "data": {
      "text/plain": [
       "4.689155730375205e-14"
      ]
     },
     "execution_count": 52,
     "metadata": {},
     "output_type": "execute_result"
    }
   ],
   "source": [
    "nmales_h.mean()"
   ]
  },
  {
   "cell_type": "code",
   "execution_count": 53,
   "metadata": {},
   "outputs": [
    {
     "data": {
      "text/plain": [
       "2.863362228660651"
      ]
     },
     "execution_count": 53,
     "metadata": {},
     "output_type": "execute_result"
    }
   ],
   "source": [
    "nmales_h.std()"
   ]
  },
  {
   "cell_type": "code",
   "execution_count": 55,
   "metadata": {},
   "outputs": [
    {
     "data": {
      "text/plain": [
       "array([-6.40082966, -4.22393532,  2.87535474, ...,  0.97803485,\n",
       "        6.66163805,  1.19729059])"
      ]
     },
     "execution_count": 55,
     "metadata": {},
     "output_type": "execute_result"
    }
   ],
   "source": [
    "ideal = norm.rvs(size=len(nmales_h), loc=nmales_h.mean(), scale=nmales_h.std())\n",
    "ideal"
   ]
  },
  {
   "cell_type": "code",
   "execution_count": 56,
   "metadata": {},
   "outputs": [
    {
     "data": {
      "text/plain": [
       "KstestResult(statistic=0.012, pvalue=0.8643325152980597)"
      ]
     },
     "execution_count": 56,
     "metadata": {},
     "output_type": "execute_result"
    }
   ],
   "source": [
    "kstest(nmales_h, ideal)"
   ]
  }
 ],
 "metadata": {
  "kernelspec": {
   "display_name": "Python 3",
   "language": "python",
   "name": "python3"
  },
  "language_info": {
   "codemirror_mode": {
    "name": "ipython",
    "version": 3
   },
   "file_extension": ".py",
   "mimetype": "text/x-python",
   "name": "python",
   "nbconvert_exporter": "python",
   "pygments_lexer": "ipython3",
   "version": "3.7.6"
  }
 },
 "nbformat": 4,
 "nbformat_minor": 4
}
