{
 "cells": [
  {
   "cell_type": "code",
   "execution_count": 1,
   "metadata": {},
   "outputs": [],
   "source": [
    "from tensorflow.keras.models import Sequential\n",
    "from tensorflow.keras.layers import Dense, Dropout\n",
    "import pickle"
   ]
  },
  {
   "cell_type": "code",
   "execution_count": 5,
   "metadata": {},
   "outputs": [
    {
     "data": {
      "text/plain": [
       "8192"
      ]
     },
     "execution_count": 5,
     "metadata": {},
     "output_type": "execute_result"
    }
   ],
   "source": [
    "4 * 4 * 512"
   ]
  },
  {
   "cell_type": "code",
   "execution_count": 13,
   "metadata": {},
   "outputs": [],
   "source": [
    "model = Sequential()\n",
    "model.add(Dense(128, activation='relu', input_dim=8192))\n",
    "model.add(Dropout(0.5))\n",
    "model.add(Dense(1, activation='sigmoid'))\n",
    "model.compile(optimizer='Adam', loss='binary_crossentropy', metrics=['accuracy'])"
   ]
  },
  {
   "cell_type": "code",
   "execution_count": 8,
   "metadata": {},
   "outputs": [],
   "source": [
    "with open('vggfeatures.h5', 'rb') as f:\n",
    "    features = pickle.load(f)\n",
    "with open('vgglabels.h5', 'rb') as f:\n",
    "    labels = pickle.load(f)"
   ]
  },
  {
   "cell_type": "code",
   "execution_count": 9,
   "metadata": {},
   "outputs": [],
   "source": [
    "with open('vggfeatures_test.h5', 'rb') as f:\n",
    "    features_test = pickle.load(f)\n",
    "with open('vgglabels_test.h5', 'rb') as f:\n",
    "    labels_test = pickle.load(f)"
   ]
  },
  {
   "cell_type": "code",
   "execution_count": 14,
   "metadata": {},
   "outputs": [
    {
     "name": "stdout",
     "output_type": "stream",
     "text": [
      "Model: \"sequential_3\"\n",
      "_________________________________________________________________\n",
      "Layer (type)                 Output Shape              Param #   \n",
      "=================================================================\n",
      "dense_12 (Dense)             (None, 128)               1048704   \n",
      "_________________________________________________________________\n",
      "dropout_9 (Dropout)          (None, 128)               0         \n",
      "_________________________________________________________________\n",
      "dense_13 (Dense)             (None, 1)                 129       \n",
      "=================================================================\n",
      "Total params: 1,048,833\n",
      "Trainable params: 1,048,833\n",
      "Non-trainable params: 0\n",
      "_________________________________________________________________\n"
     ]
    }
   ],
   "source": [
    "model.summary()"
   ]
  },
  {
   "cell_type": "code",
   "execution_count": 15,
   "metadata": {},
   "outputs": [
    {
     "name": "stdout",
     "output_type": "stream",
     "text": [
      "Epoch 1/30\n",
      "40/40 [==============================] - 0s 12ms/step - loss: 0.4396 - accuracy: 0.7995 - val_loss: 0.3067 - val_accuracy: 0.8736\n",
      "Epoch 2/30\n",
      "40/40 [==============================] - 0s 11ms/step - loss: 0.2553 - accuracy: 0.8955 - val_loss: 0.3054 - val_accuracy: 0.8593\n",
      "Epoch 3/30\n",
      "40/40 [==============================] - 0s 10ms/step - loss: 0.2076 - accuracy: 0.9150 - val_loss: 0.2745 - val_accuracy: 0.8893\n",
      "Epoch 4/30\n",
      "40/40 [==============================] - 0s 10ms/step - loss: 0.1657 - accuracy: 0.9390 - val_loss: 0.2730 - val_accuracy: 0.8857\n",
      "Epoch 5/30\n",
      "40/40 [==============================] - 0s 10ms/step - loss: 0.1401 - accuracy: 0.9410 - val_loss: 0.2673 - val_accuracy: 0.8950\n",
      "Epoch 6/30\n",
      "40/40 [==============================] - 0s 11ms/step - loss: 0.1071 - accuracy: 0.9620 - val_loss: 0.2779 - val_accuracy: 0.8879\n",
      "Epoch 7/30\n",
      "40/40 [==============================] - 0s 10ms/step - loss: 0.1110 - accuracy: 0.9550 - val_loss: 0.2775 - val_accuracy: 0.8921\n",
      "Epoch 8/30\n",
      "40/40 [==============================] - 0s 11ms/step - loss: 0.0794 - accuracy: 0.9740 - val_loss: 0.2915 - val_accuracy: 0.8964\n",
      "Epoch 9/30\n",
      "40/40 [==============================] - 0s 12ms/step - loss: 0.0616 - accuracy: 0.9835 - val_loss: 0.3080 - val_accuracy: 0.8936\n",
      "Epoch 10/30\n",
      "40/40 [==============================] - 0s 11ms/step - loss: 0.0465 - accuracy: 0.9885 - val_loss: 0.3363 - val_accuracy: 0.8864\n",
      "Epoch 11/30\n",
      "40/40 [==============================] - 0s 11ms/step - loss: 0.0435 - accuracy: 0.9895 - val_loss: 0.3175 - val_accuracy: 0.8979\n",
      "Epoch 12/30\n",
      "40/40 [==============================] - 0s 10ms/step - loss: 0.0320 - accuracy: 0.9920 - val_loss: 0.3365 - val_accuracy: 0.8971\n",
      "Epoch 13/30\n",
      "40/40 [==============================] - 0s 10ms/step - loss: 0.0303 - accuracy: 0.9935 - val_loss: 0.3327 - val_accuracy: 0.8943\n",
      "Epoch 14/30\n",
      "40/40 [==============================] - 0s 10ms/step - loss: 0.0266 - accuracy: 0.9930 - val_loss: 0.3489 - val_accuracy: 0.8893\n",
      "Epoch 15/30\n",
      "40/40 [==============================] - 0s 12ms/step - loss: 0.0221 - accuracy: 0.9945 - val_loss: 0.3828 - val_accuracy: 0.8943\n",
      "Epoch 16/30\n",
      "40/40 [==============================] - 0s 11ms/step - loss: 0.0228 - accuracy: 0.9950 - val_loss: 0.3750 - val_accuracy: 0.8936\n",
      "Epoch 17/30\n",
      "40/40 [==============================] - 0s 11ms/step - loss: 0.0173 - accuracy: 0.9965 - val_loss: 0.3790 - val_accuracy: 0.8921\n",
      "Epoch 18/30\n",
      "40/40 [==============================] - 0s 11ms/step - loss: 0.0164 - accuracy: 0.9985 - val_loss: 0.4025 - val_accuracy: 0.8893\n",
      "Epoch 19/30\n",
      "40/40 [==============================] - 0s 11ms/step - loss: 0.0152 - accuracy: 0.9975 - val_loss: 0.3873 - val_accuracy: 0.8893\n",
      "Epoch 20/30\n",
      "40/40 [==============================] - 0s 11ms/step - loss: 0.0109 - accuracy: 0.9985 - val_loss: 0.4310 - val_accuracy: 0.8871\n",
      "Epoch 21/30\n",
      "40/40 [==============================] - 0s 11ms/step - loss: 0.0143 - accuracy: 0.9975 - val_loss: 0.3814 - val_accuracy: 0.8914\n",
      "Epoch 22/30\n",
      "40/40 [==============================] - 0s 11ms/step - loss: 0.0098 - accuracy: 0.9990 - val_loss: 0.3999 - val_accuracy: 0.8914\n",
      "Epoch 23/30\n",
      "40/40 [==============================] - 0s 11ms/step - loss: 0.0089 - accuracy: 0.9985 - val_loss: 0.4242 - val_accuracy: 0.8921\n",
      "Epoch 24/30\n",
      "40/40 [==============================] - 0s 11ms/step - loss: 0.0082 - accuracy: 0.9985 - val_loss: 0.4404 - val_accuracy: 0.8879\n",
      "Epoch 25/30\n",
      "40/40 [==============================] - 0s 12ms/step - loss: 0.0071 - accuracy: 0.9985 - val_loss: 0.4284 - val_accuracy: 0.8936\n",
      "Epoch 26/30\n",
      "40/40 [==============================] - 0s 11ms/step - loss: 0.0082 - accuracy: 0.9980 - val_loss: 0.4516 - val_accuracy: 0.8900\n",
      "Epoch 27/30\n",
      "40/40 [==============================] - 0s 12ms/step - loss: 0.0070 - accuracy: 0.9995 - val_loss: 0.4512 - val_accuracy: 0.8936\n",
      "Epoch 28/30\n",
      "40/40 [==============================] - 0s 11ms/step - loss: 0.0054 - accuracy: 0.9985 - val_loss: 0.4636 - val_accuracy: 0.8914\n",
      "Epoch 29/30\n",
      "40/40 [==============================] - 0s 11ms/step - loss: 0.0063 - accuracy: 0.9985 - val_loss: 0.4577 - val_accuracy: 0.8929\n",
      "Epoch 30/30\n",
      "40/40 [==============================] - 0s 11ms/step - loss: 0.0053 - accuracy: 0.9985 - val_loss: 0.4813 - val_accuracy: 0.8893\n"
     ]
    }
   ],
   "source": [
    "history = model.fit(features, labels, epochs=30, batch_size=50, validation_data=(features_test, labels_test))"
   ]
  },
  {
   "cell_type": "code",
   "execution_count": 16,
   "metadata": {},
   "outputs": [
    {
     "data": {
      "text/plain": [
       "[<matplotlib.lines.Line2D at 0x7f1cf8400290>]"
      ]
     },
     "execution_count": 16,
     "metadata": {},
     "output_type": "execute_result"
    },
    {
     "data": {
      "image/png": "[encoded data removed]",
      "text/plain": [
       "<Figure size 432x288 with 1 Axes>"
      ]
     },
     "metadata": {
      "needs_background": "light"
     },
     "output_type": "display_data"
    }
   ],
   "source": [
    "import matplotlib.pyplot as plt\n",
    "epochs = range(30)\n",
    "plt.plot(epochs, history.history['accuracy'], color='green')\n",
    "plt.plot(epochs, history.history['val_accuracy'], color='blue')"
   ]
  }
 ],
 "metadata": {
  "kernelspec": {
   "display_name": "Python 3",
   "language": "python",
   "name": "python3"
  },
  "language_info": {
   "codemirror_mode": {
    "name": "ipython",
    "version": 3
   },
   "file_extension": ".py",
   "mimetype": "text/x-python",
   "name": "python",
   "nbconvert_exporter": "python",
   "pygments_lexer": "ipython3",
   "version": "3.7.6"
  }
 },
 "nbformat": 4,
 "nbformat_minor": 4
}
