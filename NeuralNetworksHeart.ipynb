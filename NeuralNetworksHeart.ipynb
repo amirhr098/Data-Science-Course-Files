{
 "cells": [
  {
   "cell_type": "code",
   "execution_count": 1,
   "metadata": {},
   "outputs": [],
   "source": [
    "import pandas as pd\n",
    "import numpy as np\n",
    "import tensorflow as tf"
   ]
  },
  {
   "cell_type": "code",
   "execution_count": 2,
   "metadata": {},
   "outputs": [
    {
     "data": {
      "text/html": [
       "<div>\n",
       "<style scoped>\n",
       "    .dataframe tbody tr th:only-of-type {\n",
       "        vertical-align: middle;\n",
       "    }\n",
       "\n",
       "    .dataframe tbody tr th {\n",
       "        vertical-align: top;\n",
       "    }\n",
       "\n",
       "    .dataframe thead th {\n",
       "        text-align: right;\n",
       "    }\n",
       "</style>\n",
       "<table border=\"1\" class=\"dataframe\">\n",
       "  <thead>\n",
       "    <tr style=\"text-align: right;\">\n",
       "      <th></th>\n",
       "      <th>id</th>\n",
       "      <th>age</th>\n",
       "      <th>gender</th>\n",
       "      <th>height</th>\n",
       "      <th>weight</th>\n",
       "      <th>ap_hi</th>\n",
       "      <th>ap_lo</th>\n",
       "      <th>cholesterol</th>\n",
       "      <th>gluc</th>\n",
       "      <th>smoke</th>\n",
       "      <th>alco</th>\n",
       "      <th>active</th>\n",
       "      <th>cardio</th>\n",
       "    </tr>\n",
       "  </thead>\n",
       "  <tbody>\n",
       "    <tr>\n",
       "      <th>0</th>\n",
       "      <td>0</td>\n",
       "      <td>18393</td>\n",
       "      <td>2</td>\n",
       "      <td>168</td>\n",
       "      <td>62.0</td>\n",
       "      <td>110</td>\n",
       "      <td>80</td>\n",
       "      <td>1</td>\n",
       "      <td>1</td>\n",
       "      <td>0</td>\n",
       "      <td>0</td>\n",
       "      <td>1</td>\n",
       "      <td>0</td>\n",
       "    </tr>\n",
       "    <tr>\n",
       "      <th>1</th>\n",
       "      <td>1</td>\n",
       "      <td>20228</td>\n",
       "      <td>1</td>\n",
       "      <td>156</td>\n",
       "      <td>85.0</td>\n",
       "      <td>140</td>\n",
       "      <td>90</td>\n",
       "      <td>3</td>\n",
       "      <td>1</td>\n",
       "      <td>0</td>\n",
       "      <td>0</td>\n",
       "      <td>1</td>\n",
       "      <td>1</td>\n",
       "    </tr>\n",
       "    <tr>\n",
       "      <th>2</th>\n",
       "      <td>2</td>\n",
       "      <td>18857</td>\n",
       "      <td>1</td>\n",
       "      <td>165</td>\n",
       "      <td>64.0</td>\n",
       "      <td>130</td>\n",
       "      <td>70</td>\n",
       "      <td>3</td>\n",
       "      <td>1</td>\n",
       "      <td>0</td>\n",
       "      <td>0</td>\n",
       "      <td>0</td>\n",
       "      <td>1</td>\n",
       "    </tr>\n",
       "    <tr>\n",
       "      <th>3</th>\n",
       "      <td>3</td>\n",
       "      <td>17623</td>\n",
       "      <td>2</td>\n",
       "      <td>169</td>\n",
       "      <td>82.0</td>\n",
       "      <td>150</td>\n",
       "      <td>100</td>\n",
       "      <td>1</td>\n",
       "      <td>1</td>\n",
       "      <td>0</td>\n",
       "      <td>0</td>\n",
       "      <td>1</td>\n",
       "      <td>1</td>\n",
       "    </tr>\n",
       "    <tr>\n",
       "      <th>4</th>\n",
       "      <td>4</td>\n",
       "      <td>17474</td>\n",
       "      <td>1</td>\n",
       "      <td>156</td>\n",
       "      <td>56.0</td>\n",
       "      <td>100</td>\n",
       "      <td>60</td>\n",
       "      <td>1</td>\n",
       "      <td>1</td>\n",
       "      <td>0</td>\n",
       "      <td>0</td>\n",
       "      <td>0</td>\n",
       "      <td>0</td>\n",
       "    </tr>\n",
       "  </tbody>\n",
       "</table>\n",
       "</div>"
      ],
      "text/plain": [
       "   id    age  gender  height  weight  ap_hi  ap_lo  cholesterol  gluc  smoke  \\\n",
       "0   0  18393       2     168    62.0    110     80            1     1      0   \n",
       "1   1  20228       1     156    85.0    140     90            3     1      0   \n",
       "2   2  18857       1     165    64.0    130     70            3     1      0   \n",
       "3   3  17623       2     169    82.0    150    100            1     1      0   \n",
       "4   4  17474       1     156    56.0    100     60            1     1      0   \n",
       "\n",
       "   alco  active  cardio  \n",
       "0     0       1       0  \n",
       "1     0       1       1  \n",
       "2     0       0       1  \n",
       "3     0       1       1  \n",
       "4     0       0       0  "
      ]
     },
     "execution_count": 2,
     "metadata": {},
     "output_type": "execute_result"
    }
   ],
   "source": [
    "data = pd.read_csv('cardio_train1.csv')\n",
    "data.head()"
   ]
  },
  {
   "cell_type": "code",
   "execution_count": 3,
   "metadata": {},
   "outputs": [
    {
     "data": {
      "text/plain": [
       "id             0\n",
       "age            0\n",
       "gender         0\n",
       "height         0\n",
       "weight         0\n",
       "ap_hi          0\n",
       "ap_lo          0\n",
       "cholesterol    0\n",
       "gluc           0\n",
       "smoke          0\n",
       "alco           0\n",
       "active         0\n",
       "cardio         0\n",
       "dtype: int64"
      ]
     },
     "execution_count": 3,
     "metadata": {},
     "output_type": "execute_result"
    }
   ],
   "source": [
    "data.isna().sum()"
   ]
  },
  {
   "cell_type": "code",
   "execution_count": 4,
   "metadata": {},
   "outputs": [],
   "source": [
    "X = data.iloc[:, 1:-1]\n",
    "y = data.iloc[:, -1]"
   ]
  },
  {
   "cell_type": "code",
   "execution_count": 5,
   "metadata": {},
   "outputs": [],
   "source": [
    "from sklearn.preprocessing import MinMaxScaler\n",
    "mms = MinMaxScaler()\n",
    "X = mms.fit_transform(X)"
   ]
  },
  {
   "cell_type": "code",
   "execution_count": 6,
   "metadata": {},
   "outputs": [
    {
     "data": {
      "text/plain": [
       "array([[0.58807588, 1.        , 0.57948718, ..., 0.        , 0.        ,\n",
       "        1.        ],\n",
       "       [0.73015873, 0.        , 0.51794872, ..., 0.        , 0.        ,\n",
       "        1.        ],\n",
       "       [0.6240031 , 0.        , 0.56410256, ..., 0.        , 0.        ,\n",
       "        0.        ],\n",
       "       ...,\n",
       "       [0.64018583, 1.        , 0.65641026, ..., 0.        , 1.        ,\n",
       "        0.        ],\n",
       "       [0.90073558, 0.        , 0.55384615, ..., 0.        , 0.        ,\n",
       "        0.        ],\n",
       "       [0.75431669, 0.        , 0.58974359, ..., 0.        , 0.        ,\n",
       "        1.        ]])"
      ]
     },
     "execution_count": 6,
     "metadata": {},
     "output_type": "execute_result"
    }
   ],
   "source": [
    "X"
   ]
  },
  {
   "cell_type": "code",
   "execution_count": 8,
   "metadata": {},
   "outputs": [
    {
     "data": {
      "text/plain": [
       "0        0\n",
       "1        1\n",
       "2        1\n",
       "3        1\n",
       "4        0\n",
       "        ..\n",
       "69995    0\n",
       "69996    1\n",
       "69997    1\n",
       "69998    1\n",
       "69999    0\n",
       "Name: cardio, Length: 70000, dtype: int64"
      ]
     },
     "execution_count": 8,
     "metadata": {},
     "output_type": "execute_result"
    }
   ],
   "source": [
    "y"
   ]
  },
  {
   "cell_type": "code",
   "execution_count": 7,
   "metadata": {},
   "outputs": [
    {
     "data": {
      "text/plain": [
       "(70000, 11)"
      ]
     },
     "execution_count": 7,
     "metadata": {},
     "output_type": "execute_result"
    }
   ],
   "source": [
    "np.shape(X)"
   ]
  },
  {
   "cell_type": "code",
   "execution_count": 9,
   "metadata": {},
   "outputs": [
    {
     "data": {
      "text/html": [
       "<div>\n",
       "<style scoped>\n",
       "    .dataframe tbody tr th:only-of-type {\n",
       "        vertical-align: middle;\n",
       "    }\n",
       "\n",
       "    .dataframe tbody tr th {\n",
       "        vertical-align: top;\n",
       "    }\n",
       "\n",
       "    .dataframe thead th {\n",
       "        text-align: right;\n",
       "    }\n",
       "</style>\n",
       "<table border=\"1\" class=\"dataframe\">\n",
       "  <thead>\n",
       "    <tr style=\"text-align: right;\">\n",
       "      <th></th>\n",
       "      <th>0</th>\n",
       "      <th>1</th>\n",
       "    </tr>\n",
       "  </thead>\n",
       "  <tbody>\n",
       "    <tr>\n",
       "      <th>0</th>\n",
       "      <td>1</td>\n",
       "      <td>0</td>\n",
       "    </tr>\n",
       "    <tr>\n",
       "      <th>1</th>\n",
       "      <td>0</td>\n",
       "      <td>1</td>\n",
       "    </tr>\n",
       "    <tr>\n",
       "      <th>2</th>\n",
       "      <td>0</td>\n",
       "      <td>1</td>\n",
       "    </tr>\n",
       "    <tr>\n",
       "      <th>3</th>\n",
       "      <td>0</td>\n",
       "      <td>1</td>\n",
       "    </tr>\n",
       "    <tr>\n",
       "      <th>4</th>\n",
       "      <td>1</td>\n",
       "      <td>0</td>\n",
       "    </tr>\n",
       "    <tr>\n",
       "      <th>...</th>\n",
       "      <td>...</td>\n",
       "      <td>...</td>\n",
       "    </tr>\n",
       "    <tr>\n",
       "      <th>69995</th>\n",
       "      <td>1</td>\n",
       "      <td>0</td>\n",
       "    </tr>\n",
       "    <tr>\n",
       "      <th>69996</th>\n",
       "      <td>0</td>\n",
       "      <td>1</td>\n",
       "    </tr>\n",
       "    <tr>\n",
       "      <th>69997</th>\n",
       "      <td>0</td>\n",
       "      <td>1</td>\n",
       "    </tr>\n",
       "    <tr>\n",
       "      <th>69998</th>\n",
       "      <td>0</td>\n",
       "      <td>1</td>\n",
       "    </tr>\n",
       "    <tr>\n",
       "      <th>69999</th>\n",
       "      <td>1</td>\n",
       "      <td>0</td>\n",
       "    </tr>\n",
       "  </tbody>\n",
       "</table>\n",
       "<p>70000 rows × 2 columns</p>\n",
       "</div>"
      ],
      "text/plain": [
       "       0  1\n",
       "0      1  0\n",
       "1      0  1\n",
       "2      0  1\n",
       "3      0  1\n",
       "4      1  0\n",
       "...   .. ..\n",
       "69995  1  0\n",
       "69996  0  1\n",
       "69997  0  1\n",
       "69998  0  1\n",
       "69999  1  0\n",
       "\n",
       "[70000 rows x 2 columns]"
      ]
     },
     "execution_count": 9,
     "metadata": {},
     "output_type": "execute_result"
    }
   ],
   "source": [
    "y = pd.get_dummies(y)\n",
    "y"
   ]
  },
  {
   "cell_type": "code",
   "execution_count": 10,
   "metadata": {},
   "outputs": [],
   "source": [
    "from sklearn.model_selection import train_test_split\n",
    "X_train, X_test, y_train, y_test = train_test_split(X, y, random_state=33123)"
   ]
  },
  {
   "cell_type": "code",
   "execution_count": 11,
   "metadata": {},
   "outputs": [],
   "source": [
    "model = tf.keras.models.Sequential([\n",
    "    tf.keras.layers.Dense(11, activation='relu', input_shape=(11,)),\n",
    "    tf.keras.layers.Dense(30, activation='relu'),\n",
    "    tf.keras.layers.Dense(2, activation='softmax')\n",
    "])"
   ]
  },
  {
   "cell_type": "code",
   "execution_count": 12,
   "metadata": {},
   "outputs": [],
   "source": [
    "model.compile(optimizer=tf.keras.optimizers.Adam(0.001), loss=tf.keras.losses.CategoricalCrossentropy(), metrics=[tf.keras.metrics.CategoricalAccuracy()])"
   ]
  },
  {
   "cell_type": "code",
   "execution_count": 31,
   "metadata": {},
   "outputs": [
    {
     "name": "stdout",
     "output_type": "stream",
     "text": [
      "Epoch 1/10\n",
      "66/66 [==============================] - 0s 2ms/step - loss: 0.6249 - categorical_accuracy: 0.6495 - val_loss: 0.6288 - val_categorical_accuracy: 0.6447\n",
      "Epoch 2/10\n",
      "66/66 [==============================] - 0s 3ms/step - loss: 0.6249 - categorical_accuracy: 0.6490 - val_loss: 0.6293 - val_categorical_accuracy: 0.6435\n",
      "Epoch 3/10\n",
      "66/66 [==============================] - 0s 3ms/step - loss: 0.6248 - categorical_accuracy: 0.6493 - val_loss: 0.6278 - val_categorical_accuracy: 0.6451\n",
      "Epoch 4/10\n",
      "66/66 [==============================] - 0s 3ms/step - loss: 0.6244 - categorical_accuracy: 0.6510 - val_loss: 0.6276 - val_categorical_accuracy: 0.6438\n",
      "Epoch 5/10\n",
      "66/66 [==============================] - 0s 3ms/step - loss: 0.6240 - categorical_accuracy: 0.6502 - val_loss: 0.6274 - val_categorical_accuracy: 0.6455\n",
      "Epoch 6/10\n",
      "66/66 [==============================] - 0s 3ms/step - loss: 0.6239 - categorical_accuracy: 0.6498 - val_loss: 0.6270 - val_categorical_accuracy: 0.6451\n",
      "Epoch 7/10\n",
      "66/66 [==============================] - 0s 3ms/step - loss: 0.6236 - categorical_accuracy: 0.6509 - val_loss: 0.6272 - val_categorical_accuracy: 0.6458\n",
      "Epoch 8/10\n",
      "66/66 [==============================] - 0s 3ms/step - loss: 0.6235 - categorical_accuracy: 0.6516 - val_loss: 0.6274 - val_categorical_accuracy: 0.6462\n",
      "Epoch 9/10\n",
      "66/66 [==============================] - 0s 3ms/step - loss: 0.6234 - categorical_accuracy: 0.6517 - val_loss: 0.6266 - val_categorical_accuracy: 0.6451\n",
      "Epoch 10/10\n",
      "66/66 [==============================] - 0s 3ms/step - loss: 0.6232 - categorical_accuracy: 0.6521 - val_loss: 0.6269 - val_categorical_accuracy: 0.6450\n"
     ]
    },
    {
     "data": {
      "text/plain": [
       "<tensorflow.python.keras.callbacks.History at 0x7fd3904085d0>"
      ]
     },
     "execution_count": 31,
     "metadata": {},
     "output_type": "execute_result"
    }
   ],
   "source": [
    "model.fit(X_train, y_train, epochs=10, validation_data=(X_test, y_test), batch_size=800)"
   ]
  },
  {
   "cell_type": "code",
   "execution_count": 32,
   "metadata": {},
   "outputs": [],
   "source": [
    "from sklearn.ensemble import RandomForestClassifier\n",
    "yr = data.iloc[:, -1]"
   ]
  },
  {
   "cell_type": "code",
   "execution_count": 34,
   "metadata": {},
   "outputs": [
    {
     "data": {
      "text/plain": [
       "(array([0, 1]), array([35021, 34979]))"
      ]
     },
     "execution_count": 34,
     "metadata": {},
     "output_type": "execute_result"
    }
   ],
   "source": [
    "np.unique(yr, return_counts=True)"
   ]
  },
  {
   "cell_type": "code",
   "execution_count": 35,
   "metadata": {},
   "outputs": [],
   "source": [
    "rfc = RandomForestClassifier(n_estimators=200)\n",
    "Xr_train, Xr_test, yr_train, yr_test = train_test_split(X, yr, random_state=33123)"
   ]
  },
  {
   "cell_type": "code",
   "execution_count": 36,
   "metadata": {},
   "outputs": [
    {
     "data": {
      "text/plain": [
       "RandomForestClassifier(n_estimators=200)"
      ]
     },
     "execution_count": 36,
     "metadata": {},
     "output_type": "execute_result"
    }
   ],
   "source": [
    "rfc.fit(Xr_train, yr_train)"
   ]
  },
  {
   "cell_type": "code",
   "execution_count": 37,
   "metadata": {},
   "outputs": [],
   "source": [
    "from sklearn.metrics import classification_report"
   ]
  },
  {
   "cell_type": "code",
   "execution_count": 38,
   "metadata": {},
   "outputs": [
    {
     "name": "stdout",
     "output_type": "stream",
     "text": [
      "              precision    recall  f1-score   support\n",
      "\n",
      "           0       0.70      0.72      0.71      8652\n",
      "           1       0.72      0.70      0.71      8848\n",
      "\n",
      "    accuracy                           0.71     17500\n",
      "   macro avg       0.71      0.71      0.71     17500\n",
      "weighted avg       0.71      0.71      0.71     17500\n",
      "\n"
     ]
    }
   ],
   "source": [
    "y_pred = rfc.predict(Xr_test)\n",
    "print(classification_report(y_true=yr_test, y_pred=y_pred))"
   ]
  },
  {
   "cell_type": "code",
   "execution_count": 17,
   "metadata": {},
   "outputs": [],
   "source": [
    "model = tf.keras.models.Sequential([\n",
    "    tf.keras.layers.Dense(11, activation='relu', input_shape=(11,)),\n",
    "    tf.keras.layers.Dense(15, activation='relu'),\n",
    "    tf.keras.layers.Dense(25, activation='relu'),\n",
    "    tf.keras.layers.Dense(35, activation='relu'),\n",
    "    tf.keras.layers.Dense(2, activation='softmax')\n",
    "])\n",
    "model.compile(optimizer=tf.keras.optimizers.Adam(0.001), loss=tf.keras.losses.CategoricalCrossentropy(), metrics=[tf.keras.metrics.CategoricalAccuracy()])"
   ]
  },
  {
   "cell_type": "code",
   "execution_count": 18,
   "metadata": {},
   "outputs": [
    {
     "name": "stdout",
     "output_type": "stream",
     "text": [
      "Epoch 1/300\n",
      "1641/1641 [==============================] - 9s 4ms/step - loss: 0.6446 - categorical_accuracy: 0.6255 - val_loss: 0.6435 - val_categorical_accuracy: 0.6270\n",
      "Epoch 2/300\n",
      "1641/1641 [==============================] - 7s 4ms/step - loss: 0.6330 - categorical_accuracy: 0.6396 - val_loss: 0.6329 - val_categorical_accuracy: 0.6386\n",
      "Epoch 3/300\n",
      "1641/1641 [==============================] - 7s 4ms/step - loss: 0.6297 - categorical_accuracy: 0.6434 - val_loss: 0.6309 - val_categorical_accuracy: 0.6398\n",
      "Epoch 4/300\n",
      "1641/1641 [==============================] - 7s 4ms/step - loss: 0.6276 - categorical_accuracy: 0.6460 - val_loss: 0.6297 - val_categorical_accuracy: 0.6427\n",
      "Epoch 5/300\n",
      "1641/1641 [==============================] - 8s 5ms/step - loss: 0.6267 - categorical_accuracy: 0.6467 - val_loss: 0.6288 - val_categorical_accuracy: 0.6434\n",
      "Epoch 6/300\n",
      "1641/1641 [==============================] - 10s 6ms/step - loss: 0.6262 - categorical_accuracy: 0.6482 - val_loss: 0.6274 - val_categorical_accuracy: 0.6458\n",
      "Epoch 7/300\n",
      "1641/1641 [==============================] - 10s 6ms/step - loss: 0.6252 - categorical_accuracy: 0.6489 - val_loss: 0.6293 - val_categorical_accuracy: 0.6435\n",
      "Epoch 8/300\n",
      "1641/1641 [==============================] - 10s 6ms/step - loss: 0.6245 - categorical_accuracy: 0.6493 - val_loss: 0.6318 - val_categorical_accuracy: 0.6377\n",
      "Epoch 9/300\n",
      "1641/1641 [==============================] - 7s 5ms/step - loss: 0.6236 - categorical_accuracy: 0.6512 - val_loss: 0.6275 - val_categorical_accuracy: 0.6474\n",
      "Epoch 10/300\n",
      "1641/1641 [==============================] - 7s 4ms/step - loss: 0.6232 - categorical_accuracy: 0.6529 - val_loss: 0.6311 - val_categorical_accuracy: 0.6404\n",
      "Epoch 11/300\n",
      "1641/1641 [==============================] - 8s 5ms/step - loss: 0.6220 - categorical_accuracy: 0.6525 - val_loss: 0.6274 - val_categorical_accuracy: 0.6432\n",
      "Epoch 12/300\n",
      "1641/1641 [==============================] - 10s 6ms/step - loss: 0.6214 - categorical_accuracy: 0.6534 - val_loss: 0.6229 - val_categorical_accuracy: 0.6513\n",
      "Epoch 13/300\n",
      "1641/1641 [==============================] - 8s 5ms/step - loss: 0.6206 - categorical_accuracy: 0.6534 - val_loss: 0.6215 - val_categorical_accuracy: 0.6527\n",
      "Epoch 14/300\n",
      "1641/1641 [==============================] - 7s 4ms/step - loss: 0.6197 - categorical_accuracy: 0.6551 - val_loss: 0.6246 - val_categorical_accuracy: 0.6456\n",
      "Epoch 15/300\n",
      "1641/1641 [==============================] - 7s 4ms/step - loss: 0.6186 - categorical_accuracy: 0.6581 - val_loss: 0.6202 - val_categorical_accuracy: 0.6518\n",
      "Epoch 16/300\n",
      "1641/1641 [==============================] - 10s 6ms/step - loss: 0.6182 - categorical_accuracy: 0.6564 - val_loss: 0.6187 - val_categorical_accuracy: 0.6576\n",
      "Epoch 17/300\n",
      "1641/1641 [==============================] - 10s 6ms/step - loss: 0.6169 - categorical_accuracy: 0.6593 - val_loss: 0.6169 - val_categorical_accuracy: 0.6579\n",
      "Epoch 18/300\n",
      "1641/1641 [==============================] - 7s 4ms/step - loss: 0.6155 - categorical_accuracy: 0.6599 - val_loss: 0.6160 - val_categorical_accuracy: 0.6575\n",
      "Epoch 19/300\n",
      "1641/1641 [==============================] - 6s 3ms/step - loss: 0.6133 - categorical_accuracy: 0.6627 - val_loss: 0.6224 - val_categorical_accuracy: 0.6498\n",
      "Epoch 20/300\n",
      "1641/1641 [==============================] - 6s 4ms/step - loss: 0.6112 - categorical_accuracy: 0.6660 - val_loss: 0.6120 - val_categorical_accuracy: 0.6631\n",
      "Epoch 21/300\n",
      "1641/1641 [==============================] - 8s 5ms/step - loss: 0.6075 - categorical_accuracy: 0.6688 - val_loss: 0.6082 - val_categorical_accuracy: 0.6703\n",
      "Epoch 22/300\n",
      "1641/1641 [==============================] - 8s 5ms/step - loss: 0.6038 - categorical_accuracy: 0.6737 - val_loss: 0.6011 - val_categorical_accuracy: 0.6798\n",
      "Epoch 23/300\n",
      "1641/1641 [==============================] - 8s 5ms/step - loss: 0.5971 - categorical_accuracy: 0.6811 - val_loss: 0.6066 - val_categorical_accuracy: 0.6689\n",
      "Epoch 24/300\n",
      "1641/1641 [==============================] - 7s 4ms/step - loss: 0.5910 - categorical_accuracy: 0.6886 - val_loss: 0.5909 - val_categorical_accuracy: 0.6834\n",
      "Epoch 25/300\n",
      "1641/1641 [==============================] - 9s 5ms/step - loss: 0.5831 - categorical_accuracy: 0.6974 - val_loss: 0.5785 - val_categorical_accuracy: 0.7056\n",
      "Epoch 26/300\n",
      "1641/1641 [==============================] - 8s 5ms/step - loss: 0.5793 - categorical_accuracy: 0.7025 - val_loss: 0.5894 - val_categorical_accuracy: 0.6859\n",
      "Epoch 27/300\n",
      "1641/1641 [==============================] - 7s 4ms/step - loss: 0.5801 - categorical_accuracy: 0.7002 - val_loss: 0.5720 - val_categorical_accuracy: 0.7162\n",
      "Epoch 28/300\n",
      "1641/1641 [==============================] - 6s 3ms/step - loss: 0.5740 - categorical_accuracy: 0.7080 - val_loss: 0.5720 - val_categorical_accuracy: 0.7157\n",
      "Epoch 29/300\n",
      "1641/1641 [==============================] - 4s 2ms/step - loss: 0.5730 - categorical_accuracy: 0.7092 - val_loss: 0.5671 - val_categorical_accuracy: 0.7186\n",
      "Epoch 30/300\n",
      "1641/1641 [==============================] - 4s 2ms/step - loss: 0.5725 - categorical_accuracy: 0.7093 - val_loss: 0.5663 - val_categorical_accuracy: 0.7222\n",
      "Epoch 31/300\n",
      "1641/1641 [==============================] - 5s 3ms/step - loss: 0.5714 - categorical_accuracy: 0.7079 - val_loss: 0.5847 - val_categorical_accuracy: 0.6997\n",
      "Epoch 32/300\n",
      "1641/1641 [==============================] - 5s 3ms/step - loss: 0.5719 - categorical_accuracy: 0.7089 - val_loss: 0.5722 - val_categorical_accuracy: 0.7079\n",
      "Epoch 33/300\n",
      "1641/1641 [==============================] - 5s 3ms/step - loss: 0.5701 - categorical_accuracy: 0.7097 - val_loss: 0.5751 - val_categorical_accuracy: 0.7119\n",
      "Epoch 34/300\n",
      "1641/1641 [==============================] - 5s 3ms/step - loss: 0.5703 - categorical_accuracy: 0.7103 - val_loss: 0.5700 - val_categorical_accuracy: 0.7131\n",
      "Epoch 35/300\n",
      "1641/1641 [==============================] - 5s 3ms/step - loss: 0.5685 - categorical_accuracy: 0.7119 - val_loss: 0.5673 - val_categorical_accuracy: 0.7161\n",
      "Epoch 36/300\n",
      "1641/1641 [==============================] - 5s 3ms/step - loss: 0.5666 - categorical_accuracy: 0.7157 - val_loss: 0.5882 - val_categorical_accuracy: 0.6986\n",
      "Epoch 37/300\n",
      "1641/1641 [==============================] - 5s 3ms/step - loss: 0.5672 - categorical_accuracy: 0.7137 - val_loss: 0.5749 - val_categorical_accuracy: 0.7129\n",
      "Epoch 38/300\n",
      "1641/1641 [==============================] - 5s 3ms/step - loss: 0.5690 - categorical_accuracy: 0.7106 - val_loss: 0.5721 - val_categorical_accuracy: 0.7115\n",
      "Epoch 39/300\n",
      "1641/1641 [==============================] - 5s 3ms/step - loss: 0.5665 - categorical_accuracy: 0.7131 - val_loss: 0.5862 - val_categorical_accuracy: 0.6909\n",
      "Epoch 40/300\n",
      "1641/1641 [==============================] - 4s 3ms/step - loss: 0.5667 - categorical_accuracy: 0.7138 - val_loss: 0.5684 - val_categorical_accuracy: 0.7147\n",
      "Epoch 41/300\n",
      "1641/1641 [==============================] - 4s 2ms/step - loss: 0.5656 - categorical_accuracy: 0.7146 - val_loss: 0.5675 - val_categorical_accuracy: 0.7123\n",
      "Epoch 42/300\n",
      "1641/1641 [==============================] - 5s 3ms/step - loss: 0.5668 - categorical_accuracy: 0.7136 - val_loss: 0.5755 - val_categorical_accuracy: 0.7111\n",
      "Epoch 43/300\n",
      "1641/1641 [==============================] - 5s 3ms/step - loss: 0.5650 - categorical_accuracy: 0.7162 - val_loss: 0.5596 - val_categorical_accuracy: 0.7243\n",
      "Epoch 44/300\n",
      "1641/1641 [==============================] - 5s 3ms/step - loss: 0.5653 - categorical_accuracy: 0.7158 - val_loss: 0.5780 - val_categorical_accuracy: 0.7044\n",
      "Epoch 45/300\n",
      "1641/1641 [==============================] - 5s 3ms/step - loss: 0.5646 - categorical_accuracy: 0.7165 - val_loss: 0.5711 - val_categorical_accuracy: 0.7128\n",
      "Epoch 46/300\n",
      "1641/1641 [==============================] - 5s 3ms/step - loss: 0.5630 - categorical_accuracy: 0.7159 - val_loss: 0.5720 - val_categorical_accuracy: 0.7155\n",
      "Epoch 47/300\n",
      "1641/1641 [==============================] - 5s 3ms/step - loss: 0.5645 - categorical_accuracy: 0.7168 - val_loss: 0.5782 - val_categorical_accuracy: 0.7005\n",
      "Epoch 48/300\n",
      "1641/1641 [==============================] - 5s 3ms/step - loss: 0.5631 - categorical_accuracy: 0.7156 - val_loss: 0.5643 - val_categorical_accuracy: 0.7185\n",
      "Epoch 49/300\n",
      "1641/1641 [==============================] - 5s 3ms/step - loss: 0.5641 - categorical_accuracy: 0.7156 - val_loss: 0.5737 - val_categorical_accuracy: 0.7107\n",
      "Epoch 50/300\n",
      "1641/1641 [==============================] - 5s 3ms/step - loss: 0.5639 - categorical_accuracy: 0.7132 - val_loss: 0.5594 - val_categorical_accuracy: 0.7212\n",
      "Epoch 51/300\n",
      "1641/1641 [==============================] - 5s 3ms/step - loss: 0.5639 - categorical_accuracy: 0.7155 - val_loss: 0.5694 - val_categorical_accuracy: 0.7064\n",
      "Epoch 52/300\n",
      "1641/1641 [==============================] - 5s 3ms/step - loss: 0.5629 - categorical_accuracy: 0.7174 - val_loss: 0.5614 - val_categorical_accuracy: 0.7219\n",
      "Epoch 53/300\n",
      "1641/1641 [==============================] - 5s 3ms/step - loss: 0.5608 - categorical_accuracy: 0.7193 - val_loss: 0.5597 - val_categorical_accuracy: 0.7216\n",
      "Epoch 54/300\n",
      "1641/1641 [==============================] - 5s 3ms/step - loss: 0.5635 - categorical_accuracy: 0.7158 - val_loss: 0.5598 - val_categorical_accuracy: 0.7199\n",
      "Epoch 55/300\n",
      "1641/1641 [==============================] - 5s 3ms/step - loss: 0.5630 - categorical_accuracy: 0.7166 - val_loss: 0.5681 - val_categorical_accuracy: 0.7137\n",
      "Epoch 56/300\n",
      "1641/1641 [==============================] - 5s 3ms/step - loss: 0.5613 - categorical_accuracy: 0.7192 - val_loss: 0.5584 - val_categorical_accuracy: 0.7238\n",
      "Epoch 57/300\n",
      "1641/1641 [==============================] - 5s 3ms/step - loss: 0.5606 - categorical_accuracy: 0.7186 - val_loss: 0.6147 - val_categorical_accuracy: 0.6815\n",
      "Epoch 58/300\n",
      "1641/1641 [==============================] - 6s 4ms/step - loss: 0.5615 - categorical_accuracy: 0.7177 - val_loss: 0.5612 - val_categorical_accuracy: 0.7198\n",
      "Epoch 59/300\n",
      "1641/1641 [==============================] - 6s 4ms/step - loss: 0.5609 - categorical_accuracy: 0.7183 - val_loss: 0.5611 - val_categorical_accuracy: 0.7196\n",
      "Epoch 60/300\n",
      "1641/1641 [==============================] - 6s 3ms/step - loss: 0.5626 - categorical_accuracy: 0.7151 - val_loss: 0.5664 - val_categorical_accuracy: 0.7179\n",
      "Epoch 61/300\n",
      "1641/1641 [==============================] - 5s 3ms/step - loss: 0.5590 - categorical_accuracy: 0.7195 - val_loss: 0.5546 - val_categorical_accuracy: 0.7281\n",
      "Epoch 62/300\n",
      "1641/1641 [==============================] - 5s 3ms/step - loss: 0.5595 - categorical_accuracy: 0.7199 - val_loss: 0.5713 - val_categorical_accuracy: 0.7124\n",
      "Epoch 63/300\n",
      "1641/1641 [==============================] - 6s 3ms/step - loss: 0.5601 - categorical_accuracy: 0.7187 - val_loss: 0.5571 - val_categorical_accuracy: 0.7234\n",
      "Epoch 64/300\n",
      "1641/1641 [==============================] - 5s 3ms/step - loss: 0.5616 - categorical_accuracy: 0.7167 - val_loss: 0.5652 - val_categorical_accuracy: 0.7151\n",
      "Epoch 65/300\n",
      "1641/1641 [==============================] - 6s 3ms/step - loss: 0.5595 - categorical_accuracy: 0.7192 - val_loss: 0.5694 - val_categorical_accuracy: 0.7150\n",
      "Epoch 66/300\n",
      "1641/1641 [==============================] - 6s 3ms/step - loss: 0.5609 - categorical_accuracy: 0.7170 - val_loss: 0.5672 - val_categorical_accuracy: 0.7145\n",
      "Epoch 67/300\n",
      "1641/1641 [==============================] - 6s 3ms/step - loss: 0.5592 - categorical_accuracy: 0.7195 - val_loss: 0.5686 - val_categorical_accuracy: 0.7139\n",
      "Epoch 68/300\n",
      "1641/1641 [==============================] - 6s 3ms/step - loss: 0.5590 - categorical_accuracy: 0.7198 - val_loss: 0.5666 - val_categorical_accuracy: 0.7127\n",
      "Epoch 69/300\n",
      "1641/1641 [==============================] - 6s 3ms/step - loss: 0.5601 - categorical_accuracy: 0.7179 - val_loss: 0.5728 - val_categorical_accuracy: 0.7102\n",
      "Epoch 70/300\n",
      "1641/1641 [==============================] - 6s 4ms/step - loss: 0.5581 - categorical_accuracy: 0.7208 - val_loss: 0.5689 - val_categorical_accuracy: 0.7136\n",
      "Epoch 71/300\n",
      "1641/1641 [==============================] - 5s 3ms/step - loss: 0.5606 - categorical_accuracy: 0.7176 - val_loss: 0.5577 - val_categorical_accuracy: 0.7226\n",
      "Epoch 72/300\n",
      "1641/1641 [==============================] - 6s 4ms/step - loss: 0.5605 - categorical_accuracy: 0.7161 - val_loss: 0.5888 - val_categorical_accuracy: 0.6944\n",
      "Epoch 73/300\n",
      "1641/1641 [==============================] - 6s 3ms/step - loss: 0.5589 - categorical_accuracy: 0.7198 - val_loss: 0.5965 - val_categorical_accuracy: 0.6777\n",
      "Epoch 74/300\n",
      "1641/1641 [==============================] - 5s 3ms/step - loss: 0.5573 - categorical_accuracy: 0.7211 - val_loss: 0.5695 - val_categorical_accuracy: 0.7176\n",
      "Epoch 75/300\n",
      "1641/1641 [==============================] - 6s 4ms/step - loss: 0.5574 - categorical_accuracy: 0.7216 - val_loss: 0.5610 - val_categorical_accuracy: 0.7198\n",
      "Epoch 76/300\n",
      "1641/1641 [==============================] - 6s 4ms/step - loss: 0.5578 - categorical_accuracy: 0.7206 - val_loss: 0.5730 - val_categorical_accuracy: 0.7098\n",
      "Epoch 77/300\n",
      "1641/1641 [==============================] - 6s 4ms/step - loss: 0.5585 - categorical_accuracy: 0.7198 - val_loss: 0.5689 - val_categorical_accuracy: 0.7149\n",
      "Epoch 78/300\n",
      "1641/1641 [==============================] - 6s 4ms/step - loss: 0.5581 - categorical_accuracy: 0.7201 - val_loss: 0.5617 - val_categorical_accuracy: 0.7195\n",
      "Epoch 79/300\n",
      "1641/1641 [==============================] - 6s 3ms/step - loss: 0.5562 - categorical_accuracy: 0.7222 - val_loss: 0.5641 - val_categorical_accuracy: 0.7183\n",
      "Epoch 80/300\n",
      "1641/1641 [==============================] - 5s 3ms/step - loss: 0.5587 - categorical_accuracy: 0.7190 - val_loss: 0.5822 - val_categorical_accuracy: 0.6968\n",
      "Epoch 81/300\n",
      "1641/1641 [==============================] - 5s 3ms/step - loss: 0.5597 - categorical_accuracy: 0.7186 - val_loss: 0.5574 - val_categorical_accuracy: 0.7218\n",
      "Epoch 82/300\n",
      "1641/1641 [==============================] - 6s 4ms/step - loss: 0.5576 - categorical_accuracy: 0.7223 - val_loss: 0.5629 - val_categorical_accuracy: 0.7150\n",
      "Epoch 83/300\n",
      "1641/1641 [==============================] - 6s 4ms/step - loss: 0.5572 - categorical_accuracy: 0.7219 - val_loss: 0.5531 - val_categorical_accuracy: 0.7258\n",
      "Epoch 84/300\n",
      "1641/1641 [==============================] - 6s 4ms/step - loss: 0.5567 - categorical_accuracy: 0.7221 - val_loss: 0.5571 - val_categorical_accuracy: 0.7255\n",
      "Epoch 85/300\n",
      "1641/1641 [==============================] - 6s 4ms/step - loss: 0.5568 - categorical_accuracy: 0.7210 - val_loss: 0.5568 - val_categorical_accuracy: 0.7232\n",
      "Epoch 86/300\n",
      "1641/1641 [==============================] - 6s 4ms/step - loss: 0.5570 - categorical_accuracy: 0.7198 - val_loss: 0.5554 - val_categorical_accuracy: 0.7264\n",
      "Epoch 87/300\n",
      "1641/1641 [==============================] - 6s 4ms/step - loss: 0.5576 - categorical_accuracy: 0.7186 - val_loss: 0.5645 - val_categorical_accuracy: 0.7193\n",
      "Epoch 88/300\n",
      "1641/1641 [==============================] - 6s 4ms/step - loss: 0.5561 - categorical_accuracy: 0.7212 - val_loss: 0.5599 - val_categorical_accuracy: 0.7236\n",
      "Epoch 89/300\n",
      "1641/1641 [==============================] - 6s 4ms/step - loss: 0.5558 - categorical_accuracy: 0.7218 - val_loss: 0.5608 - val_categorical_accuracy: 0.7220\n",
      "Epoch 90/300\n",
      "1641/1641 [==============================] - 6s 4ms/step - loss: 0.5559 - categorical_accuracy: 0.7221 - val_loss: 0.5798 - val_categorical_accuracy: 0.7004\n",
      "Epoch 91/300\n",
      "1641/1641 [==============================] - 6s 4ms/step - loss: 0.5549 - categorical_accuracy: 0.7237 - val_loss: 0.5552 - val_categorical_accuracy: 0.7253\n",
      "Epoch 92/300\n",
      "1641/1641 [==============================] - 6s 4ms/step - loss: 0.5560 - categorical_accuracy: 0.7237 - val_loss: 0.5650 - val_categorical_accuracy: 0.7153\n",
      "Epoch 93/300\n",
      "1641/1641 [==============================] - 6s 4ms/step - loss: 0.5546 - categorical_accuracy: 0.7244 - val_loss: 0.5579 - val_categorical_accuracy: 0.7203\n",
      "Epoch 94/300\n",
      "1641/1641 [==============================] - 5s 3ms/step - loss: 0.5553 - categorical_accuracy: 0.7228 - val_loss: 0.5584 - val_categorical_accuracy: 0.7196\n",
      "Epoch 95/300\n",
      "1531/1641 [==========================>...] - ETA: 0s - loss: 0.5568 - categorical_accuracy: 0.7204"
     ]
    },
    {
     "ename": "KeyboardInterrupt",
     "evalue": "",
     "output_type": "error",
     "traceback": [
      "\u001b[1;31m---------------------------------------------------------------------------\u001b[0m",
      "\u001b[1;31mKeyboardInterrupt\u001b[0m                         Traceback (most recent call last)",
      "\u001b[1;32mc:\\Users\\Skygate OPR5\\Desktop\\Projects\\Machine Learning python\\7Learn\\NeuralNetworksHeart.ipynb Cell 21\u001b[0m in \u001b[0;36m<cell line: 1>\u001b[1;34m()\u001b[0m\n\u001b[1;32m----> <a href='vscode-notebook-cell:/c%3A/Users/Skygate%20OPR5/Desktop/Projects/Machine%20Learning%20python/7Learn/NeuralNetworksHeart.ipynb#ch0000019?line=0'>1</a>\u001b[0m model\u001b[39m.\u001b[39;49mfit(X_train, y_train, epochs\u001b[39m=\u001b[39;49m\u001b[39m300\u001b[39;49m, validation_data\u001b[39m=\u001b[39;49m(X_test, y_test))\n",
      "File \u001b[1;32mc:\\Users\\Skygate OPR5\\AppData\\Local\\Programs\\Python\\Python310\\lib\\site-packages\\keras\\utils\\traceback_utils.py:64\u001b[0m, in \u001b[0;36mfilter_traceback.<locals>.error_handler\u001b[1;34m(*args, **kwargs)\u001b[0m\n\u001b[0;32m     62\u001b[0m filtered_tb \u001b[39m=\u001b[39m \u001b[39mNone\u001b[39;00m\n\u001b[0;32m     63\u001b[0m \u001b[39mtry\u001b[39;00m:\n\u001b[1;32m---> 64\u001b[0m   \u001b[39mreturn\u001b[39;00m fn(\u001b[39m*\u001b[39margs, \u001b[39m*\u001b[39m\u001b[39m*\u001b[39mkwargs)\n\u001b[0;32m     65\u001b[0m \u001b[39mexcept\u001b[39;00m \u001b[39mException\u001b[39;00m \u001b[39mas\u001b[39;00m e:  \u001b[39m# pylint: disable=broad-except\u001b[39;00m\n\u001b[0;32m     66\u001b[0m   filtered_tb \u001b[39m=\u001b[39m _process_traceback_frames(e\u001b[39m.\u001b[39m__traceback__)\n",
      "File \u001b[1;32mc:\\Users\\Skygate OPR5\\AppData\\Local\\Programs\\Python\\Python310\\lib\\site-packages\\keras\\engine\\training.py:1409\u001b[0m, in \u001b[0;36mModel.fit\u001b[1;34m(self, x, y, batch_size, epochs, verbose, callbacks, validation_split, validation_data, shuffle, class_weight, sample_weight, initial_epoch, steps_per_epoch, validation_steps, validation_batch_size, validation_freq, max_queue_size, workers, use_multiprocessing)\u001b[0m\n\u001b[0;32m   1402\u001b[0m \u001b[39mwith\u001b[39;00m tf\u001b[39m.\u001b[39mprofiler\u001b[39m.\u001b[39mexperimental\u001b[39m.\u001b[39mTrace(\n\u001b[0;32m   1403\u001b[0m     \u001b[39m'\u001b[39m\u001b[39mtrain\u001b[39m\u001b[39m'\u001b[39m,\n\u001b[0;32m   1404\u001b[0m     epoch_num\u001b[39m=\u001b[39mepoch,\n\u001b[0;32m   1405\u001b[0m     step_num\u001b[39m=\u001b[39mstep,\n\u001b[0;32m   1406\u001b[0m     batch_size\u001b[39m=\u001b[39mbatch_size,\n\u001b[0;32m   1407\u001b[0m     _r\u001b[39m=\u001b[39m\u001b[39m1\u001b[39m):\n\u001b[0;32m   1408\u001b[0m   callbacks\u001b[39m.\u001b[39mon_train_batch_begin(step)\n\u001b[1;32m-> 1409\u001b[0m   tmp_logs \u001b[39m=\u001b[39m \u001b[39mself\u001b[39;49m\u001b[39m.\u001b[39;49mtrain_function(iterator)\n\u001b[0;32m   1410\u001b[0m   \u001b[39mif\u001b[39;00m data_handler\u001b[39m.\u001b[39mshould_sync:\n\u001b[0;32m   1411\u001b[0m     context\u001b[39m.\u001b[39masync_wait()\n",
      "File \u001b[1;32mc:\\Users\\Skygate OPR5\\AppData\\Local\\Programs\\Python\\Python310\\lib\\site-packages\\tensorflow\\python\\util\\traceback_utils.py:150\u001b[0m, in \u001b[0;36mfilter_traceback.<locals>.error_handler\u001b[1;34m(*args, **kwargs)\u001b[0m\n\u001b[0;32m    148\u001b[0m filtered_tb \u001b[39m=\u001b[39m \u001b[39mNone\u001b[39;00m\n\u001b[0;32m    149\u001b[0m \u001b[39mtry\u001b[39;00m:\n\u001b[1;32m--> 150\u001b[0m   \u001b[39mreturn\u001b[39;00m fn(\u001b[39m*\u001b[39margs, \u001b[39m*\u001b[39m\u001b[39m*\u001b[39mkwargs)\n\u001b[0;32m    151\u001b[0m \u001b[39mexcept\u001b[39;00m \u001b[39mException\u001b[39;00m \u001b[39mas\u001b[39;00m e:\n\u001b[0;32m    152\u001b[0m   filtered_tb \u001b[39m=\u001b[39m _process_traceback_frames(e\u001b[39m.\u001b[39m__traceback__)\n",
      "File \u001b[1;32mc:\\Users\\Skygate OPR5\\AppData\\Local\\Programs\\Python\\Python310\\lib\\site-packages\\tensorflow\\python\\eager\\def_function.py:915\u001b[0m, in \u001b[0;36mFunction.__call__\u001b[1;34m(self, *args, **kwds)\u001b[0m\n\u001b[0;32m    912\u001b[0m compiler \u001b[39m=\u001b[39m \u001b[39m\"\u001b[39m\u001b[39mxla\u001b[39m\u001b[39m\"\u001b[39m \u001b[39mif\u001b[39;00m \u001b[39mself\u001b[39m\u001b[39m.\u001b[39m_jit_compile \u001b[39melse\u001b[39;00m \u001b[39m\"\u001b[39m\u001b[39mnonXla\u001b[39m\u001b[39m\"\u001b[39m\n\u001b[0;32m    914\u001b[0m \u001b[39mwith\u001b[39;00m OptionalXlaContext(\u001b[39mself\u001b[39m\u001b[39m.\u001b[39m_jit_compile):\n\u001b[1;32m--> 915\u001b[0m   result \u001b[39m=\u001b[39m \u001b[39mself\u001b[39m\u001b[39m.\u001b[39m_call(\u001b[39m*\u001b[39margs, \u001b[39m*\u001b[39m\u001b[39m*\u001b[39mkwds)\n\u001b[0;32m    917\u001b[0m new_tracing_count \u001b[39m=\u001b[39m \u001b[39mself\u001b[39m\u001b[39m.\u001b[39mexperimental_get_tracing_count()\n\u001b[0;32m    918\u001b[0m without_tracing \u001b[39m=\u001b[39m (tracing_count \u001b[39m==\u001b[39m new_tracing_count)\n",
      "File \u001b[1;32mc:\\Users\\Skygate OPR5\\AppData\\Local\\Programs\\Python\\Python310\\lib\\site-packages\\tensorflow\\python\\eager\\def_function.py:947\u001b[0m, in \u001b[0;36mFunction._call\u001b[1;34m(self, *args, **kwds)\u001b[0m\n\u001b[0;32m    944\u001b[0m   \u001b[39mself\u001b[39m\u001b[39m.\u001b[39m_lock\u001b[39m.\u001b[39mrelease()\n\u001b[0;32m    945\u001b[0m   \u001b[39m# In this case we have created variables on the first call, so we run the\u001b[39;00m\n\u001b[0;32m    946\u001b[0m   \u001b[39m# defunned version which is guaranteed to never create variables.\u001b[39;00m\n\u001b[1;32m--> 947\u001b[0m   \u001b[39mreturn\u001b[39;00m \u001b[39mself\u001b[39m\u001b[39m.\u001b[39m_stateless_fn(\u001b[39m*\u001b[39margs, \u001b[39m*\u001b[39m\u001b[39m*\u001b[39mkwds)  \u001b[39m# pylint: disable=not-callable\u001b[39;00m\n\u001b[0;32m    948\u001b[0m \u001b[39melif\u001b[39;00m \u001b[39mself\u001b[39m\u001b[39m.\u001b[39m_stateful_fn \u001b[39mis\u001b[39;00m \u001b[39mnot\u001b[39;00m \u001b[39mNone\u001b[39;00m:\n\u001b[0;32m    949\u001b[0m   \u001b[39m# Release the lock early so that multiple threads can perform the call\u001b[39;00m\n\u001b[0;32m    950\u001b[0m   \u001b[39m# in parallel.\u001b[39;00m\n\u001b[0;32m    951\u001b[0m   \u001b[39mself\u001b[39m\u001b[39m.\u001b[39m_lock\u001b[39m.\u001b[39mrelease()\n",
      "File \u001b[1;32mc:\\Users\\Skygate OPR5\\AppData\\Local\\Programs\\Python\\Python310\\lib\\site-packages\\tensorflow\\python\\eager\\function.py:2453\u001b[0m, in \u001b[0;36mFunction.__call__\u001b[1;34m(self, *args, **kwargs)\u001b[0m\n\u001b[0;32m   2450\u001b[0m \u001b[39mwith\u001b[39;00m \u001b[39mself\u001b[39m\u001b[39m.\u001b[39m_lock:\n\u001b[0;32m   2451\u001b[0m   (graph_function,\n\u001b[0;32m   2452\u001b[0m    filtered_flat_args) \u001b[39m=\u001b[39m \u001b[39mself\u001b[39m\u001b[39m.\u001b[39m_maybe_define_function(args, kwargs)\n\u001b[1;32m-> 2453\u001b[0m \u001b[39mreturn\u001b[39;00m graph_function\u001b[39m.\u001b[39;49m_call_flat(\n\u001b[0;32m   2454\u001b[0m     filtered_flat_args, captured_inputs\u001b[39m=\u001b[39;49mgraph_function\u001b[39m.\u001b[39;49mcaptured_inputs)\n",
      "File \u001b[1;32mc:\\Users\\Skygate OPR5\\AppData\\Local\\Programs\\Python\\Python310\\lib\\site-packages\\tensorflow\\python\\eager\\function.py:1860\u001b[0m, in \u001b[0;36mConcreteFunction._call_flat\u001b[1;34m(self, args, captured_inputs, cancellation_manager)\u001b[0m\n\u001b[0;32m   1856\u001b[0m possible_gradient_type \u001b[39m=\u001b[39m gradients_util\u001b[39m.\u001b[39mPossibleTapeGradientTypes(args)\n\u001b[0;32m   1857\u001b[0m \u001b[39mif\u001b[39;00m (possible_gradient_type \u001b[39m==\u001b[39m gradients_util\u001b[39m.\u001b[39mPOSSIBLE_GRADIENT_TYPES_NONE\n\u001b[0;32m   1858\u001b[0m     \u001b[39mand\u001b[39;00m executing_eagerly):\n\u001b[0;32m   1859\u001b[0m   \u001b[39m# No tape is watching; skip to running the function.\u001b[39;00m\n\u001b[1;32m-> 1860\u001b[0m   \u001b[39mreturn\u001b[39;00m \u001b[39mself\u001b[39m\u001b[39m.\u001b[39m_build_call_outputs(\u001b[39mself\u001b[39;49m\u001b[39m.\u001b[39;49m_inference_function\u001b[39m.\u001b[39;49mcall(\n\u001b[0;32m   1861\u001b[0m       ctx, args, cancellation_manager\u001b[39m=\u001b[39;49mcancellation_manager))\n\u001b[0;32m   1862\u001b[0m forward_backward \u001b[39m=\u001b[39m \u001b[39mself\u001b[39m\u001b[39m.\u001b[39m_select_forward_and_backward_functions(\n\u001b[0;32m   1863\u001b[0m     args,\n\u001b[0;32m   1864\u001b[0m     possible_gradient_type,\n\u001b[0;32m   1865\u001b[0m     executing_eagerly)\n\u001b[0;32m   1866\u001b[0m forward_function, args_with_tangents \u001b[39m=\u001b[39m forward_backward\u001b[39m.\u001b[39mforward()\n",
      "File \u001b[1;32mc:\\Users\\Skygate OPR5\\AppData\\Local\\Programs\\Python\\Python310\\lib\\site-packages\\tensorflow\\python\\eager\\function.py:497\u001b[0m, in \u001b[0;36m_EagerDefinedFunction.call\u001b[1;34m(self, ctx, args, cancellation_manager)\u001b[0m\n\u001b[0;32m    495\u001b[0m \u001b[39mwith\u001b[39;00m _InterpolateFunctionError(\u001b[39mself\u001b[39m):\n\u001b[0;32m    496\u001b[0m   \u001b[39mif\u001b[39;00m cancellation_manager \u001b[39mis\u001b[39;00m \u001b[39mNone\u001b[39;00m:\n\u001b[1;32m--> 497\u001b[0m     outputs \u001b[39m=\u001b[39m execute\u001b[39m.\u001b[39;49mexecute(\n\u001b[0;32m    498\u001b[0m         \u001b[39mstr\u001b[39;49m(\u001b[39mself\u001b[39;49m\u001b[39m.\u001b[39;49msignature\u001b[39m.\u001b[39;49mname),\n\u001b[0;32m    499\u001b[0m         num_outputs\u001b[39m=\u001b[39;49m\u001b[39mself\u001b[39;49m\u001b[39m.\u001b[39;49m_num_outputs,\n\u001b[0;32m    500\u001b[0m         inputs\u001b[39m=\u001b[39;49margs,\n\u001b[0;32m    501\u001b[0m         attrs\u001b[39m=\u001b[39;49mattrs,\n\u001b[0;32m    502\u001b[0m         ctx\u001b[39m=\u001b[39;49mctx)\n\u001b[0;32m    503\u001b[0m   \u001b[39melse\u001b[39;00m:\n\u001b[0;32m    504\u001b[0m     outputs \u001b[39m=\u001b[39m execute\u001b[39m.\u001b[39mexecute_with_cancellation(\n\u001b[0;32m    505\u001b[0m         \u001b[39mstr\u001b[39m(\u001b[39mself\u001b[39m\u001b[39m.\u001b[39msignature\u001b[39m.\u001b[39mname),\n\u001b[0;32m    506\u001b[0m         num_outputs\u001b[39m=\u001b[39m\u001b[39mself\u001b[39m\u001b[39m.\u001b[39m_num_outputs,\n\u001b[1;32m   (...)\u001b[0m\n\u001b[0;32m    509\u001b[0m         ctx\u001b[39m=\u001b[39mctx,\n\u001b[0;32m    510\u001b[0m         cancellation_manager\u001b[39m=\u001b[39mcancellation_manager)\n",
      "File \u001b[1;32mc:\\Users\\Skygate OPR5\\AppData\\Local\\Programs\\Python\\Python310\\lib\\site-packages\\tensorflow\\python\\eager\\execute.py:54\u001b[0m, in \u001b[0;36mquick_execute\u001b[1;34m(op_name, num_outputs, inputs, attrs, ctx, name)\u001b[0m\n\u001b[0;32m     52\u001b[0m \u001b[39mtry\u001b[39;00m:\n\u001b[0;32m     53\u001b[0m   ctx\u001b[39m.\u001b[39mensure_initialized()\n\u001b[1;32m---> 54\u001b[0m   tensors \u001b[39m=\u001b[39m pywrap_tfe\u001b[39m.\u001b[39;49mTFE_Py_Execute(ctx\u001b[39m.\u001b[39;49m_handle, device_name, op_name,\n\u001b[0;32m     55\u001b[0m                                       inputs, attrs, num_outputs)\n\u001b[0;32m     56\u001b[0m \u001b[39mexcept\u001b[39;00m core\u001b[39m.\u001b[39m_NotOkStatusException \u001b[39mas\u001b[39;00m e:\n\u001b[0;32m     57\u001b[0m   \u001b[39mif\u001b[39;00m name \u001b[39mis\u001b[39;00m \u001b[39mnot\u001b[39;00m \u001b[39mNone\u001b[39;00m:\n",
      "\u001b[1;31mKeyboardInterrupt\u001b[0m: "
     ]
    }
   ],
   "source": [
    "model.fit(X_train, y_train, epochs=300, validation_data=(X_test, y_test))"
   ]
  },
  {
   "cell_type": "code",
   "execution_count": 15,
   "metadata": {},
   "outputs": [
    {
     "name": "stdout",
     "output_type": "stream",
     "text": [
      "Model: \"sequential_1\"\n",
      "_________________________________________________________________\n",
      " Layer (type)                Output Shape              Param #   \n",
      "=================================================================\n",
      " dense_3 (Dense)             (None, 11)                132       \n",
      "                                                                 \n",
      " dense_4 (Dense)             (None, 20)                240       \n",
      "                                                                 \n",
      " dense_5 (Dense)             (None, 10)                210       \n",
      "                                                                 \n",
      " dense_6 (Dense)             (None, 15)                165       \n",
      "                                                                 \n",
      " dense_7 (Dense)             (None, 2)                 32        \n",
      "                                                                 \n",
      "=================================================================\n",
      "Total params: 779\n",
      "Trainable params: 779\n",
      "Non-trainable params: 0\n",
      "_________________________________________________________________\n"
     ]
    }
   ],
   "source": [
    "model.summary()"
   ]
  },
  {
   "cell_type": "code",
   "execution_count": 16,
   "metadata": {},
   "outputs": [
    {
     "name": "stdout",
     "output_type": "stream",
     "text": [
      "547/547 [==============================] - 2s 2ms/step\n"
     ]
    },
    {
     "data": {
      "text/plain": [
       "array([0.5301521 , 0.46984795], dtype=float32)"
      ]
     },
     "execution_count": 16,
     "metadata": {},
     "output_type": "execute_result"
    }
   ],
   "source": [
    "model.predict(X_test)[3]"
   ]
  }
 ],
 "metadata": {
  "kernelspec": {
   "display_name": "Python 3.10.2 64-bit",
   "language": "python",
   "name": "python3"
  },
  "language_info": {
   "codemirror_mode": {
    "name": "ipython",
    "version": 3
   },
   "file_extension": ".py",
   "mimetype": "text/x-python",
   "name": "python",
   "nbconvert_exporter": "python",
   "pygments_lexer": "ipython3",
   "version": "3.10.2"
  },
  "vscode": {
   "interpreter": {
    "hash": "0354d326129403289107761bee1c2024935d02ad6cbe1c7dd64c392723c72e60"
   }
  }
 },
 "nbformat": 4,
 "nbformat_minor": 4
}
